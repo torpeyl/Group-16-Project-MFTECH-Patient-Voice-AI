{
  "cells": [
    {
      "cell_type": "markdown",
      "metadata": {
        "id": "ueYfMuBMA8La"
      },
      "source": [
        "Load dependencies:"
      ]
    },
    {
      "cell_type": "code",
      "execution_count": null,
      "metadata": {
        "collapsed": true,
        "id": "CmOQfRarA6Sq"
      },
      "outputs": [],
      "source": [
        "!pip install opensmile\n",
        "!pip install tensorflow_io\n",
        "import os\n",
        "import numpy as np\n",
        "import librosa\n",
        "import opensmile\n",
        "import math\n",
        "import scipy\n",
        "import tensorflow as tf\n",
        "import tensorflow_io as tfio\n",
        "\n",
        "directory = \"/content/drive/MyDrive/PatientVoiceAI/data\"\n",
        "model_dir = \"/content/drive/MyDrive/PatientVoiceAI/saved_models\""
      ]
    },
    {
      "cell_type": "markdown",
      "metadata": {
        "id": "8GHN_bCuFZ7l"
      },
      "source": [
        "Load and preprocess raw audio files in the dataset:"
      ]
    },
    {
      "cell_type": "code",
      "execution_count": 2,
      "metadata": {
        "colab": {
          "base_uri": "https://localhost:8080/"
        },
        "id": "R8Jszyt37RJZ",
        "outputId": "fa82bc90-3955-482a-f9ce-6b7a2d3f3b73"
      },
      "outputs": [
        {
          "name": "stdout",
          "output_type": "stream",
          "text": [
            "(5051, 110250)\n",
            "[ 0.03695566  0.04142303  0.01117673 ... -0.00433899 -0.0128603\n",
            " -0.02826079]\n",
            "(5051,)\n",
            "0\n"
          ]
        }
      ],
      "source": [
        "def preprocess(x, chunksize):\n",
        "    x_len = len(x)\n",
        "    if x_len < chunksize:   # padding\n",
        "        # processed = np.pad(x, (0,chunksize-x_len))  # right-pad with zero\n",
        "        processed = np.resize(x, (chunksize,))        # repeat padding\n",
        "    elif x_len > chunksize: # splitting\n",
        "        tailing = x_len % chunksize\n",
        "        if tailing != 0:                # handle uneven splits: create overlap for the last chunk\n",
        "            x = np.concatenate((x[:-tailing], x[-chunksize:]))\n",
        "        num_chunks = int(round(len(x)/chunksize))\n",
        "        processed = np.array_split(x,num_chunks)\n",
        "    else:                   # no change\n",
        "        processed = np.array(x)\n",
        "    return processed\n",
        "\n",
        "def get_dataset(label, label_index, chunksize):\n",
        "    x_set = []\n",
        "    folder = os.path.join(directory, label)\n",
        "    for filename in os.listdir(folder):\n",
        "        f = os.path.join(folder, filename)\n",
        "        if os.path.isfile(f):\n",
        "            audio, sample_rate = librosa.load(f)\n",
        "            x_set.append(preprocess(audio,chunksize))\n",
        "    x_set = np.vstack(x_set)\n",
        "    y_set = np.repeat([label_index[label]],len(x_set))\n",
        "    return x_set,y_set\n",
        "\n",
        "\n",
        "classes = [\"coughing\", \"sneezing\", \"speech\", \"silence\"]\n",
        "\n",
        "label_index = {\n",
        "    \"coughing\":0,\n",
        "    \"sneezing\":1,\n",
        "    \"speech\":2,\n",
        "    \"silence\":3\n",
        "}\n",
        "\n",
        "sample_rate = 22050   # default sample rate in librosa\n",
        "chunksize = 5*sample_rate   # length in seconds * sampling rate\n",
        "\n",
        "\n",
        "## initialise the dataset\n",
        "x_set = []\n",
        "y_set = []\n",
        "for label in classes:\n",
        "    x_subset, y_subset = get_dataset(label,label_index,chunksize)\n",
        "    x_set.extend(x_subset)\n",
        "    y_set.extend(y_subset)\n",
        "\n",
        "x_set = np.asarray(x_set).astype('float32')\n",
        "y_set = np.asarray(y_set)\n",
        "\n",
        "print(np.shape(x_set))\n",
        "print(x_set[0])\n",
        "print(np.shape(y_set))\n",
        "print(y_set[0])\n",
        "\n"
      ]
    },
    {
      "cell_type": "markdown",
      "metadata": {
        "id": "6JiXnefGFeU_"
      },
      "source": [
        "Define a function to get OpenSmile features:"
      ]
    },
    {
      "cell_type": "code",
      "execution_count": null,
      "metadata": {
        "colab": {
          "base_uri": "https://localhost:8080/"
        },
        "id": "0HWWv0NeFp2o",
        "outputId": "d4429753-a3f7-430e-8b22-332417a00bf5"
      },
      "outputs": [
        {
          "name": "stdout",
          "output_type": "stream",
          "text": [
            "(13143, 95, 6)\n"
          ]
        }
      ],
      "source": [
        "# Feature Level: Low Level Descriptors\n",
        "# NOT USED\n",
        "def get_features_llds(x, sr=sample_rate):\n",
        "    smile_llds = opensmile.Smile(\n",
        "        feature_set=opensmile.FeatureSet.eGeMAPSv02,\n",
        "        feature_level=opensmile.FeatureLevel.LowLevelDescriptors,\n",
        "    )\n",
        "    llds = smile_llds.process_signal(x,sr)\n",
        "\n",
        "    ## spectral features\n",
        "    mfcc1 = np.array(llds['mfcc1_sma3'])\n",
        "    flux = np.array(llds['spectralFlux_sma3'])\n",
        "    # h1_a3 = np.array(llds['logRelF0-H1-A3_sma3nz'])\n",
        "    # hammarberg =  np.array(llds['hammarbergIndex_sma3'])\n",
        "\n",
        "    ## prosodic features\n",
        "    loudness = np.array(llds['Loudness_sma3'])\n",
        "    pitch = np.array(llds['F0semitoneFrom27.5Hz_sma3nz'])     # F0 envelope\n",
        "    shimmer = np.array(llds['shimmerLocaldB_sma3nz'])\n",
        "    jitter = np.array(llds['jitterLocal_sma3nz'])\n",
        "    # hnr =  np.array(llds['HNRdBACF_sma3nz'])\n",
        "    # f1freq = np.array(llds['F1frequency_sma3nz'])\n",
        "    # f1band = np.array(llds['F1bandwidth_sma3nz'])\n",
        "    # f1amp = np.array(llds['F1amplitudeLogRelF0_sma3nz'])\n",
        "    # f2freq = np.array(llds['F2frequency_sma3nz'])\n",
        "    # f3freq = np.array(llds['F3frequency_sma3nz'])\n",
        "\n",
        "    ## create the feature vector\n",
        "    feature = np.vstack((\n",
        "        mfcc1,\n",
        "        flux,          #\n",
        "        # h1_a3,\n",
        "        # hammarberg,\n",
        "        loudness,\n",
        "        pitch,          #\n",
        "        jitter,\n",
        "        shimmer,       #\n",
        "        # hnr,\n",
        "        # f1freq,\n",
        "        # f1band,\n",
        "        # f1amp,\n",
        "        # f2freq,\n",
        "        # f3freq,\n",
        "        )).transpose()\n",
        "\n",
        "    return feature\n",
        "\n",
        "\n",
        "# x_set_features = []\n",
        "# for x in x_set:\n",
        "#     x_set_features.append(get_features_llds(x))\n",
        "# x_set_features = np.asarray(x_set_features)\n",
        "# print(np.shape(x_set_features))"
      ]
    },
    {
      "cell_type": "code",
      "execution_count": 4,
      "metadata": {
        "colab": {
          "base_uri": "https://localhost:8080/"
        },
        "id": "v2EtV1lsvuO-",
        "outputId": "27965061-4cbb-46f6-f2a2-1c54a7cb1bce"
      },
      "outputs": [
        {
          "name": "stdout",
          "output_type": "stream",
          "text": [
            "progress: 0/5051\n",
            "progress: 100/5051\n",
            "progress: 200/5051\n",
            "progress: 300/5051\n",
            "progress: 400/5051\n",
            "progress: 500/5051\n",
            "progress: 600/5051\n",
            "progress: 700/5051\n",
            "progress: 800/5051\n",
            "progress: 900/5051\n",
            "progress: 1000/5051\n",
            "progress: 1100/5051\n",
            "progress: 1200/5051\n",
            "progress: 1300/5051\n",
            "progress: 1400/5051\n",
            "progress: 1500/5051\n",
            "progress: 1600/5051\n",
            "progress: 1700/5051\n",
            "progress: 1800/5051\n",
            "progress: 1900/5051\n",
            "progress: 2000/5051\n",
            "progress: 2100/5051\n",
            "progress: 2200/5051\n",
            "progress: 2300/5051\n",
            "progress: 2400/5051\n",
            "progress: 2500/5051\n",
            "progress: 2600/5051\n",
            "progress: 2700/5051\n",
            "progress: 2800/5051\n",
            "progress: 2900/5051\n",
            "progress: 3000/5051\n",
            "progress: 3100/5051\n",
            "progress: 3200/5051\n",
            "progress: 3300/5051\n",
            "progress: 3400/5051\n",
            "progress: 3500/5051\n",
            "progress: 3600/5051\n",
            "progress: 3700/5051\n",
            "progress: 3800/5051\n",
            "progress: 3900/5051\n",
            "progress: 4000/5051\n",
            "progress: 4100/5051\n",
            "progress: 4200/5051\n",
            "progress: 4300/5051\n",
            "progress: 4400/5051\n",
            "progress: 4500/5051\n",
            "progress: 4600/5051\n",
            "progress: 4700/5051\n",
            "progress: 4800/5051\n",
            "progress: 4900/5051\n",
            "progress: 5000/5051\n",
            "(5051, 9, 88)\n"
          ]
        }
      ],
      "source": [
        "# Feature Level: Functionals\n",
        "def get_functionals(x, sr=sample_rate):\n",
        "    window_size = 1*sr\n",
        "    step_size = int(0.5*sr)\n",
        "    start_index = 0\n",
        "\n",
        "    smile_functionals = opensmile.Smile(\n",
        "        feature_set=opensmile.FeatureSet.eGeMAPSv02,\n",
        "        feature_level=opensmile.FeatureLevel.Functionals,\n",
        "    )\n",
        "\n",
        "    functionals = []\n",
        "    while (start_index+window_size) <= len(x):\n",
        "        end_index = start_index+window_size\n",
        "        x_slice = x[start_index:end_index]\n",
        "        start_index += step_size\n",
        "\n",
        "        functionals_slice = smile_functionals.process_signal(x_slice, sr)\n",
        "        functionals.append(functionals_slice)\n",
        "    return np.squeeze(functionals)\n",
        "\n",
        "\n",
        "# testing:\n",
        "# print(np.shape(get_functionals(x_set[0])))\n",
        "\n",
        "counter=0\n",
        "x_set_features = []\n",
        "for x in x_set:\n",
        "    x_set_features.append(get_functionals(x))\n",
        "    if counter%100 == 0:\n",
        "      print(f\"progress: {counter}/{len(x_set)}\")\n",
        "    counter +=1\n",
        "x_set_features = np.asarray(x_set_features)\n",
        "print(np.shape(x_set_features))"
      ]
    },
    {
      "cell_type": "markdown",
      "metadata": {
        "id": "oqrfVOSgwikl"
      },
      "source": [
        "Store the dataset into a .csv file:"
      ]
    },
    {
      "cell_type": "code",
      "execution_count": null,
      "metadata": {
        "id": "s3RMsBIywiRO"
      },
      "outputs": [],
      "source": [
        "# preprocessed_dataset = np.hstack((x_set, np.expand_dims(y_set,axis=1)))\n",
        "# np.savetxt('preprocessed_dataset.csv', preprocessed_dataset, fmt=\"%d\", delimiter=\",\")"
      ]
    },
    {
      "cell_type": "markdown",
      "metadata": {
        "id": "mV1zHlQbx2bU"
      },
      "source": [
        "Shuffle and split the dataset:"
      ]
    },
    {
      "cell_type": "code",
      "execution_count": 5,
      "metadata": {
        "colab": {
          "base_uri": "https://localhost:8080/"
        },
        "id": "ffc74cYSAVj4",
        "outputId": "ee5749a3-24c4-49b2-a6f6-1de0434e454b"
      },
      "outputs": [
        {
          "name": "stdout",
          "output_type": "stream",
          "text": [
            "(4040, 9, 88)\n",
            "(505, 9, 88)\n",
            "(506, 9, 88)\n"
          ]
        }
      ],
      "source": [
        "#Parameters for shuffling\n",
        "seed = 42\n",
        "np.random.seed(seed)\n",
        "N = len(y_set)\n",
        "\n",
        "shuffled_indices = np.random.permutation(N)\n",
        "\n",
        "# Apply the shuffled indices to both data and labels\n",
        "x_set = x_set_features[shuffled_indices]\n",
        "y_set = y_set[shuffled_indices]\n",
        "\n",
        "\n",
        "split_size_val = int(0.8*N)\n",
        "split_size_test = int(0.9*N)\n",
        "\n",
        "x_train, x_val, x_test = x_set[:split_size_val], x_set[split_size_val:split_size_test], x_set[split_size_test:]\n",
        "y_train, y_val, y_test = y_set[:split_size_val], y_set[split_size_val:split_size_test], y_set[split_size_test:]\n",
        "\n",
        "print(np.shape(x_train))\n",
        "print(np.shape(x_val))\n",
        "print(np.shape(x_test))"
      ]
    },
    {
      "cell_type": "markdown",
      "metadata": {
        "id": "aOuuvEsV5FPm"
      },
      "source": [
        "Build a model:"
      ]
    },
    {
      "cell_type": "code",
      "execution_count": 59,
      "metadata": {
        "id": "TDXcZx6T5E1l"
      },
      "outputs": [],
      "source": [
        "\"\"\"\n",
        "      Model structure designed according to this paper: https://www.isca-archive.org/interspeech_2021/karas21_interspeech.html\n",
        "\"\"\"\n",
        "\n",
        "from tensorflow import keras\n",
        "from keras import layers as L\n",
        "from keras import backend as K\n",
        "from keras.utils import to_categorical\n",
        "from keras.callbacks import EarlyStopping, ModelCheckpoint, LearningRateScheduler\n",
        "from keras import backend as K\n",
        "from keras import optimizers\n",
        "from keras.models import Model, load_model\n",
        "\n",
        "\n",
        "def AttRNNSpeechModel(nCategories, samplingrate=sample_rate,\n",
        "                      inputLength=None, rnn_func=L.LSTM):\n",
        "    # simple LSTM\n",
        "    sr = samplingrate\n",
        "    iLen = 9  # inputLength\n",
        "    num_of_features = 88\n",
        "\n",
        "    inputs = L.Input((iLen,num_of_features), name='input')\n",
        "    x = tf.expand_dims(inputs, axis=-1, name='functionals')\n",
        "    x = L.BatchNormalization()(x)\n",
        "    x = L.Lambda(lambda q: K.squeeze(q, -1), name='squeeze_last_dim')(x)\n",
        "\n",
        "    # x = L.LSTM(64, return_sequences=True)(x)\n",
        "    # x = L.LSTM(32, return_sequences=True)(x)\n",
        "    x = L.Bidirectional(L.LSTM(64, return_sequences=True))(x)\n",
        "    x = L.Bidirectional(L.LSTM(64, return_sequences=True))(x)\n",
        "    x = L.GlobalAveragePooling1D()(x)\n",
        "    x = L.Dense(64, activation='relu')(x)\n",
        "    x = L.Dense(32)(x)\n",
        "    x = L.Dropout(rate=0.3)(x)\n",
        "\n",
        "    output = L.Dense(nCategories, activation='softmax', name='output')(x)\n",
        "\n",
        "    model = Model(inputs=[inputs], outputs=[output])\n",
        "\n",
        "    return model"
      ]
    },
    {
      "cell_type": "markdown",
      "metadata": {
        "id": "VEeJ9x4b8HUK"
      },
      "source": [
        "Create a model:"
      ]
    },
    {
      "cell_type": "code",
      "execution_count": 60,
      "metadata": {
        "colab": {
          "base_uri": "https://localhost:8080/"
        },
        "id": "5vl49hiB7cvA",
        "outputId": "87a731ee-ec7e-406f-a358-cf85e14ab88a"
      },
      "outputs": [
        {
          "name": "stdout",
          "output_type": "stream",
          "text": [
            "Model: \"model_15\"\n",
            "_________________________________________________________________\n",
            " Layer (type)                Output Shape              Param #   \n",
            "=================================================================\n",
            " input (InputLayer)          [(None, 9, 88)]           0         \n",
            "                                                                 \n",
            " tf.expand_dims_12 (TFOpLam  (None, 9, 88, 1)          0         \n",
            " bda)                                                            \n",
            "                                                                 \n",
            " batch_normalization_16 (Ba  (None, 9, 88, 1)          4         \n",
            " tchNormalization)                                               \n",
            "                                                                 \n",
            " squeeze_last_dim (Lambda)   (None, 9, 88)             0         \n",
            "                                                                 \n",
            " bidirectional_16 (Bidirect  (None, 9, 128)            78336     \n",
            " ional)                                                          \n",
            "                                                                 \n",
            " bidirectional_17 (Bidirect  (None, 9, 128)            98816     \n",
            " ional)                                                          \n",
            "                                                                 \n",
            " global_average_pooling1d_9  (None, 128)               0         \n",
            "  (GlobalAveragePooling1D)                                       \n",
            "                                                                 \n",
            " dense_22 (Dense)            (None, 64)                8256      \n",
            "                                                                 \n",
            " dense_23 (Dense)            (None, 32)                2080      \n",
            "                                                                 \n",
            " dropout_15 (Dropout)        (None, 32)                0         \n",
            "                                                                 \n",
            " output (Dense)              (None, 4)                 132       \n",
            "                                                                 \n",
            "=================================================================\n",
            "Total params: 187624 (732.91 KB)\n",
            "Trainable params: 187622 (732.90 KB)\n",
            "Non-trainable params: 2 (8.00 Byte)\n",
            "_________________________________________________________________\n"
          ]
        }
      ],
      "source": [
        "nCategs = len(classes)\n",
        "model = AttRNNSpeechModel(nCategs, samplingrate = sample_rate, inputLength = None)#, rnn_func=L.LSTM)\n",
        "\n",
        "model.compile(optimizer='adam', loss=['sparse_categorical_crossentropy'], metrics=['sparse_categorical_accuracy'])\n",
        "model.summary()"
      ]
    },
    {
      "cell_type": "markdown",
      "metadata": {
        "id": "chHPtaR1BDS_"
      },
      "source": [
        "Train the model:"
      ]
    },
    {
      "cell_type": "code",
      "execution_count": 61,
      "metadata": {
        "colab": {
          "base_uri": "https://localhost:8080/"
        },
        "id": "uHIn42VDEe5b",
        "outputId": "fcc7c06c-f70d-4a84-b1c6-49fad6adfb00"
      },
      "outputs": [
        {
          "name": "stdout",
          "output_type": "stream",
          "text": [
            "Changing learning rate to 0.001\n",
            "Epoch 1/70\n",
            "127/127 [==============================] - ETA: 0s - loss: 0.7414 - sparse_categorical_accuracy: 0.6960\n",
            "Epoch 1: val_sparse_categorical_accuracy improved from -inf to 0.77426, saving model to /content/drive/MyDrive/PatientVoiceAI/saved_models/model-functionals-RNN.h5\n"
          ]
        },
        {
          "name": "stderr",
          "output_type": "stream",
          "text": [
            "/usr/local/lib/python3.10/dist-packages/keras/src/engine/training.py:3103: UserWarning: You are saving your model as an HDF5 file via `model.save()`. This file format is considered legacy. We recommend using instead the native Keras format, e.g. `model.save('my_model.keras')`.\n",
            "  saving_api.save_model(\n"
          ]
        },
        {
          "name": "stdout",
          "output_type": "stream",
          "text": [
            "\b\b\b\b\b\b\b\b\b\b\b\b\b\b\b\b\b\b\b\b\b\b\b\b\b\b\b\b\b\b\b\b\b\b\b\b\b\b\b\b\b\b\b\b\b\b\b\b\b\b\b\b\b\b\b\b\b\b\b\b\b\b\b\b\b\b\b\b\b\b\b\b\b\b\b\b\b\b\b\b\b\b\b\b\b\b\b\b\b\b\b\b\b\b\b\b\b\b\b\b\b\b\b\r127/127 [==============================] - 16s 64ms/step - loss: 0.7414 - sparse_categorical_accuracy: 0.6960 - val_loss: 0.5807 - val_sparse_categorical_accuracy: 0.7743 - lr: 0.0010\n",
            "Changing learning rate to 0.001\n",
            "Epoch 2/70\n",
            "126/127 [============================>.] - ETA: 0s - loss: 0.5283 - sparse_categorical_accuracy: 0.8001\n",
            "Epoch 2: val_sparse_categorical_accuracy improved from 0.77426 to 0.78812, saving model to /content/drive/MyDrive/PatientVoiceAI/saved_models/model-functionals-RNN.h5\n",
            "127/127 [==============================] - 4s 31ms/step - loss: 0.5291 - sparse_categorical_accuracy: 0.8000 - val_loss: 0.5026 - val_sparse_categorical_accuracy: 0.7881 - lr: 0.0010\n",
            "Changing learning rate to 0.001\n",
            "Epoch 3/70\n",
            "125/127 [============================>.] - ETA: 0s - loss: 0.5295 - sparse_categorical_accuracy: 0.8012\n",
            "Epoch 3: val_sparse_categorical_accuracy improved from 0.78812 to 0.84158, saving model to /content/drive/MyDrive/PatientVoiceAI/saved_models/model-functionals-RNN.h5\n",
            "127/127 [==============================] - 4s 31ms/step - loss: 0.5284 - sparse_categorical_accuracy: 0.8012 - val_loss: 0.4634 - val_sparse_categorical_accuracy: 0.8416 - lr: 0.0010\n",
            "Changing learning rate to 0.001\n",
            "Epoch 4/70\n",
            "127/127 [==============================] - ETA: 0s - loss: 0.4936 - sparse_categorical_accuracy: 0.8151\n",
            "Epoch 4: val_sparse_categorical_accuracy did not improve from 0.84158\n",
            "127/127 [==============================] - 6s 48ms/step - loss: 0.4936 - sparse_categorical_accuracy: 0.8151 - val_loss: 0.4743 - val_sparse_categorical_accuracy: 0.7960 - lr: 0.0010\n",
            "Changing learning rate to 0.001\n",
            "Epoch 5/70\n",
            "125/127 [============================>.] - ETA: 0s - loss: 0.4767 - sparse_categorical_accuracy: 0.8173\n",
            "Epoch 5: val_sparse_categorical_accuracy did not improve from 0.84158\n",
            "127/127 [==============================] - 4s 29ms/step - loss: 0.4761 - sparse_categorical_accuracy: 0.8178 - val_loss: 0.4269 - val_sparse_categorical_accuracy: 0.8277 - lr: 0.0010\n",
            "Changing learning rate to 0.001\n",
            "Epoch 6/70\n",
            "125/127 [============================>.] - ETA: 0s - loss: 0.4566 - sparse_categorical_accuracy: 0.8307\n",
            "Epoch 6: val_sparse_categorical_accuracy did not improve from 0.84158\n",
            "127/127 [==============================] - 4s 29ms/step - loss: 0.4576 - sparse_categorical_accuracy: 0.8297 - val_loss: 0.4206 - val_sparse_categorical_accuracy: 0.8238 - lr: 0.0010\n",
            "Changing learning rate to 0.001\n",
            "Epoch 7/70\n",
            "126/127 [============================>.] - ETA: 0s - loss: 0.4655 - sparse_categorical_accuracy: 0.8227\n",
            "Epoch 7: val_sparse_categorical_accuracy did not improve from 0.84158\n",
            "127/127 [==============================] - 5s 37ms/step - loss: 0.4652 - sparse_categorical_accuracy: 0.8225 - val_loss: 0.4410 - val_sparse_categorical_accuracy: 0.8376 - lr: 0.0010\n",
            "Changing learning rate to 0.001\n",
            "Epoch 8/70\n",
            "126/127 [============================>.] - ETA: 0s - loss: 0.4337 - sparse_categorical_accuracy: 0.8410\n",
            "Epoch 8: val_sparse_categorical_accuracy did not improve from 0.84158\n",
            "127/127 [==============================] - 6s 51ms/step - loss: 0.4333 - sparse_categorical_accuracy: 0.8411 - val_loss: 0.5038 - val_sparse_categorical_accuracy: 0.8139 - lr: 0.0010\n",
            "Changing learning rate to 0.001\n",
            "Epoch 9/70\n",
            "126/127 [============================>.] - ETA: 0s - loss: 0.4206 - sparse_categorical_accuracy: 0.8425\n",
            "Epoch 9: val_sparse_categorical_accuracy did not improve from 0.84158\n",
            "127/127 [==============================] - 4s 30ms/step - loss: 0.4216 - sparse_categorical_accuracy: 0.8421 - val_loss: 0.4207 - val_sparse_categorical_accuracy: 0.8218 - lr: 0.0010\n",
            "Changing learning rate to 0.001\n",
            "Epoch 10/70\n",
            "127/127 [==============================] - ETA: 0s - loss: 0.4394 - sparse_categorical_accuracy: 0.8334\n",
            "Epoch 10: val_sparse_categorical_accuracy improved from 0.84158 to 0.85545, saving model to /content/drive/MyDrive/PatientVoiceAI/saved_models/model-functionals-RNN.h5\n",
            "127/127 [==============================] - 4s 34ms/step - loss: 0.4394 - sparse_categorical_accuracy: 0.8334 - val_loss: 0.4625 - val_sparse_categorical_accuracy: 0.8554 - lr: 0.0010\n",
            "Changing learning rate to 0.001\n",
            "Epoch 11/70\n",
            "126/127 [============================>.] - ETA: 0s - loss: 0.4047 - sparse_categorical_accuracy: 0.8534\n",
            "Epoch 11: val_sparse_categorical_accuracy improved from 0.85545 to 0.86139, saving model to /content/drive/MyDrive/PatientVoiceAI/saved_models/model-functionals-RNN.h5\n",
            "127/127 [==============================] - 6s 47ms/step - loss: 0.4042 - sparse_categorical_accuracy: 0.8537 - val_loss: 0.3572 - val_sparse_categorical_accuracy: 0.8614 - lr: 0.0010\n",
            "Changing learning rate to 0.001\n",
            "Epoch 12/70\n",
            "125/127 [============================>.] - ETA: 0s - loss: 0.4227 - sparse_categorical_accuracy: 0.8435\n",
            "Epoch 12: val_sparse_categorical_accuracy did not improve from 0.86139\n",
            "127/127 [==============================] - 4s 30ms/step - loss: 0.4228 - sparse_categorical_accuracy: 0.8438 - val_loss: 0.3880 - val_sparse_categorical_accuracy: 0.8297 - lr: 0.0010\n",
            "Changing learning rate to 0.001\n",
            "Epoch 13/70\n",
            "127/127 [==============================] - ETA: 0s - loss: 0.4075 - sparse_categorical_accuracy: 0.8505\n",
            "Epoch 13: val_sparse_categorical_accuracy improved from 0.86139 to 0.86535, saving model to /content/drive/MyDrive/PatientVoiceAI/saved_models/model-functionals-RNN.h5\n",
            "127/127 [==============================] - 4s 31ms/step - loss: 0.4075 - sparse_categorical_accuracy: 0.8505 - val_loss: 0.3840 - val_sparse_categorical_accuracy: 0.8653 - lr: 0.0010\n",
            "Changing learning rate to 0.001\n",
            "Epoch 14/70\n",
            "127/127 [==============================] - ETA: 0s - loss: 0.4016 - sparse_categorical_accuracy: 0.8463\n",
            "Epoch 14: val_sparse_categorical_accuracy did not improve from 0.86535\n",
            "127/127 [==============================] - 6s 46ms/step - loss: 0.4016 - sparse_categorical_accuracy: 0.8463 - val_loss: 0.3564 - val_sparse_categorical_accuracy: 0.8653 - lr: 0.0010\n",
            "Changing learning rate to 0.0004\n",
            "Epoch 15/70\n",
            "126/127 [============================>.] - ETA: 0s - loss: 0.3601 - sparse_categorical_accuracy: 0.8681\n",
            "Epoch 15: val_sparse_categorical_accuracy did not improve from 0.86535\n",
            "127/127 [==============================] - 4s 32ms/step - loss: 0.3605 - sparse_categorical_accuracy: 0.8681 - val_loss: 0.3692 - val_sparse_categorical_accuracy: 0.8356 - lr: 4.0000e-04\n",
            "Changing learning rate to 0.0004\n",
            "Epoch 16/70\n",
            "125/127 [============================>.] - ETA: 0s - loss: 0.3599 - sparse_categorical_accuracy: 0.8725\n",
            "Epoch 16: val_sparse_categorical_accuracy improved from 0.86535 to 0.88119, saving model to /content/drive/MyDrive/PatientVoiceAI/saved_models/model-functionals-RNN.h5\n",
            "127/127 [==============================] - 4s 33ms/step - loss: 0.3610 - sparse_categorical_accuracy: 0.8720 - val_loss: 0.3382 - val_sparse_categorical_accuracy: 0.8812 - lr: 4.0000e-04\n",
            "Changing learning rate to 0.0004\n",
            "Epoch 17/70\n",
            "126/127 [============================>.] - ETA: 0s - loss: 0.3561 - sparse_categorical_accuracy: 0.8690\n",
            "Epoch 17: val_sparse_categorical_accuracy improved from 0.88119 to 0.88713, saving model to /content/drive/MyDrive/PatientVoiceAI/saved_models/model-functionals-RNN.h5\n",
            "127/127 [==============================] - 5s 41ms/step - loss: 0.3557 - sparse_categorical_accuracy: 0.8693 - val_loss: 0.3470 - val_sparse_categorical_accuracy: 0.8871 - lr: 4.0000e-04\n",
            "Changing learning rate to 0.0004\n",
            "Epoch 18/70\n",
            "126/127 [============================>.] - ETA: 0s - loss: 0.3719 - sparse_categorical_accuracy: 0.8708\n",
            "Epoch 18: val_sparse_categorical_accuracy did not improve from 0.88713\n",
            "127/127 [==============================] - 5s 38ms/step - loss: 0.3717 - sparse_categorical_accuracy: 0.8708 - val_loss: 0.3477 - val_sparse_categorical_accuracy: 0.8495 - lr: 4.0000e-04\n",
            "Changing learning rate to 0.0004\n",
            "Epoch 19/70\n",
            "127/127 [==============================] - ETA: 0s - loss: 0.3475 - sparse_categorical_accuracy: 0.8772\n",
            "Epoch 19: val_sparse_categorical_accuracy did not improve from 0.88713\n",
            "127/127 [==============================] - 4s 30ms/step - loss: 0.3475 - sparse_categorical_accuracy: 0.8772 - val_loss: 0.3120 - val_sparse_categorical_accuracy: 0.8812 - lr: 4.0000e-04\n",
            "Changing learning rate to 0.0004\n",
            "Epoch 20/70\n",
            "126/127 [============================>.] - ETA: 0s - loss: 0.3447 - sparse_categorical_accuracy: 0.8748\n",
            "Epoch 20: val_sparse_categorical_accuracy did not improve from 0.88713\n",
            "127/127 [==============================] - 4s 33ms/step - loss: 0.3444 - sparse_categorical_accuracy: 0.8750 - val_loss: 0.3215 - val_sparse_categorical_accuracy: 0.8812 - lr: 4.0000e-04\n",
            "Changing learning rate to 0.0004\n",
            "Epoch 21/70\n",
            "126/127 [============================>.] - ETA: 0s - loss: 0.3352 - sparse_categorical_accuracy: 0.8790\n",
            "Epoch 21: val_sparse_categorical_accuracy did not improve from 0.88713\n",
            "127/127 [==============================] - 6s 47ms/step - loss: 0.3348 - sparse_categorical_accuracy: 0.8792 - val_loss: 0.3196 - val_sparse_categorical_accuracy: 0.8614 - lr: 4.0000e-04\n",
            "Changing learning rate to 0.0004\n",
            "Epoch 22/70\n",
            "125/127 [============================>.] - ETA: 0s - loss: 0.3325 - sparse_categorical_accuracy: 0.8798\n",
            "Epoch 22: val_sparse_categorical_accuracy did not improve from 0.88713\n",
            "127/127 [==============================] - 4s 31ms/step - loss: 0.3310 - sparse_categorical_accuracy: 0.8804 - val_loss: 0.3075 - val_sparse_categorical_accuracy: 0.8812 - lr: 4.0000e-04\n",
            "Changing learning rate to 0.0004\n",
            "Epoch 23/70\n",
            "125/127 [============================>.] - ETA: 0s - loss: 0.3263 - sparse_categorical_accuracy: 0.8850\n",
            "Epoch 23: val_sparse_categorical_accuracy did not improve from 0.88713\n",
            "127/127 [==============================] - 4s 31ms/step - loss: 0.3261 - sparse_categorical_accuracy: 0.8842 - val_loss: 0.3293 - val_sparse_categorical_accuracy: 0.8554 - lr: 4.0000e-04\n",
            "Changing learning rate to 0.0004\n",
            "Epoch 24/70\n",
            "126/127 [============================>.] - ETA: 0s - loss: 0.3202 - sparse_categorical_accuracy: 0.8854\n",
            "Epoch 24: val_sparse_categorical_accuracy did not improve from 0.88713\n",
            "127/127 [==============================] - 6s 44ms/step - loss: 0.3206 - sparse_categorical_accuracy: 0.8849 - val_loss: 0.3267 - val_sparse_categorical_accuracy: 0.8673 - lr: 4.0000e-04\n",
            "Changing learning rate to 0.0004\n",
            "Epoch 25/70\n",
            "126/127 [============================>.] - ETA: 0s - loss: 0.3170 - sparse_categorical_accuracy: 0.8869\n",
            "Epoch 25: val_sparse_categorical_accuracy improved from 0.88713 to 0.89307, saving model to /content/drive/MyDrive/PatientVoiceAI/saved_models/model-functionals-RNN.h5\n",
            "127/127 [==============================] - 5s 37ms/step - loss: 0.3165 - sparse_categorical_accuracy: 0.8871 - val_loss: 0.3086 - val_sparse_categorical_accuracy: 0.8931 - lr: 4.0000e-04\n",
            "Changing learning rate to 0.0004\n",
            "Epoch 26/70\n",
            "125/127 [============================>.] - ETA: 0s - loss: 0.3124 - sparse_categorical_accuracy: 0.8888\n",
            "Epoch 26: val_sparse_categorical_accuracy did not improve from 0.89307\n",
            "127/127 [==============================] - 4s 31ms/step - loss: 0.3111 - sparse_categorical_accuracy: 0.8894 - val_loss: 0.3000 - val_sparse_categorical_accuracy: 0.8851 - lr: 4.0000e-04\n",
            "Changing learning rate to 0.0004\n",
            "Epoch 27/70\n",
            "126/127 [============================>.] - ETA: 0s - loss: 0.3236 - sparse_categorical_accuracy: 0.8807\n",
            "Epoch 27: val_sparse_categorical_accuracy did not improve from 0.89307\n",
            "127/127 [==============================] - 5s 41ms/step - loss: 0.3236 - sparse_categorical_accuracy: 0.8807 - val_loss: 0.3074 - val_sparse_categorical_accuracy: 0.8693 - lr: 4.0000e-04\n",
            "Changing learning rate to 0.0004\n",
            "Epoch 28/70\n",
            "126/127 [============================>.] - ETA: 0s - loss: 0.2956 - sparse_categorical_accuracy: 0.8943\n",
            "Epoch 28: val_sparse_categorical_accuracy did not improve from 0.89307\n",
            "127/127 [==============================] - 5s 40ms/step - loss: 0.2955 - sparse_categorical_accuracy: 0.8943 - val_loss: 0.3553 - val_sparse_categorical_accuracy: 0.8832 - lr: 4.0000e-04\n",
            "Changing learning rate to 0.0004\n",
            "Epoch 29/70\n",
            "127/127 [==============================] - ETA: 0s - loss: 0.2962 - sparse_categorical_accuracy: 0.8955\n",
            "Epoch 29: val_sparse_categorical_accuracy did not improve from 0.89307\n",
            "127/127 [==============================] - 4s 31ms/step - loss: 0.2962 - sparse_categorical_accuracy: 0.8955 - val_loss: 0.3398 - val_sparse_categorical_accuracy: 0.8693 - lr: 4.0000e-04\n",
            "Changing learning rate to 0.00016000000000000004\n",
            "Epoch 30/70\n",
            "127/127 [==============================] - ETA: 0s - loss: 0.2701 - sparse_categorical_accuracy: 0.9035\n",
            "Epoch 30: val_sparse_categorical_accuracy did not improve from 0.89307\n",
            "127/127 [==============================] - 4s 32ms/step - loss: 0.2701 - sparse_categorical_accuracy: 0.9035 - val_loss: 0.3092 - val_sparse_categorical_accuracy: 0.8752 - lr: 1.6000e-04\n",
            "Changing learning rate to 0.00016000000000000004\n",
            "Epoch 31/70\n",
            "127/127 [==============================] - ETA: 0s - loss: 0.2686 - sparse_categorical_accuracy: 0.9050\n",
            "Epoch 31: val_sparse_categorical_accuracy did not improve from 0.89307\n",
            "127/127 [==============================] - 6s 47ms/step - loss: 0.2686 - sparse_categorical_accuracy: 0.9050 - val_loss: 0.3031 - val_sparse_categorical_accuracy: 0.8851 - lr: 1.6000e-04\n",
            "Changing learning rate to 0.00016000000000000004\n",
            "Epoch 32/70\n",
            "127/127 [==============================] - ETA: 0s - loss: 0.2546 - sparse_categorical_accuracy: 0.9109\n",
            "Epoch 32: val_sparse_categorical_accuracy did not improve from 0.89307\n",
            "127/127 [==============================] - 4s 30ms/step - loss: 0.2546 - sparse_categorical_accuracy: 0.9109 - val_loss: 0.3088 - val_sparse_categorical_accuracy: 0.8832 - lr: 1.6000e-04\n",
            "Changing learning rate to 0.00016000000000000004\n",
            "Epoch 33/70\n",
            "125/127 [============================>.] - ETA: 0s - loss: 0.2593 - sparse_categorical_accuracy: 0.9118\n",
            "Epoch 33: val_sparse_categorical_accuracy did not improve from 0.89307\n",
            "127/127 [==============================] - 4s 31ms/step - loss: 0.2582 - sparse_categorical_accuracy: 0.9119 - val_loss: 0.3045 - val_sparse_categorical_accuracy: 0.8792 - lr: 1.6000e-04\n",
            "Changing learning rate to 0.00016000000000000004\n",
            "Epoch 34/70\n",
            "126/127 [============================>.] - ETA: 0s - loss: 0.2475 - sparse_categorical_accuracy: 0.9134\n",
            "Epoch 34: val_sparse_categorical_accuracy did not improve from 0.89307\n",
            "127/127 [==============================] - 5s 43ms/step - loss: 0.2488 - sparse_categorical_accuracy: 0.9131 - val_loss: 0.3042 - val_sparse_categorical_accuracy: 0.8891 - lr: 1.6000e-04\n",
            "Changing learning rate to 0.00016000000000000004\n",
            "Epoch 35/70\n",
            "127/127 [==============================] - ETA: 0s - loss: 0.2517 - sparse_categorical_accuracy: 0.9104\n",
            "Epoch 35: val_sparse_categorical_accuracy did not improve from 0.89307\n",
            "127/127 [==============================] - 5s 36ms/step - loss: 0.2517 - sparse_categorical_accuracy: 0.9104 - val_loss: 0.2974 - val_sparse_categorical_accuracy: 0.8812 - lr: 1.6000e-04\n",
            "Changing learning rate to 0.00016000000000000004\n",
            "Epoch 36/70\n",
            "127/127 [==============================] - ETA: 0s - loss: 0.2443 - sparse_categorical_accuracy: 0.9134\n",
            "Epoch 36: val_sparse_categorical_accuracy improved from 0.89307 to 0.89901, saving model to /content/drive/MyDrive/PatientVoiceAI/saved_models/model-functionals-RNN.h5\n",
            "127/127 [==============================] - 5s 36ms/step - loss: 0.2443 - sparse_categorical_accuracy: 0.9134 - val_loss: 0.3129 - val_sparse_categorical_accuracy: 0.8990 - lr: 1.6000e-04\n",
            "Changing learning rate to 0.00016000000000000004\n",
            "Epoch 37/70\n",
            "126/127 [============================>.] - ETA: 0s - loss: 0.2456 - sparse_categorical_accuracy: 0.9152\n",
            "Epoch 37: val_sparse_categorical_accuracy did not improve from 0.89901\n",
            "127/127 [==============================] - 5s 39ms/step - loss: 0.2453 - sparse_categorical_accuracy: 0.9153 - val_loss: 0.2886 - val_sparse_categorical_accuracy: 0.8950 - lr: 1.6000e-04\n",
            "Changing learning rate to 0.00016000000000000004\n",
            "Epoch 38/70\n",
            "127/127 [==============================] - ETA: 0s - loss: 0.2454 - sparse_categorical_accuracy: 0.9097\n",
            "Epoch 38: val_sparse_categorical_accuracy did not improve from 0.89901\n",
            "127/127 [==============================] - 5s 40ms/step - loss: 0.2454 - sparse_categorical_accuracy: 0.9097 - val_loss: 0.2942 - val_sparse_categorical_accuracy: 0.8851 - lr: 1.6000e-04\n",
            "Changing learning rate to 0.00016000000000000004\n",
            "Epoch 39/70\n",
            "126/127 [============================>.] - ETA: 0s - loss: 0.2361 - sparse_categorical_accuracy: 0.9194\n",
            "Epoch 39: val_sparse_categorical_accuracy did not improve from 0.89901\n",
            "127/127 [==============================] - 4s 31ms/step - loss: 0.2358 - sparse_categorical_accuracy: 0.9196 - val_loss: 0.3093 - val_sparse_categorical_accuracy: 0.8891 - lr: 1.6000e-04\n",
            "Changing learning rate to 0.00016000000000000004\n",
            "Epoch 40/70\n",
            "127/127 [==============================] - ETA: 0s - loss: 0.2331 - sparse_categorical_accuracy: 0.9186\n",
            "Epoch 40: val_sparse_categorical_accuracy did not improve from 0.89901\n",
            "127/127 [==============================] - 4s 32ms/step - loss: 0.2331 - sparse_categorical_accuracy: 0.9186 - val_loss: 0.3028 - val_sparse_categorical_accuracy: 0.8871 - lr: 1.6000e-04\n",
            "Changing learning rate to 0.00016000000000000004\n",
            "Epoch 41/70\n",
            "126/127 [============================>.] - ETA: 0s - loss: 0.2334 - sparse_categorical_accuracy: 0.9184\n",
            "Epoch 41: val_sparse_categorical_accuracy did not improve from 0.89901\n",
            "127/127 [==============================] - 6s 49ms/step - loss: 0.2338 - sparse_categorical_accuracy: 0.9183 - val_loss: 0.3081 - val_sparse_categorical_accuracy: 0.8752 - lr: 1.6000e-04\n",
            "Changing learning rate to 0.00016000000000000004\n",
            "Epoch 42/70\n",
            "127/127 [==============================] - ETA: 0s - loss: 0.2274 - sparse_categorical_accuracy: 0.9193\n",
            "Epoch 42: val_sparse_categorical_accuracy did not improve from 0.89901\n",
            "127/127 [==============================] - 4s 31ms/step - loss: 0.2274 - sparse_categorical_accuracy: 0.9193 - val_loss: 0.2997 - val_sparse_categorical_accuracy: 0.8970 - lr: 1.6000e-04\n",
            "Changing learning rate to 0.00016000000000000004\n",
            "Epoch 43/70\n",
            "125/127 [============================>.] - ETA: 0s - loss: 0.2220 - sparse_categorical_accuracy: 0.9247\n",
            "Epoch 43: val_sparse_categorical_accuracy did not improve from 0.89901\n",
            "127/127 [==============================] - 4s 31ms/step - loss: 0.2214 - sparse_categorical_accuracy: 0.9252 - val_loss: 0.3013 - val_sparse_categorical_accuracy: 0.8911 - lr: 1.6000e-04\n",
            "Changing learning rate to 0.00016000000000000004\n",
            "Epoch 44/70\n",
            "127/127 [==============================] - ETA: 0s - loss: 0.2274 - sparse_categorical_accuracy: 0.9176\n",
            "Epoch 44: val_sparse_categorical_accuracy did not improve from 0.89901\n",
            "127/127 [==============================] - 7s 57ms/step - loss: 0.2274 - sparse_categorical_accuracy: 0.9176 - val_loss: 0.2955 - val_sparse_categorical_accuracy: 0.8931 - lr: 1.6000e-04\n",
            "Changing learning rate to 6.400000000000001e-05\n",
            "Epoch 45/70\n",
            "127/127 [==============================] - ETA: 0s - loss: 0.2110 - sparse_categorical_accuracy: 0.9210\n",
            "Epoch 45: val_sparse_categorical_accuracy did not improve from 0.89901\n",
            "127/127 [==============================] - 10s 75ms/step - loss: 0.2110 - sparse_categorical_accuracy: 0.9210 - val_loss: 0.2942 - val_sparse_categorical_accuracy: 0.8871 - lr: 6.4000e-05\n",
            "Changing learning rate to 6.400000000000001e-05\n",
            "Epoch 46/70\n",
            "126/127 [============================>.] - ETA: 0s - loss: 0.2044 - sparse_categorical_accuracy: 0.9291\n",
            "Epoch 46: val_sparse_categorical_accuracy did not improve from 0.89901\n",
            "127/127 [==============================] - 11s 87ms/step - loss: 0.2041 - sparse_categorical_accuracy: 0.9292 - val_loss: 0.2920 - val_sparse_categorical_accuracy: 0.8950 - lr: 6.4000e-05\n",
            "Changing learning rate to 6.400000000000001e-05\n",
            "Epoch 47/70\n",
            "127/127 [==============================] - ETA: 0s - loss: 0.2041 - sparse_categorical_accuracy: 0.9287\n",
            "Epoch 47: val_sparse_categorical_accuracy did not improve from 0.89901\n",
            "127/127 [==============================] - 8s 63ms/step - loss: 0.2041 - sparse_categorical_accuracy: 0.9287 - val_loss: 0.3080 - val_sparse_categorical_accuracy: 0.8911 - lr: 6.4000e-05\n",
            "Changing learning rate to 6.400000000000001e-05\n",
            "Epoch 48/70\n",
            "126/127 [============================>.] - ETA: 0s - loss: 0.2006 - sparse_categorical_accuracy: 0.9281\n",
            "Epoch 48: val_sparse_categorical_accuracy did not improve from 0.89901\n",
            "127/127 [==============================] - 6s 49ms/step - loss: 0.2010 - sparse_categorical_accuracy: 0.9280 - val_loss: 0.3045 - val_sparse_categorical_accuracy: 0.8931 - lr: 6.4000e-05\n",
            "Changing learning rate to 6.400000000000001e-05\n",
            "Epoch 49/70\n",
            "126/127 [============================>.] - ETA: 0s - loss: 0.1973 - sparse_categorical_accuracy: 0.9325\n",
            "Epoch 49: val_sparse_categorical_accuracy did not improve from 0.89901\n",
            "127/127 [==============================] - 4s 31ms/step - loss: 0.1979 - sparse_categorical_accuracy: 0.9322 - val_loss: 0.3156 - val_sparse_categorical_accuracy: 0.8891 - lr: 6.4000e-05\n",
            "Changing learning rate to 6.400000000000001e-05\n",
            "Epoch 50/70\n",
            "126/127 [============================>.] - ETA: 0s - loss: 0.1975 - sparse_categorical_accuracy: 0.9338\n",
            "Epoch 50: val_sparse_categorical_accuracy did not improve from 0.89901\n",
            "127/127 [==============================] - 4s 32ms/step - loss: 0.1974 - sparse_categorical_accuracy: 0.9339 - val_loss: 0.3064 - val_sparse_categorical_accuracy: 0.8871 - lr: 6.4000e-05\n",
            "Changing learning rate to 6.400000000000001e-05\n",
            "Epoch 51/70\n",
            "126/127 [============================>.] - ETA: 0s - loss: 0.1970 - sparse_categorical_accuracy: 0.9313\n",
            "Epoch 51: val_sparse_categorical_accuracy did not improve from 0.89901\n",
            "127/127 [==============================] - 6s 50ms/step - loss: 0.1980 - sparse_categorical_accuracy: 0.9312 - val_loss: 0.3117 - val_sparse_categorical_accuracy: 0.8851 - lr: 6.4000e-05\n",
            "Changing learning rate to 6.400000000000001e-05\n",
            "Epoch 52/70\n",
            "125/127 [============================>.] - ETA: 0s - loss: 0.1906 - sparse_categorical_accuracy: 0.9330\n",
            "Epoch 52: val_sparse_categorical_accuracy did not improve from 0.89901\n",
            "127/127 [==============================] - 4s 31ms/step - loss: 0.1899 - sparse_categorical_accuracy: 0.9334 - val_loss: 0.3032 - val_sparse_categorical_accuracy: 0.8832 - lr: 6.4000e-05\n",
            "Changing learning rate to 6.400000000000001e-05\n",
            "Epoch 53/70\n",
            "127/127 [==============================] - ETA: 0s - loss: 0.1875 - sparse_categorical_accuracy: 0.9349\n",
            "Epoch 53: val_sparse_categorical_accuracy did not improve from 0.89901\n",
            "127/127 [==============================] - 4s 31ms/step - loss: 0.1875 - sparse_categorical_accuracy: 0.9349 - val_loss: 0.3100 - val_sparse_categorical_accuracy: 0.8871 - lr: 6.4000e-05\n",
            "Changing learning rate to 6.400000000000001e-05\n",
            "Epoch 54/70\n",
            "127/127 [==============================] - ETA: 0s - loss: 0.1860 - sparse_categorical_accuracy: 0.9366\n",
            "Epoch 54: val_sparse_categorical_accuracy did not improve from 0.89901\n",
            "127/127 [==============================] - 5s 42ms/step - loss: 0.1860 - sparse_categorical_accuracy: 0.9366 - val_loss: 0.3084 - val_sparse_categorical_accuracy: 0.8911 - lr: 6.4000e-05\n",
            "Changing learning rate to 6.400000000000001e-05\n",
            "Epoch 55/70\n",
            "126/127 [============================>.] - ETA: 0s - loss: 0.1846 - sparse_categorical_accuracy: 0.9350\n",
            "Epoch 55: val_sparse_categorical_accuracy did not improve from 0.89901\n",
            "127/127 [==============================] - 5s 37ms/step - loss: 0.1848 - sparse_categorical_accuracy: 0.9349 - val_loss: 0.3207 - val_sparse_categorical_accuracy: 0.8891 - lr: 6.4000e-05\n",
            "Changing learning rate to 6.400000000000001e-05\n",
            "Epoch 56/70\n",
            "125/127 [============================>.] - ETA: 0s - loss: 0.1915 - sparse_categorical_accuracy: 0.9333Restoring model weights from the end of the best epoch: 36.\n",
            "\n",
            "Epoch 56: val_sparse_categorical_accuracy did not improve from 0.89901\n",
            "127/127 [==============================] - 4s 31ms/step - loss: 0.1905 - sparse_categorical_accuracy: 0.9337 - val_loss: 0.3174 - val_sparse_categorical_accuracy: 0.8931 - lr: 6.4000e-05\n",
            "Epoch 56: early stopping\n"
          ]
        }
      ],
      "source": [
        "import math\n",
        "def step_decay(epoch):\n",
        "    initial_lrate = 0.001\n",
        "    drop = 0.4\n",
        "    epochs_drop = 15.0\n",
        "    lrate = initial_lrate * math.pow(drop,\n",
        "            math.floor((1+epoch)/epochs_drop))\n",
        "\n",
        "    if (lrate < 4e-5):\n",
        "        lrate = 4e-5\n",
        "\n",
        "    print('Changing learning rate to {}'.format(lrate))\n",
        "    return lrate\n",
        "\n",
        "model_name = 'model-functionals-RNN.h5'\n",
        "model_path = os.path.join(model_dir, model_name)\n",
        "lrate = LearningRateScheduler(step_decay)\n",
        "earlystopper = EarlyStopping(monitor='val_sparse_categorical_accuracy', patience=20,\n",
        "                             verbose=1, restore_best_weights=True)\n",
        "checkpointer = ModelCheckpoint(model_path, monitor='val_sparse_categorical_accuracy', verbose=1, save_best_only=True)\n",
        "\n",
        "results = model.fit(x_train, y_train, batch_size=32, epochs=70, validation_data=(x_val,y_val), use_multiprocessing=False,\n",
        "                    callbacks=[earlystopper, checkpointer, lrate])\n",
        "\n"
      ]
    },
    {
      "cell_type": "markdown",
      "metadata": {
        "id": "Vf94z9nydvkY"
      },
      "source": [
        "Plot the training history:"
      ]
    },
    {
      "cell_type": "code",
      "execution_count": 62,
      "metadata": {
        "colab": {
          "base_uri": "https://localhost:8080/",
          "height": 927
        },
        "id": "3bEpzoMvdyZ0",
        "outputId": "0ca81f04-a4e0-4cf8-d33f-46f5e51471b8"
      },
      "outputs": [
        {
          "data": {
            "image/png": "[encoded data removed]",
            "text/plain": [
              "<Figure size 640x480 with 1 Axes>"
            ]
          },
          "metadata": {},
          "output_type": "display_data"
        },
        {
          "data": {
            "image/png": "[encoded data removed]",
            "text/plain": [
              "<Figure size 640x480 with 1 Axes>"
            ]
          },
          "metadata": {},
          "output_type": "display_data"
        }
      ],
      "source": [
        "import matplotlib.pyplot as plt\n",
        "\n",
        "# summarize history for categorical accuracy\n",
        "plt.plot(results.history['sparse_categorical_accuracy'])\n",
        "plt.plot(results.history['val_sparse_categorical_accuracy'])\n",
        "plt.title('Categorical accuracy')\n",
        "plt.ylabel('accuracy')\n",
        "plt.xlabel('epoch')\n",
        "plt.legend(['train', 'val'], loc='upper left')\n",
        "plt.show()\n",
        "# summarize history for loss\n",
        "plt.plot(results.history['loss'])\n",
        "plt.plot(results.history['val_loss'])\n",
        "plt.title('model loss')\n",
        "plt.ylabel('loss')\n",
        "plt.xlabel('epoch')\n",
        "plt.legend(['train', 'val'], loc='upper left')\n",
        "plt.show()"
      ]
    },
    {
      "cell_type": "markdown",
      "metadata": {
        "id": "PYuOtQ6Tgg1Q"
      },
      "source": [
        "Load the previously saved weights:"
      ]
    },
    {
      "cell_type": "code",
      "execution_count": 63,
      "metadata": {
        "id": "eIXAofSegKEB"
      },
      "outputs": [],
      "source": [
        "## load the previously saved weights\n",
        "model.load_weights(model_path)"
      ]
    },
    {
      "cell_type": "markdown",
      "metadata": {
        "id": "avYLxu1Ref_T"
      },
      "source": [
        "Evaluate on the test set:"
      ]
    },
    {
      "cell_type": "code",
      "execution_count": 64,
      "metadata": {
        "colab": {
          "base_uri": "https://localhost:8080/"
        },
        "id": "grrXsocaeiG6",
        "outputId": "c9733c5f-09e2-47d4-ae2b-6e6eb0569d85"
      },
      "outputs": [
        {
          "name": "stdout",
          "output_type": "stream",
          "text": [
            "Test loss: 0.4502710998058319\n",
            "Test accuracy: 0.8498023748397827\n"
          ]
        }
      ],
      "source": [
        "score = model.evaluate(x_test, y_test, verbose=0)\n",
        "print('Test loss:', score[0])\n",
        "print('Test accuracy:', score[1])"
      ]
    },
    {
      "cell_type": "markdown",
      "metadata": {
        "id": "I4XuXKsXfe8P"
      },
      "source": [
        "Perform predictions on the test set and calculate the confusion matrix:"
      ]
    },
    {
      "cell_type": "code",
      "execution_count": 65,
      "metadata": {
        "colab": {
          "base_uri": "https://localhost:8080/"
        },
        "id": "wMukudZPfCdR",
        "outputId": "635cb53b-4e7c-40ce-bf70-0290d4ba213f"
      },
      "outputs": [
        {
          "name": "stdout",
          "output_type": "stream",
          "text": [
            "16/16 [==============================] - 2s 15ms/step\n",
            "[[252   7  23   0]\n",
            " [ 35  22   0   0]\n",
            " [ 11   0 152   0]\n",
            " [  0   0   0   4]]\n"
          ]
        }
      ],
      "source": [
        "from sklearn.metrics import confusion_matrix\n",
        "\n",
        "y_pred = model.predict(x_test, verbose=1)\n",
        "y_pred = np.argmax(y_pred,1)\n",
        "cm = confusion_matrix(y_test, y_pred)\n",
        "print(cm)"
      ]
    },
    {
      "cell_type": "markdown",
      "metadata": {
        "id": "8wA0LtNWhNEY"
      },
      "source": [
        "Function to predict for an external audio:"
      ]
    },
    {
      "cell_type": "code",
      "execution_count": 71,
      "metadata": {
        "id": "VFKKjLXxhU0_"
      },
      "outputs": [],
      "source": [
        "classes = np.asarray(classes)\n",
        "\n",
        "def predict_framewise(x, frame_duration, chunksize=chunksize, model=model):\n",
        "    # preprocess the input audio\n",
        "    # 1. split into frames\n",
        "    x = np.asarray(preprocess(x, int(frame_duration*sample_rate))).astype('float32')\n",
        "    # 2. extract features for each frame\n",
        "    new_x = []\n",
        "    for x_slice in x:\n",
        "        new_x_slice = np.squeeze(preprocess(x_slice, chunksize))\n",
        "        features = get_functionals(new_x_slice)\n",
        "        new_x.append(features)\n",
        "    x = np.asarray(new_x)\n",
        "    # print(np.shape(x))        # for debugging\n",
        "\n",
        "    # feed it into the model to produce predictions\n",
        "    y_pred = model.predict(x)\n",
        "    y_pred_probs = np.max(y_pred, axis=1)   # the probability of the highest scoring class\n",
        "    y_pred_categorical = np.argmax(y_pred, axis=1)\n",
        "    y_pred_labels = classes[y_pred_categorical]   # the label of the highest scoring class\n",
        "    return y_pred_labels, y_pred_probs"
      ]
    },
    {
      "cell_type": "markdown",
      "metadata": {
        "id": "kUq1l-faoys3"
      },
      "source": [
        "A plotter to plot the prediction result for the audio:"
      ]
    },
    {
      "cell_type": "code",
      "execution_count": 69,
      "metadata": {
        "id": "keWzRMzwoybo"
      },
      "outputs": [],
      "source": [
        "import matplotlib.pyplot as plt\n",
        "import pandas as pd\n",
        "import numpy as np\n",
        "from scipy.ndimage import gaussian_filter\n",
        "\n",
        "class TimescalePlotter:\n",
        "    def __init__(self, time_values:list, label_values:list, prob_values:list, filename:str, gold_label:str, color_map={'coughing': 'red', 'sneezing': 'blue', 'speech': 'green', 'silence': 'grey'}):\n",
        "        data = {\n",
        "            'Time': time_values,\n",
        "            'Label': label_values,\n",
        "            'Probability': prob_values,\n",
        "        }\n",
        "        if len(time_values) != len(label_values):\n",
        "            print(len(time_values))\n",
        "            print(len(label_values))\n",
        "        self.df = pd.DataFrame(data)\n",
        "        self.color_map = color_map\n",
        "        self.intervals = self._get_intervals()\n",
        "        self.merged_intervals = self._merge_intervals()     # neglecting probs\n",
        "        self.title = \"Gold label: \"+gold_label\n",
        "        self.filename = filename[:-4]\n",
        "\n",
        "    def _merge_intervals(self):\n",
        "        merged_intervals = []\n",
        "        current_label = self.df['Label'].iloc[0]\n",
        "        start_time = self.df['Time'].iloc[0]\n",
        "\n",
        "        for i in range(1, len(self.df)):\n",
        "            if self.df['Label'].iloc[i] != current_label:\n",
        "                merged_intervals.append((start_time, self.df['Time'].iloc[i], current_label))\n",
        "                current_label = self.df['Label'].iloc[i]\n",
        "                start_time = self.df['Time'].iloc[i]\n",
        "\n",
        "        # Add the last interval\n",
        "        merged_intervals.append((start_time, self.df['Time'].iloc[-1] + 1, current_label))\n",
        "        return merged_intervals\n",
        "\n",
        "    def _get_intervals(self):\n",
        "        intervals = []\n",
        "        current_label = self.df['Label'].iloc[0]\n",
        "        current_prob = self.df['Probability'].iloc[0]\n",
        "        start_time = self.df['Time'].iloc[0]\n",
        "\n",
        "        for i in range(1, len(self.df)):\n",
        "            intervals.append((start_time, self.df['Time'].iloc[i], current_label, current_prob))\n",
        "            current_label = self.df['Label'].iloc[i]\n",
        "            current_prob = self.df['Probability'].iloc[i]\n",
        "            start_time = self.df['Time'].iloc[i]\n",
        "\n",
        "        # Add the last interval\n",
        "        intervals.append((start_time, self.df['Time'].iloc[-1] + 1, current_label, current_prob))\n",
        "        return intervals\n",
        "\n",
        "    def plot(self, figsize=(20, 2)):\n",
        "        fig, ax = plt.subplots(figsize=figsize)  # Adjust the height by setting figsize to (width, height)\n",
        "\n",
        "        ## Add colored intervals regardless of probabilities\n",
        "        # for start_time, end_time, label in self.merged_intervals:\n",
        "        #     ax.axvspan(start_time, end_time, color=self.color_map[label], alpha=0.3, label=label)\n",
        "\n",
        "        # Add colored intervals with transparencies corresponding to probabilities\n",
        "        for start_time, end_time, label, prob in self.intervals:\n",
        "            ax.axvspan(start_time, end_time, color=self.color_map[label], alpha=prob, label=label)\n",
        "\n",
        "        # Add dummy entries for labels not present in data\n",
        "        for label, color in self.color_map.items():\n",
        "            if label not in self.df['Label'].unique():\n",
        "                ax.axvspan(np.NaN, np.NaN, color=color, alpha=0.3, label=label)\n",
        "\n",
        "        # Formatting the plot\n",
        "        ax.set_xlim(self.df['Time'].min() - 1, self.df['Time'].max() + 2)  # Adjust x-axis limits\n",
        "        ax.set_ylim(0.5, 1.5)  # Adjust y-axis limits to focus on the labels\n",
        "        ax.set_xlabel('Time (seconds)')\n",
        "        ax.set_ylabel('Label')\n",
        "        ax.set_title(self.title)  # Set the plot title\n",
        "\n",
        "        # Customizing ticks and grid\n",
        "        ax.xaxis.set_major_locator(plt.MaxNLocator(10))  # Show up to 10 major ticks on the x-axis\n",
        "        ax.yaxis.set_visible(False)  # Hide y-axis\n",
        "        ax.grid(True, which='both', axis='x', linestyle='--', linewidth=0.5)\n",
        "\n",
        "        # Create a legend\n",
        "        handles, labels = ax.get_legend_handles_labels()\n",
        "        by_label = dict(zip(labels, handles))\n",
        "        ax.legend(by_label.values(), by_label.keys(), loc='upper right')\n",
        "\n",
        "        # Display the plot\n",
        "        plt.show()"
      ]
    },
    {
      "cell_type": "markdown",
      "metadata": {
        "id": "0VZ0_bK-p2Pn"
      },
      "source": [
        "Test an example of an external audio:"
      ]
    },
    {
      "cell_type": "code",
      "execution_count": 73,
      "metadata": {
        "colab": {
          "base_uri": "https://localhost:8080/",
          "height": 643
        },
        "id": "_dPTIA17pz5m",
        "outputId": "01a2e9de-5eb7-4875-a153-6ae09544c735"
      },
      "outputs": [
        {
          "name": "stdout",
          "output_type": "stream",
          "text": [
            "3/3 [==============================] - 0s 15ms/step\n",
            "['speech' 'speech' 'speech' 'speech' 'speech' 'speech' 'speech' 'coughing'\n",
            " 'coughing' 'speech' 'speech' 'speech' 'speech' 'coughing' 'speech'\n",
            " 'speech' 'coughing' 'coughing' 'speech' 'silence' 'coughing' 'coughing'\n",
            " 'coughing' 'coughing' 'speech' 'speech' 'coughing' 'coughing' 'silence'\n",
            " 'silence' 'coughing' 'coughing' 'coughing' 'coughing' 'speech' 'speech'\n",
            " 'coughing' 'coughing' 'speech' 'speech' 'speech' 'coughing' 'speech'\n",
            " 'sneezing' 'coughing' 'speech' 'speech' 'silence' 'coughing' 'speech'\n",
            " 'speech' 'speech' 'speech' 'speech' 'speech' 'speech' 'speech' 'speech'\n",
            " 'speech' 'coughing' 'speech' 'speech' 'coughing' 'speech' 'speech'\n",
            " 'speech' 'speech' 'coughing' 'speech' 'speech' 'silence' 'silence']\n",
            "[0.9969677  0.98090446 0.9987115  0.99953526 0.9999246  0.9997604\n",
            " 0.9843498  0.71404773 0.8787587  0.9999922  0.99989754 0.93352646\n",
            " 0.9999091  0.85493743 0.9831494  0.99968946 0.8108107  0.97259456\n",
            " 0.6362674  0.90242743 0.51709425 0.5631202  0.8013744  0.9169833\n",
            " 0.94861805 0.48724666 0.77362704 0.7631233  0.8693498  0.8669335\n",
            " 0.7051543  0.99063057 0.91670865 0.7324584  0.86902624 0.9060632\n",
            " 0.98427844 0.57676667 0.99641937 0.87212145 0.51682043 0.9193172\n",
            " 0.52641857 0.67774284 0.9282189  0.7909248  0.9625567  0.805718\n",
            " 0.9677198  0.6821707  0.99897027 0.9962309  0.9969643  0.73569953\n",
            " 0.99934703 0.9999537  0.9991638  0.9998152  0.99990624 0.51890796\n",
            " 0.68060964 0.9940344  0.76980954 0.99515355 0.98858726 0.94213575\n",
            " 0.7818248  0.8257229  0.9988294  0.99988943 0.95412534 0.9624624 ]\n"
          ]
        },
        {
          "data": {
            "image/png": "[encoded data removed]",
            "text/plain": [
              "<Figure size 2000x200 with 1 Axes>"
            ]
          },
          "metadata": {},
          "output_type": "display_data"
        }
      ],
      "source": [
        "# testing\n",
        "eg_label = \"mixed\"\n",
        "eg_filename = \"qPo0bymnsh0.wav\"\n",
        "eg_f = os.path.join(directory, eg_label, eg_filename)\n",
        "eg_x, eg_sr = librosa.load(eg_f)\n",
        "\n",
        "frame_duration = 1.5   # in seconds\n",
        "eg_y_labels, eg_y_probs = predict_framewise(eg_x, frame_duration)\n",
        "print(eg_y_labels)\n",
        "print(eg_y_probs)\n",
        "\n",
        "eg_audio_duration = frame_duration*len(eg_y_labels)\n",
        "eg_timestamps = np.linspace(start=0, stop=eg_audio_duration, num=len(eg_y_labels))\n",
        "plotter = TimescalePlotter(list(eg_timestamps), list(eg_y_labels), list(eg_y_probs), eg_filename, eg_label)\n",
        "plotter.plot()\n"
      ]
    },
    {
      "cell_type": "markdown",
      "metadata": {
        "id": "5WlP6WrgDoPd"
      },
      "source": [
        "Observations:\n",
        "\n",
        "*   Feature extraction takes much longer time.\n",
        "*   But the model seems to generalise much better on the demo continuous sample with a frame duration of 1.5 seconds, comparing with previously trained models of other structures with frame duration = 1 second."
      ]
    }
  ],
  "metadata": {
    "colab": {
      "provenance": []
    },
    "kernelspec": {
      "display_name": "Python 3",
      "name": "python3"
    },
    "language_info": {
      "name": "python"
    }
  },
  "nbformat": 4,
  "nbformat_minor": 0
}
