{
  "cells": [
    {
      "cell_type": "markdown",
      "metadata": {
        "id": "ueYfMuBMA8La"
      },
      "source": [
        "Load dependencies:"
      ]
    },
    {
      "cell_type": "code",
      "execution_count": null,
      "metadata": {
        "colab": {
          "base_uri": "https://localhost:8080/"
        },
        "collapsed": true,
        "id": "CmOQfRarA6Sq",
        "outputId": "2f3cabf5-d9ea-4123-8dac-5c2d880288f4"
      },
      "outputs": [],
      "source": [
        "!pip install opensmile\n",
        "!pip install tensorflow_io\n",
        "import os\n",
        "import numpy as np\n",
        "import librosa\n",
        "import opensmile\n",
        "import math\n",
        "import scipy\n",
        "import tensorflow as tf\n",
        "import tensorflow_io as tfio\n",
        "\n",
        "directory = \"/content/drive/MyDrive/PatientVoiceAI/data\""
      ]
    },
    {
      "cell_type": "markdown",
      "metadata": {
        "id": "8GHN_bCuFZ7l"
      },
      "source": [
        "Load and preprocess raw audio files in the dataset:"
      ]
    },
    {
      "cell_type": "code",
      "execution_count": 22,
      "metadata": {
        "colab": {
          "base_uri": "https://localhost:8080/"
        },
        "id": "R8Jszyt37RJZ",
        "outputId": "33b24a8c-e9ed-48c9-feb0-77c7d86e55f5"
      },
      "outputs": [
        {
          "name": "stdout",
          "output_type": "stream",
          "text": [
            "(13143, 22050)\n",
            "[0.03695566 0.04142303 0.01117673 ... 0.         0.         0.        ]\n",
            "(13143,)\n",
            "0\n"
          ]
        }
      ],
      "source": [
        "def preprocess(x, chunksize):\n",
        "    x_len = len(x)\n",
        "    if x_len < chunksize:   # padding\n",
        "        processed = np.pad(x, (0,chunksize-x_len))  # right-pad with zero\n",
        "    elif x_len > chunksize: # splitting\n",
        "        tailing = x_len % chunksize\n",
        "        if tailing != 0:                # handle uneven splits: create overlap for the last chunk\n",
        "            x = np.concatenate((x[:-tailing], x[-chunksize:]))\n",
        "        num_chunks = int(round(len(x)/chunksize))\n",
        "        processed = np.array_split(x,num_chunks)\n",
        "    else:                   # no change\n",
        "        processed = np.array(x)\n",
        "    return processed\n",
        "\n",
        "def get_dataset(label, label_index, chunksize):\n",
        "    x_set = []\n",
        "    folder = os.path.join(directory, label)\n",
        "    for filename in os.listdir(folder):\n",
        "        f = os.path.join(folder, filename)\n",
        "        if os.path.isfile(f):\n",
        "            audio, sample_rate = librosa.load(f)\n",
        "            x_set.append(preprocess(audio,chunksize))\n",
        "    x_set = np.vstack(x_set)\n",
        "    y_set = np.repeat([label_index[label]],len(x_set))\n",
        "    return x_set,y_set\n",
        "\n",
        "\n",
        "classes = [\"coughing\", \"sneezing\", \"speech\", \"silence\"]\n",
        "\n",
        "label_index = {\n",
        "    \"coughing\":0,\n",
        "    \"sneezing\":1,\n",
        "    \"speech\":2,\n",
        "    \"silence\":3\n",
        "}\n",
        "\n",
        "sample_rate = 22050   # default sample rate in librosa\n",
        "chunksize = 1*sample_rate   # 1 second\n",
        "\n",
        "\n",
        "## initialise the dataset\n",
        "x_set = []\n",
        "y_set = []\n",
        "for label in classes:\n",
        "    x_subset, y_subset = get_dataset(label,label_index,chunksize)\n",
        "    x_set.extend(x_subset)\n",
        "    y_set.extend(y_subset)\n",
        "\n",
        "x_set = np.asarray(x_set).astype('float32')\n",
        "y_set = np.asarray(y_set)\n",
        "\n",
        "print(np.shape(x_set))\n",
        "print(x_set[0])\n",
        "print(np.shape(y_set))\n",
        "print(y_set[0])\n",
        "\n"
      ]
    },
    {
      "cell_type": "code",
      "execution_count": 23,
      "metadata": {
        "colab": {
          "base_uri": "https://localhost:8080/"
        },
        "id": "ffc74cYSAVj4",
        "outputId": "842f2117-60f4-4758-b5e0-1606731500fa"
      },
      "outputs": [
        {
          "name": "stdout",
          "output_type": "stream",
          "text": [
            "(10514, 22050)\n",
            "(1314, 22050)\n",
            "(1315, 22050)\n"
          ]
        }
      ],
      "source": [
        "#Parameters for shuffling\n",
        "seed = 42\n",
        "np.random.seed(seed)\n",
        "N = len(y_set)\n",
        "\n",
        "shuffled_indices = np.random.permutation(N)\n",
        "\n",
        "# Apply the shuffled indices to both data and labels\n",
        "x_set = x_set[shuffled_indices]\n",
        "y_set = y_set[shuffled_indices]\n",
        "\n",
        "\n",
        "split_size_val = int(0.8*N)\n",
        "split_size_test = int(0.9*N)\n",
        "\n",
        "x_train, x_val, x_test = x_set[:split_size_val], x_set[split_size_val:split_size_test], x_set[split_size_test:]\n",
        "y_train, y_val, y_test = y_set[:split_size_val], y_set[split_size_val:split_size_test], y_set[split_size_test:]\n",
        "\n",
        "print(np.shape(x_train))\n",
        "print(np.shape(x_val))\n",
        "print(np.shape(x_test))"
      ]
    },
    {
      "cell_type": "markdown",
      "metadata": {
        "id": "wp4MYbJezuu5"
      },
      "source": [
        "Define a function to calculate normalised Mel-spectrogram:"
      ]
    },
    {
      "cell_type": "code",
      "execution_count": 17,
      "metadata": {
        "id": "0cobDxQkRtMH"
      },
      "outputs": [],
      "source": [
        "def get_normalised_mel_spectrogram(x, sr=sample_rate, n_mel_bins=20):\n",
        "    \"\"\"\n",
        "            Code adapted from https://github.com/douglas125/SpeechCmdRecognition/blob/master/audioUtils.py#L93\n",
        "    \"\"\"\n",
        "    spec_stride = 128\n",
        "    spec_len = 1024\n",
        "\n",
        "    spectrogram = tfio.audio.spectrogram(\n",
        "        x, nfft=spec_len, window=spec_len, stride=spec_stride\n",
        "    )\n",
        "\n",
        "    num_spectrogram_bins = spec_len // 2 + 1  # spectrogram.shape[-1]\n",
        "    lower_edge_hertz, upper_edge_hertz = 40.0, 8000.0\n",
        "    num_mel_bins = n_mel_bins\n",
        "    linear_to_mel_weight_matrix = tf.signal.linear_to_mel_weight_matrix(\n",
        "      num_mel_bins, num_spectrogram_bins, sr, lower_edge_hertz,\n",
        "      upper_edge_hertz)\n",
        "    mel_spectrograms = tf.tensordot(spectrogram, linear_to_mel_weight_matrix, 1)\n",
        "    mel_spectrograms.set_shape(spectrogram.shape[:-1].concatenate(linear_to_mel_weight_matrix.shape[-1:]))\n",
        "\n",
        "    # Compute a stabilized log to get log-magnitude mel-scale spectrograms.\n",
        "    log_mel_spectrograms = tf.math.log(mel_spectrograms + 1e-6)\n",
        "    avg = tf.math.reduce_mean(log_mel_spectrograms)\n",
        "    std = tf.math.reduce_std(log_mel_spectrograms)\n",
        "\n",
        "    return (log_mel_spectrograms - avg) / std\n",
        "\n",
        "\n",
        "# testing\n",
        "# print(get_normalised_mel_spectrogram(x_set[1]))"
      ]
    },
    {
      "cell_type": "markdown",
      "metadata": {
        "id": "zt7wGQbbzxqA"
      },
      "source": [
        "Define a function to calculate MFCCs:"
      ]
    },
    {
      "cell_type": "code",
      "execution_count": 12,
      "metadata": {
        "colab": {
          "base_uri": "https://localhost:8080/"
        },
        "id": "EXQ7WkH3zPEI",
        "outputId": "8ced407d-1af0-4ed7-9c0e-722785ed9cbf"
      },
      "outputs": [
        {
          "name": "stdout",
          "output_type": "stream",
          "text": [
            "tf.Tensor(\n",
            "[[-3.42309814e+02  6.70312424e+01 -4.58366814e+01 ...  5.67506981e+00\n",
            "   3.93562078e+00  8.09024048e+00]\n",
            " [-2.98740570e+02  6.68942490e+01 -5.86018791e+01 ...  4.28615570e+00\n",
            "   3.94677877e+00  7.15044618e-01]\n",
            " [-2.72402649e+02  5.22381516e+01 -5.74585648e+01 ...  2.44150209e+00\n",
            "   6.66082668e+00 -2.56417036e+00]\n",
            " ...\n",
            " [ 9.74413681e+00 -3.44650054e+00 -1.69657040e+01 ... -2.94731402e+00\n",
            "  -1.86145389e+00 -6.29485548e-01]\n",
            " [-1.72532444e+01  8.55619073e-01 -9.25893974e+00 ...  3.93066078e-01\n",
            "   1.92945671e+00  1.31686240e-01]\n",
            " [-2.19806271e+01  2.00257182e+00 -3.69728255e+00 ...  6.19387031e-01\n",
            "   2.66373444e+00  9.67200398e-01]], shape=(132, 20), dtype=float64)\n"
          ]
        }
      ],
      "source": [
        "def get_mfccs(x, sr=sample_rate, n=20, deltas=False):\n",
        "    \"\"\"\n",
        "        Code adapted from https://github.com/genzen2103/Speaker-Recognition-System-using-GMM/blob/master/MFCC_speaker_recog.py\n",
        "    \"\"\"\n",
        "\n",
        "    # calculate MFCCs\n",
        "    mfccs = librosa.feature.mfcc(y=x, n_mfcc=n, sr=sr)\n",
        "    if not deltas:\n",
        "        return tf.transpose(tf.convert_to_tensor(mfccs))        # shape: (len,n)\n",
        "\n",
        "    # calculate delta MFCCs\n",
        "    delta_MFCC = np.zeros(mfccs.shape)\n",
        "    for t in range(delta_MFCC.shape[1]):\n",
        "        index_t_minus_one,index_t_plus_one=t-1,t+1\n",
        "\n",
        "        if index_t_minus_one<0:\n",
        "            index_t_minus_one=0\n",
        "        if index_t_plus_one>=delta_MFCC.shape[1]:\n",
        "            index_t_plus_one=delta_MFCC.shape[1]-1\n",
        "\n",
        "        delta_MFCC[:,t]=0.5*(mfccs[:,index_t_plus_one]-mfccs[:,index_t_minus_one])\n",
        "\n",
        "    # calculate double delta MFCCs\n",
        "    double_delta_MFCC = np.zeros(mfccs.shape)\n",
        "    for t in range(double_delta_MFCC.shape[1]):\n",
        "\n",
        "        index_t_minus_one,index_t_plus_one, index_t_plus_two,index_t_minus_two=t-1,t+1,t+2,t-2\n",
        "\n",
        "        if index_t_minus_one<0:\n",
        "            index_t_minus_one=0\n",
        "        if index_t_plus_one>=delta_MFCC.shape[1]:\n",
        "            index_t_plus_one=delta_MFCC.shape[1]-1\n",
        "        if index_t_minus_two<0:\n",
        "            index_t_minus_two=0\n",
        "        if index_t_plus_two>=delta_MFCC.shape[1]:\n",
        "            index_t_plus_two=delta_MFCC.shape[1]-1\n",
        "\n",
        "        double_delta_MFCC[:,t]=0.1*( 2*mfccs[:,index_t_plus_two]+mfccs[:,index_t_plus_one]\n",
        "                                    -mfccs[:,index_t_minus_one]-2*mfccs[:,index_t_minus_two] )\n",
        "\n",
        "    Combined_MFCC_F = np.concatenate((mfccs,delta_MFCC,double_delta_MFCC),axis=1)\n",
        "\n",
        "    return tf.transpose(tf.convert_to_tensor(Combined_MFCC_F))       # shape: (len,n)\n",
        "\n",
        "\n",
        "# testing\n",
        "# print(get_mfccs(x_set[1],deltas=True))"
      ]
    },
    {
      "cell_type": "markdown",
      "metadata": {
        "id": "aOuuvEsV5FPm"
      },
      "source": [
        "Build a model:"
      ]
    },
    {
      "cell_type": "code",
      "execution_count": 28,
      "metadata": {
        "id": "TDXcZx6T5E1l"
      },
      "outputs": [],
      "source": [
        "from tensorflow import keras\n",
        "from keras import layers as L\n",
        "from keras import backend as K\n",
        "from keras.utils import to_categorical\n",
        "from keras.callbacks import EarlyStopping, ModelCheckpoint, LearningRateScheduler\n",
        "from keras import backend as K\n",
        "from keras import optimizers\n",
        "from keras.models import Model, load_model\n",
        "\n",
        "def get_melspec_model(iLen=None):\n",
        "    inp = L.Input((iLen,), name='input')\n",
        "    mel_spec = get_normalised_mel_spectrogram(inp)\n",
        "    melspecModel = Model(inputs=inp, outputs=mel_spec, name='normalised_spectrogram_model')\n",
        "    return melspecModel\n",
        "\n",
        "def AttRNNSpeechModel(nCategories, samplingrate=sample_rate,\n",
        "                      inputLength=chunksize, rnn_func=L.LSTM):\n",
        "    # simple LSTM\n",
        "    sr = samplingrate\n",
        "    iLen = inputLength\n",
        "\n",
        "    inputs = L.Input((inputLength,), name='input')\n",
        "\n",
        "    m =  get_melspec_model(iLen=inputLength)\n",
        "    m.trainable = False\n",
        "\n",
        "    x = m(inputs)\n",
        "    x = tf.expand_dims(x, axis=-1, name='mel_stft')\n",
        "\n",
        "    x = L.Conv2D(10, (5, 1), activation='relu', padding='same')(x)\n",
        "    x = L.BatchNormalization()(x)\n",
        "    x = L.Conv2D(1, (5, 1), activation='relu', padding='same')(x)\n",
        "    x = L.BatchNormalization()(x)\n",
        "\n",
        "    # x = Reshape((125, 80)) (x)\n",
        "    # keras.backend.squeeze(x, axis)\n",
        "    x = L.Lambda(lambda q: K.squeeze(q, -1), name='squeeze_last_dim')(x)\n",
        "\n",
        "    x = L.Bidirectional(rnn_func(64, return_sequences=True)\n",
        "                        )(x)  # [b_s, seq_len, vec_dim]\n",
        "    x = L.Bidirectional(rnn_func(64, return_sequences=True)\n",
        "                        )(x)  # [b_s, seq_len, vec_dim]\n",
        "\n",
        "    xFirst = L.Lambda(lambda q: q[:, -1])(x)  # [b_s, vec_dim]\n",
        "    query = L.Dense(128)(xFirst)\n",
        "\n",
        "    # dot product attention\n",
        "    attScores = L.Dot(axes=[1, 2])([query, x])\n",
        "    attScores = L.Softmax(name='attSoftmax')(attScores)  # [b_s, seq_len]\n",
        "\n",
        "    # rescale sequence\n",
        "    attVector = L.Dot(axes=[1, 1])([attScores, x])  # [b_s, vec_dim]\n",
        "\n",
        "    x = L.Dense(64, activation='relu')(attVector)\n",
        "    x = L.Dense(32)(x)\n",
        "\n",
        "    output = L.Dense(nCategories, activation='softmax', name='output')(x)\n",
        "\n",
        "    model = Model(inputs=[inputs], outputs=[output])\n",
        "\n",
        "    return model"
      ]
    },
    {
      "cell_type": "markdown",
      "metadata": {
        "id": "VEeJ9x4b8HUK"
      },
      "source": [
        "Create a model:"
      ]
    },
    {
      "cell_type": "code",
      "execution_count": 29,
      "metadata": {
        "colab": {
          "base_uri": "https://localhost:8080/"
        },
        "id": "5vl49hiB7cvA",
        "outputId": "f4956da5-a759-485d-86db-822bf89f4bd4"
      },
      "outputs": [
        {
          "name": "stdout",
          "output_type": "stream",
          "text": [
            "Model: \"model_1\"\n",
            "__________________________________________________________________________________________________\n",
            " Layer (type)                Output Shape                 Param #   Connected to                  \n",
            "==================================================================================================\n",
            " input (InputLayer)          [(None, None)]               0         []                            \n",
            "                                                                                                  \n",
            " normalised_spectrogram_mod  (None, None, 20)             0         ['input[0][0]']               \n",
            " el (Functional)                                                                                  \n",
            "                                                                                                  \n",
            " tf.expand_dims_1 (TFOpLamb  (None, None, 20, 1)          0         ['normalised_spectrogram_model\n",
            " da)                                                                [0][0]']                      \n",
            "                                                                                                  \n",
            " conv2d_2 (Conv2D)           (None, None, 20, 10)         60        ['tf.expand_dims_1[0][0]']    \n",
            "                                                                                                  \n",
            " batch_normalization_2 (Bat  (None, None, 20, 10)         40        ['conv2d_2[0][0]']            \n",
            " chNormalization)                                                                                 \n",
            "                                                                                                  \n",
            " conv2d_3 (Conv2D)           (None, None, 20, 1)          51        ['batch_normalization_2[0][0]'\n",
            "                                                                    ]                             \n",
            "                                                                                                  \n",
            " batch_normalization_3 (Bat  (None, None, 20, 1)          4         ['conv2d_3[0][0]']            \n",
            " chNormalization)                                                                                 \n",
            "                                                                                                  \n",
            " squeeze_last_dim (Lambda)   (None, None, 20)             0         ['batch_normalization_3[0][0]'\n",
            "                                                                    ]                             \n",
            "                                                                                                  \n",
            " bidirectional_2 (Bidirecti  (None, None, 128)            43520     ['squeeze_last_dim[0][0]']    \n",
            " onal)                                                                                            \n",
            "                                                                                                  \n",
            " bidirectional_3 (Bidirecti  (None, None, 128)            98816     ['bidirectional_2[0][0]']     \n",
            " onal)                                                                                            \n",
            "                                                                                                  \n",
            " lambda_1 (Lambda)           (None, 128)                  0         ['bidirectional_3[0][0]']     \n",
            "                                                                                                  \n",
            " dense_3 (Dense)             (None, 128)                  16512     ['lambda_1[0][0]']            \n",
            "                                                                                                  \n",
            " dot_2 (Dot)                 (None, None)                 0         ['dense_3[0][0]',             \n",
            "                                                                     'bidirectional_3[0][0]']     \n",
            "                                                                                                  \n",
            " attSoftmax (Softmax)        (None, None)                 0         ['dot_2[0][0]']               \n",
            "                                                                                                  \n",
            " dot_3 (Dot)                 (None, 128)                  0         ['attSoftmax[0][0]',          \n",
            "                                                                     'bidirectional_3[0][0]']     \n",
            "                                                                                                  \n",
            " dense_4 (Dense)             (None, 64)                   8256      ['dot_3[0][0]']               \n",
            "                                                                                                  \n",
            " dense_5 (Dense)             (None, 32)                   2080      ['dense_4[0][0]']             \n",
            "                                                                                                  \n",
            " output (Dense)              (None, 4)                    132       ['dense_5[0][0]']             \n",
            "                                                                                                  \n",
            "==================================================================================================\n",
            "Total params: 169471 (662.00 KB)\n",
            "Trainable params: 169449 (661.91 KB)\n",
            "Non-trainable params: 22 (88.00 Byte)\n",
            "__________________________________________________________________________________________________\n"
          ]
        }
      ],
      "source": [
        "nCategs = len(classes)\n",
        "model = AttRNNSpeechModel(nCategs, samplingrate = sample_rate, inputLength = None)#, rnn_func=L.LSTM)\n",
        "\n",
        "model.compile(optimizer='adam', loss=['sparse_categorical_crossentropy'], metrics=['sparse_categorical_accuracy'])\n",
        "model.summary()"
      ]
    },
    {
      "cell_type": "markdown",
      "metadata": {
        "id": "chHPtaR1BDS_"
      },
      "source": [
        "Train the model:"
      ]
    },
    {
      "cell_type": "code",
      "execution_count": 30,
      "metadata": {
        "colab": {
          "base_uri": "https://localhost:8080/"
        },
        "id": "uHIn42VDEe5b",
        "outputId": "941be1fd-c20f-44ef-ebc8-57104ae16ec0"
      },
      "outputs": [
        {
          "name": "stdout",
          "output_type": "stream",
          "text": [
            "Changing learning rate to 0.001\n",
            "Epoch 1/50\n",
            "329/329 [==============================] - ETA: 0s - loss: 0.3873 - sparse_categorical_accuracy: 0.8667\n",
            "Epoch 1: val_sparse_categorical_accuracy improved from -inf to 0.88965, saving model to model-attRNN.h5\n",
            "329/329 [==============================] - 220s 619ms/step - loss: 0.3873 - sparse_categorical_accuracy: 0.8667 - val_loss: 0.3038 - val_sparse_categorical_accuracy: 0.8896 - lr: 0.0010\n",
            "Changing learning rate to 0.001\n",
            "Epoch 2/50\n"
          ]
        },
        {
          "name": "stderr",
          "output_type": "stream",
          "text": [
            "/usr/local/lib/python3.10/dist-packages/keras/src/engine/training.py:3103: UserWarning: You are saving your model as an HDF5 file via `model.save()`. This file format is considered legacy. We recommend using instead the native Keras format, e.g. `model.save('my_model.keras')`.\n",
            "  saving_api.save_model(\n"
          ]
        },
        {
          "name": "stdout",
          "output_type": "stream",
          "text": [
            "329/329 [==============================] - ETA: 0s - loss: 0.2230 - sparse_categorical_accuracy: 0.9236\n",
            "Epoch 2: val_sparse_categorical_accuracy improved from 0.88965 to 0.92085, saving model to model-attRNN.h5\n",
            "329/329 [==============================] - 206s 625ms/step - loss: 0.2230 - sparse_categorical_accuracy: 0.9236 - val_loss: 0.2199 - val_sparse_categorical_accuracy: 0.9209 - lr: 0.0010\n",
            "Changing learning rate to 0.001\n",
            "Epoch 3/50\n",
            "329/329 [==============================] - ETA: 0s - loss: 0.1675 - sparse_categorical_accuracy: 0.9407\n",
            "Epoch 3: val_sparse_categorical_accuracy improved from 0.92085 to 0.95129, saving model to model-attRNN.h5\n",
            "329/329 [==============================] - 203s 619ms/step - loss: 0.1675 - sparse_categorical_accuracy: 0.9407 - val_loss: 0.1518 - val_sparse_categorical_accuracy: 0.9513 - lr: 0.0010\n",
            "Changing learning rate to 0.001\n",
            "Epoch 4/50\n",
            "329/329 [==============================] - ETA: 0s - loss: 0.1398 - sparse_categorical_accuracy: 0.9526\n",
            "Epoch 4: val_sparse_categorical_accuracy did not improve from 0.95129\n",
            "329/329 [==============================] - 200s 605ms/step - loss: 0.1398 - sparse_categorical_accuracy: 0.9526 - val_loss: 0.1622 - val_sparse_categorical_accuracy: 0.9505 - lr: 0.0010\n",
            "Changing learning rate to 0.001\n",
            "Epoch 5/50\n",
            "329/329 [==============================] - ETA: 0s - loss: 0.1232 - sparse_categorical_accuracy: 0.9594\n",
            "Epoch 5: val_sparse_categorical_accuracy improved from 0.95129 to 0.95738, saving model to model-attRNN.h5\n",
            "329/329 [==============================] - 201s 612ms/step - loss: 0.1232 - sparse_categorical_accuracy: 0.9594 - val_loss: 0.1468 - val_sparse_categorical_accuracy: 0.9574 - lr: 0.0010\n",
            "Changing learning rate to 0.001\n",
            "Epoch 6/50\n",
            "329/329 [==============================] - ETA: 0s - loss: 0.1068 - sparse_categorical_accuracy: 0.9646\n",
            "Epoch 6: val_sparse_categorical_accuracy did not improve from 0.95738\n",
            "329/329 [==============================] - 201s 612ms/step - loss: 0.1068 - sparse_categorical_accuracy: 0.9646 - val_loss: 0.1288 - val_sparse_categorical_accuracy: 0.9574 - lr: 0.0010\n",
            "Changing learning rate to 0.001\n",
            "Epoch 7/50\n",
            "329/329 [==============================] - ETA: 0s - loss: 0.0988 - sparse_categorical_accuracy: 0.9660\n",
            "Epoch 7: val_sparse_categorical_accuracy did not improve from 0.95738\n",
            "329/329 [==============================] - 195s 593ms/step - loss: 0.0988 - sparse_categorical_accuracy: 0.9660 - val_loss: 0.1648 - val_sparse_categorical_accuracy: 0.9513 - lr: 0.0010\n",
            "Changing learning rate to 0.001\n",
            "Epoch 8/50\n",
            "329/329 [==============================] - ETA: 0s - loss: 0.0884 - sparse_categorical_accuracy: 0.9717\n",
            "Epoch 8: val_sparse_categorical_accuracy improved from 0.95738 to 0.96043, saving model to model-attRNN.h5\n",
            "329/329 [==============================] - 197s 601ms/step - loss: 0.0884 - sparse_categorical_accuracy: 0.9717 - val_loss: 0.1208 - val_sparse_categorical_accuracy: 0.9604 - lr: 0.0010\n",
            "Changing learning rate to 0.001\n",
            "Epoch 9/50\n",
            "329/329 [==============================] - ETA: 0s - loss: 0.0860 - sparse_categorical_accuracy: 0.9718\n",
            "Epoch 9: val_sparse_categorical_accuracy improved from 0.96043 to 0.96195, saving model to model-attRNN.h5\n",
            "329/329 [==============================] - 203s 618ms/step - loss: 0.0860 - sparse_categorical_accuracy: 0.9718 - val_loss: 0.1264 - val_sparse_categorical_accuracy: 0.9619 - lr: 0.0010\n",
            "Changing learning rate to 0.001\n",
            "Epoch 10/50\n",
            "329/329 [==============================] - ETA: 0s - loss: 0.0812 - sparse_categorical_accuracy: 0.9720\n",
            "Epoch 10: val_sparse_categorical_accuracy improved from 0.96195 to 0.96499, saving model to model-attRNN.h5\n",
            "329/329 [==============================] - 210s 639ms/step - loss: 0.0812 - sparse_categorical_accuracy: 0.9720 - val_loss: 0.1192 - val_sparse_categorical_accuracy: 0.9650 - lr: 0.0010\n",
            "Changing learning rate to 0.001\n",
            "Epoch 11/50\n",
            "329/329 [==============================] - ETA: 0s - loss: 0.0693 - sparse_categorical_accuracy: 0.9767\n",
            "Epoch 11: val_sparse_categorical_accuracy did not improve from 0.96499\n",
            "329/329 [==============================] - 199s 605ms/step - loss: 0.0693 - sparse_categorical_accuracy: 0.9767 - val_loss: 0.1370 - val_sparse_categorical_accuracy: 0.9551 - lr: 0.0010\n",
            "Changing learning rate to 0.001\n",
            "Epoch 12/50\n",
            "329/329 [==============================] - ETA: 0s - loss: 0.0706 - sparse_categorical_accuracy: 0.9793\n",
            "Epoch 12: val_sparse_categorical_accuracy did not improve from 0.96499\n",
            "329/329 [==============================] - 199s 607ms/step - loss: 0.0706 - sparse_categorical_accuracy: 0.9793 - val_loss: 0.1168 - val_sparse_categorical_accuracy: 0.9642 - lr: 0.0010\n",
            "Changing learning rate to 0.001\n",
            "Epoch 13/50\n",
            "329/329 [==============================] - ETA: 0s - loss: 0.0627 - sparse_categorical_accuracy: 0.9804\n",
            "Epoch 13: val_sparse_categorical_accuracy did not improve from 0.96499\n",
            "329/329 [==============================] - 200s 606ms/step - loss: 0.0627 - sparse_categorical_accuracy: 0.9804 - val_loss: 0.1357 - val_sparse_categorical_accuracy: 0.9559 - lr: 0.0010\n",
            "Changing learning rate to 0.001\n",
            "Epoch 14/50\n",
            "329/329 [==============================] - ETA: 0s - loss: 0.0475 - sparse_categorical_accuracy: 0.9842\n",
            "Epoch 14: val_sparse_categorical_accuracy improved from 0.96499 to 0.96575, saving model to model-attRNN.h5\n",
            "329/329 [==============================] - 204s 621ms/step - loss: 0.0475 - sparse_categorical_accuracy: 0.9842 - val_loss: 0.1089 - val_sparse_categorical_accuracy: 0.9658 - lr: 0.0010\n",
            "Changing learning rate to 0.0004\n",
            "Epoch 15/50\n",
            "329/329 [==============================] - ETA: 0s - loss: 0.0325 - sparse_categorical_accuracy: 0.9901\n",
            "Epoch 15: val_sparse_categorical_accuracy improved from 0.96575 to 0.96728, saving model to model-attRNN.h5\n",
            "329/329 [==============================] - 204s 619ms/step - loss: 0.0325 - sparse_categorical_accuracy: 0.9901 - val_loss: 0.1060 - val_sparse_categorical_accuracy: 0.9673 - lr: 4.0000e-04\n",
            "Changing learning rate to 0.0004\n",
            "Epoch 16/50\n",
            "329/329 [==============================] - ETA: 0s - loss: 0.0237 - sparse_categorical_accuracy: 0.9919\n",
            "Epoch 16: val_sparse_categorical_accuracy did not improve from 0.96728\n",
            "329/329 [==============================] - 201s 611ms/step - loss: 0.0237 - sparse_categorical_accuracy: 0.9919 - val_loss: 0.1249 - val_sparse_categorical_accuracy: 0.9642 - lr: 4.0000e-04\n",
            "Changing learning rate to 0.0004\n",
            "Epoch 17/50\n",
            "329/329 [==============================] - ETA: 0s - loss: 0.0228 - sparse_categorical_accuracy: 0.9922\n",
            "Epoch 17: val_sparse_categorical_accuracy did not improve from 0.96728\n",
            "329/329 [==============================] - 202s 614ms/step - loss: 0.0228 - sparse_categorical_accuracy: 0.9922 - val_loss: 0.1262 - val_sparse_categorical_accuracy: 0.9650 - lr: 4.0000e-04\n",
            "Changing learning rate to 0.0004\n",
            "Epoch 18/50\n",
            "329/329 [==============================] - ETA: 0s - loss: 0.0226 - sparse_categorical_accuracy: 0.9921\n",
            "Epoch 18: val_sparse_categorical_accuracy improved from 0.96728 to 0.97336, saving model to model-attRNN.h5\n",
            "329/329 [==============================] - 200s 609ms/step - loss: 0.0226 - sparse_categorical_accuracy: 0.9921 - val_loss: 0.1186 - val_sparse_categorical_accuracy: 0.9734 - lr: 4.0000e-04\n",
            "Changing learning rate to 0.0004\n",
            "Epoch 19/50\n",
            "329/329 [==============================] - ETA: 0s - loss: 0.0202 - sparse_categorical_accuracy: 0.9927\n",
            "Epoch 19: val_sparse_categorical_accuracy did not improve from 0.97336\n",
            "329/329 [==============================] - 201s 609ms/step - loss: 0.0202 - sparse_categorical_accuracy: 0.9927 - val_loss: 0.1349 - val_sparse_categorical_accuracy: 0.9658 - lr: 4.0000e-04\n",
            "Changing learning rate to 0.0004\n",
            "Epoch 20/50\n",
            "329/329 [==============================] - ETA: 0s - loss: 0.0175 - sparse_categorical_accuracy: 0.9934\n",
            "Epoch 20: val_sparse_categorical_accuracy did not improve from 0.97336\n",
            "329/329 [==============================] - 196s 595ms/step - loss: 0.0175 - sparse_categorical_accuracy: 0.9934 - val_loss: 0.1321 - val_sparse_categorical_accuracy: 0.9650 - lr: 4.0000e-04\n",
            "Changing learning rate to 0.0004\n",
            "Epoch 21/50\n",
            "329/329 [==============================] - ETA: 0s - loss: 0.0200 - sparse_categorical_accuracy: 0.9921\n",
            "Epoch 21: val_sparse_categorical_accuracy did not improve from 0.97336\n",
            "329/329 [==============================] - 202s 615ms/step - loss: 0.0200 - sparse_categorical_accuracy: 0.9921 - val_loss: 0.1187 - val_sparse_categorical_accuracy: 0.9665 - lr: 4.0000e-04\n",
            "Changing learning rate to 0.0004\n",
            "Epoch 22/50\n",
            "329/329 [==============================] - ETA: 0s - loss: 0.0200 - sparse_categorical_accuracy: 0.9930\n",
            "Epoch 22: val_sparse_categorical_accuracy did not improve from 0.97336\n",
            "329/329 [==============================] - 203s 616ms/step - loss: 0.0200 - sparse_categorical_accuracy: 0.9930 - val_loss: 0.1315 - val_sparse_categorical_accuracy: 0.9680 - lr: 4.0000e-04\n",
            "Changing learning rate to 0.0004\n",
            "Epoch 23/50\n",
            "329/329 [==============================] - ETA: 0s - loss: 0.0181 - sparse_categorical_accuracy: 0.9928\n",
            "Epoch 23: val_sparse_categorical_accuracy did not improve from 0.97336\n",
            "329/329 [==============================] - 203s 617ms/step - loss: 0.0181 - sparse_categorical_accuracy: 0.9928 - val_loss: 0.1303 - val_sparse_categorical_accuracy: 0.9726 - lr: 4.0000e-04\n",
            "Changing learning rate to 0.0004\n",
            "Epoch 24/50\n",
            "329/329 [==============================] - ETA: 0s - loss: 0.0192 - sparse_categorical_accuracy: 0.9932\n",
            "Epoch 24: val_sparse_categorical_accuracy did not improve from 0.97336\n",
            "329/329 [==============================] - 199s 605ms/step - loss: 0.0192 - sparse_categorical_accuracy: 0.9932 - val_loss: 0.1421 - val_sparse_categorical_accuracy: 0.9642 - lr: 4.0000e-04\n",
            "Changing learning rate to 0.0004\n",
            "Epoch 25/50\n",
            "329/329 [==============================] - ETA: 0s - loss: 0.0218 - sparse_categorical_accuracy: 0.9917\n",
            "Epoch 25: val_sparse_categorical_accuracy did not improve from 0.97336\n",
            "329/329 [==============================] - 202s 614ms/step - loss: 0.0218 - sparse_categorical_accuracy: 0.9917 - val_loss: 0.1376 - val_sparse_categorical_accuracy: 0.9673 - lr: 4.0000e-04\n",
            "Changing learning rate to 0.0004\n",
            "Epoch 26/50\n",
            "329/329 [==============================] - ETA: 0s - loss: 0.0163 - sparse_categorical_accuracy: 0.9931\n",
            "Epoch 26: val_sparse_categorical_accuracy did not improve from 0.97336\n",
            "329/329 [==============================] - 198s 601ms/step - loss: 0.0163 - sparse_categorical_accuracy: 0.9931 - val_loss: 0.1608 - val_sparse_categorical_accuracy: 0.9680 - lr: 4.0000e-04\n",
            "Changing learning rate to 0.0004\n",
            "Epoch 27/50\n",
            "329/329 [==============================] - ETA: 0s - loss: 0.0124 - sparse_categorical_accuracy: 0.9948\n",
            "Epoch 27: val_sparse_categorical_accuracy did not improve from 0.97336\n",
            "329/329 [==============================] - 201s 610ms/step - loss: 0.0124 - sparse_categorical_accuracy: 0.9948 - val_loss: 0.1311 - val_sparse_categorical_accuracy: 0.9673 - lr: 4.0000e-04\n",
            "Changing learning rate to 0.0004\n",
            "Epoch 28/50\n",
            "329/329 [==============================] - ETA: 0s - loss: 0.0123 - sparse_categorical_accuracy: 0.9952Restoring model weights from the end of the best epoch: 18.\n",
            "\n",
            "Epoch 28: val_sparse_categorical_accuracy did not improve from 0.97336\n",
            "329/329 [==============================] - 197s 600ms/step - loss: 0.0123 - sparse_categorical_accuracy: 0.9952 - val_loss: 0.1507 - val_sparse_categorical_accuracy: 0.9658 - lr: 4.0000e-04\n",
            "Epoch 28: early stopping\n"
          ]
        }
      ],
      "source": [
        "import math\n",
        "def step_decay(epoch):\n",
        "    initial_lrate = 0.001\n",
        "    drop = 0.4\n",
        "    epochs_drop = 15.0\n",
        "    lrate = initial_lrate * math.pow(drop,\n",
        "            math.floor((1+epoch)/epochs_drop))\n",
        "\n",
        "    if (lrate < 4e-5):\n",
        "        lrate = 4e-5\n",
        "\n",
        "    print('Changing learning rate to {}'.format(lrate))\n",
        "    return lrate\n",
        "\n",
        "lrate = LearningRateScheduler(step_decay)\n",
        "earlystopper = EarlyStopping(monitor='val_sparse_categorical_accuracy', patience=10,\n",
        "                             verbose=1, restore_best_weights=True)\n",
        "checkpointer = ModelCheckpoint('model-attRNN.h5', monitor='val_sparse_categorical_accuracy', verbose=1, save_best_only=True)\n",
        "\n",
        "results = model.fit(x_train, y_train, batch_size=32, epochs=50, validation_data=(x_val,y_val), use_multiprocessing=False,\n",
        "                    callbacks=[earlystopper, checkpointer, lrate])\n",
        "\n",
        "model.save('model-attRNN.h5')"
      ]
    },
    {
      "cell_type": "code",
      "execution_count": 33,
      "metadata": {
        "id": "gZr2nCtKdOe4"
      },
      "outputs": [],
      "source": [
        "model.save('model_attRNN.keras')"
      ]
    },
    {
      "cell_type": "markdown",
      "metadata": {
        "id": "Vf94z9nydvkY"
      },
      "source": [
        "Plot the training history:"
      ]
    },
    {
      "cell_type": "code",
      "execution_count": 35,
      "metadata": {
        "colab": {
          "base_uri": "https://localhost:8080/",
          "height": 927
        },
        "id": "3bEpzoMvdyZ0",
        "outputId": "8d7c06bf-8399-4985-a352-b9713b25f14a"
      },
      "outputs": [
        {
          "data": {
            "image/png": "[encoded data removed]",
            "text/plain": [
              "<Figure size 640x480 with 1 Axes>"
            ]
          },
          "metadata": {},
          "output_type": "display_data"
        },
        {
          "data": {
            "image/png": "[encoded data removed]",
            "text/plain": [
              "<Figure size 640x480 with 1 Axes>"
            ]
          },
          "metadata": {},
          "output_type": "display_data"
        }
      ],
      "source": [
        "import matplotlib.pyplot as plt\n",
        "\n",
        "# summarize history for categorical accuracy\n",
        "plt.plot(results.history['sparse_categorical_accuracy'])\n",
        "plt.plot(results.history['val_sparse_categorical_accuracy'])\n",
        "plt.title('Categorical accuracy')\n",
        "plt.ylabel('accuracy')\n",
        "plt.xlabel('epoch')\n",
        "plt.legend(['train', 'val'], loc='upper left')\n",
        "plt.show()\n",
        "# summarize history for loss\n",
        "plt.plot(results.history['loss'])\n",
        "plt.plot(results.history['val_loss'])\n",
        "plt.title('model loss')\n",
        "plt.ylabel('loss')\n",
        "plt.xlabel('epoch')\n",
        "plt.legend(['train', 'val'], loc='upper left')\n",
        "plt.show()"
      ]
    },
    {
      "cell_type": "markdown",
      "metadata": {
        "id": "PYuOtQ6Tgg1Q"
      },
      "source": [
        "Load the previously saved weights:"
      ]
    },
    {
      "cell_type": "code",
      "execution_count": null,
      "metadata": {
        "id": "eIXAofSegKEB"
      },
      "outputs": [],
      "source": [
        "# load the previously saved weights\n",
        "model.load_weights('model-attRNN.h5')"
      ]
    },
    {
      "cell_type": "markdown",
      "metadata": {
        "id": "avYLxu1Ref_T"
      },
      "source": [
        "Evaluate on the test set:"
      ]
    },
    {
      "cell_type": "code",
      "execution_count": 36,
      "metadata": {
        "colab": {
          "base_uri": "https://localhost:8080/"
        },
        "id": "grrXsocaeiG6",
        "outputId": "88b84108-69f9-468b-f572-81370ce9afd3"
      },
      "outputs": [
        {
          "name": "stdout",
          "output_type": "stream",
          "text": [
            "Test loss: 0.1601230800151825\n",
            "Test accuracy: 0.9612167477607727\n"
          ]
        }
      ],
      "source": [
        "score = model.evaluate(x_test, y_test, verbose=0)\n",
        "print('Test loss:', score[0])\n",
        "print('Test accuracy:', score[1])"
      ]
    },
    {
      "cell_type": "markdown",
      "metadata": {
        "id": "I4XuXKsXfe8P"
      },
      "source": [
        "Perform predictions on the test set and calculate the confusion matrix:"
      ]
    },
    {
      "cell_type": "code",
      "execution_count": 48,
      "metadata": {
        "colab": {
          "base_uri": "https://localhost:8080/"
        },
        "id": "wMukudZPfCdR",
        "outputId": "71b48cbc-22ca-4894-cab4-23ce213a2624"
      },
      "outputs": [
        {
          "name": "stdout",
          "output_type": "stream",
          "text": [
            "42/42 [==============================] - 10s 237ms/step\n",
            "[[537   9  13   2]\n",
            " [  5  78  10   1]\n",
            " [  9   2 639   0]\n",
            " [  0   0   0  10]]\n"
          ]
        }
      ],
      "source": [
        "from sklearn.metrics import confusion_matrix\n",
        "\n",
        "y_pred = model.predict(x_test, verbose=1)\n",
        "y_pred = np.argmax(y_pred,1)\n",
        "cm = confusion_matrix(y_test, y_pred)\n",
        "print(cm)"
      ]
    },
    {
      "cell_type": "markdown",
      "metadata": {
        "id": "8wA0LtNWhNEY"
      },
      "source": [
        "Function to predict for an external audio:"
      ]
    },
    {
      "cell_type": "code",
      "execution_count": 62,
      "metadata": {
        "id": "VFKKjLXxhU0_"
      },
      "outputs": [],
      "source": [
        "classes = np.asarray(classes)\n",
        "\n",
        "def predict_framewise(x, chunksize=chunksize, model=model):\n",
        "    # preprocess the input audio\n",
        "    x = np.asarray(preprocess(x, chunksize)).astype('float32')\n",
        "    # feed it into the model to produce predictions\n",
        "    y_pred = model.predict(x)\n",
        "    y_pred_probs = np.max(y_pred, axis=1)   # the probability of the highest scoring class\n",
        "    y_pred_categorical = np.argmax(y_pred, axis=1)\n",
        "    y_pred_labels = classes[y_pred_categorical]   # the label of the highest scoring class\n",
        "    return y_pred_labels, y_pred_probs"
      ]
    },
    {
      "cell_type": "markdown",
      "metadata": {
        "id": "kUq1l-faoys3"
      },
      "source": [
        "A plotter to plot the prediction result for the audio:"
      ]
    },
    {
      "cell_type": "code",
      "execution_count": 57,
      "metadata": {
        "id": "keWzRMzwoybo"
      },
      "outputs": [],
      "source": [
        "import matplotlib.pyplot as plt\n",
        "import pandas as pd\n",
        "import numpy as np\n",
        "from scipy.ndimage import gaussian_filter\n",
        "\n",
        "class TimescalePlotter:\n",
        "    def __init__(self, time_values:list, label_values:list, prob_values:list, filename:str, gold_label:str, color_map={'coughing': 'red', 'sneezing': 'blue', 'speech': 'green', 'silence': 'grey'}):\n",
        "        data = {\n",
        "            'Time': time_values,\n",
        "            'Label': label_values,\n",
        "            'Probability': prob_values,\n",
        "        }\n",
        "        if len(time_values) != len(label_values):\n",
        "            print(len(time_values))\n",
        "            print(len(label_values))\n",
        "        self.df = pd.DataFrame(data)\n",
        "        self.color_map = color_map\n",
        "        self.intervals = self._get_intervals()\n",
        "        self.merged_intervals = self._merge_intervals()     # neglecting probs\n",
        "        self.title = \"Gold label: \"+gold_label\n",
        "        self.filename = filename[:-4]\n",
        "\n",
        "    def _merge_intervals(self):\n",
        "        merged_intervals = []\n",
        "        current_label = self.df['Label'].iloc[0]\n",
        "        start_time = self.df['Time'].iloc[0]\n",
        "\n",
        "        for i in range(1, len(self.df)):\n",
        "            if self.df['Label'].iloc[i] != current_label:\n",
        "                merged_intervals.append((start_time, self.df['Time'].iloc[i], current_label))\n",
        "                current_label = self.df['Label'].iloc[i]\n",
        "                start_time = self.df['Time'].iloc[i]\n",
        "\n",
        "        # Add the last interval\n",
        "        merged_intervals.append((start_time, self.df['Time'].iloc[-1] + 1, current_label))\n",
        "        return merged_intervals\n",
        "\n",
        "    def _get_intervals(self):\n",
        "        intervals = []\n",
        "        current_label = self.df['Label'].iloc[0]\n",
        "        current_prob = self.df['Probability'].iloc[0]\n",
        "        start_time = self.df['Time'].iloc[0]\n",
        "\n",
        "        for i in range(1, len(self.df)):\n",
        "            intervals.append((start_time, self.df['Time'].iloc[i], current_label, current_prob))\n",
        "            current_label = self.df['Label'].iloc[i]\n",
        "            current_prob = self.df['Probability'].iloc[i]\n",
        "            start_time = self.df['Time'].iloc[i]\n",
        "\n",
        "        # Add the last interval\n",
        "        intervals.append((start_time, self.df['Time'].iloc[-1] + 1, current_label, current_prob))\n",
        "        return intervals\n",
        "\n",
        "    def plot(self, figsize=(20, 2)):\n",
        "        fig, ax = plt.subplots(figsize=figsize)  # Adjust the height by setting figsize to (width, height)\n",
        "\n",
        "        ## Add colored intervals regardless of probabilities\n",
        "        # for start_time, end_time, label in self.merged_intervals:\n",
        "        #     ax.axvspan(start_time, end_time, color=self.color_map[label], alpha=0.3, label=label)\n",
        "\n",
        "        # Add colored intervals with transparencies corresponding to probabilities\n",
        "        for start_time, end_time, label, prob in self.intervals:\n",
        "            ax.axvspan(start_time, end_time, color=self.color_map[label], alpha=prob, label=label)\n",
        "\n",
        "        # Add dummy entries for labels not present in data\n",
        "        for label, color in self.color_map.items():\n",
        "            if label not in self.df['Label'].unique():\n",
        "                ax.axvspan(np.NaN, np.NaN, color=color, alpha=0.3, label=label)\n",
        "\n",
        "        # Formatting the plot\n",
        "        ax.set_xlim(self.df['Time'].min() - 1, self.df['Time'].max() + 2)  # Adjust x-axis limits\n",
        "        ax.set_ylim(0.5, 1.5)  # Adjust y-axis limits to focus on the labels\n",
        "        ax.set_xlabel('Time (seconds)')\n",
        "        ax.set_ylabel('Label')\n",
        "        ax.set_title(self.title)  # Set the plot title\n",
        "\n",
        "        # Customizing ticks and grid\n",
        "        ax.xaxis.set_major_locator(plt.MaxNLocator(10))  # Show up to 10 major ticks on the x-axis\n",
        "        ax.yaxis.set_visible(False)  # Hide y-axis\n",
        "        ax.grid(True, which='both', axis='x', linestyle='--', linewidth=0.5)\n",
        "\n",
        "        # Create a legend\n",
        "        handles, labels = ax.get_legend_handles_labels()\n",
        "        by_label = dict(zip(labels, handles))\n",
        "        ax.legend(by_label.values(), by_label.keys(), loc='upper right')\n",
        "\n",
        "        # Display the plot\n",
        "        plt.show()"
      ]
    },
    {
      "cell_type": "markdown",
      "metadata": {
        "id": "0VZ0_bK-p2Pn"
      },
      "source": [
        "Test an example of an external audio:"
      ]
    },
    {
      "cell_type": "code",
      "execution_count": 63,
      "metadata": {
        "colab": {
          "base_uri": "https://localhost:8080/",
          "height": 843
        },
        "id": "_dPTIA17pz5m",
        "outputId": "11fd3e3b-ff2f-403e-872c-9addb4108477"
      },
      "outputs": [
        {
          "name": "stdout",
          "output_type": "stream",
          "text": [
            "4/4 [==============================] - 1s 267ms/step\n",
            "['speech' 'speech' 'speech' 'coughing' 'coughing' 'speech' 'speech'\n",
            " 'speech' 'speech' 'speech' 'sneezing' 'speech' 'coughing' 'speech'\n",
            " 'speech' 'speech' 'speech' 'speech' 'speech' 'speech' 'coughing' 'speech'\n",
            " 'speech' 'speech' 'speech' 'sneezing' 'speech' 'silence' 'coughing'\n",
            " 'coughing' 'sneezing' 'coughing' 'coughing' 'speech' 'sneezing'\n",
            " 'coughing' 'speech' 'speech' 'coughing' 'speech' 'coughing' 'sneezing'\n",
            " 'speech' 'sneezing' 'sneezing' 'coughing' 'sneezing' 'coughing' 'speech'\n",
            " 'speech' 'speech' 'speech' 'speech' 'speech' 'speech' 'sneezing'\n",
            " 'sneezing' 'speech' 'speech' 'speech' 'speech' 'coughing' 'speech'\n",
            " 'speech' 'speech' 'coughing' 'coughing' 'sneezing' 'coughing' 'coughing'\n",
            " 'sneezing' 'sneezing' 'coughing' 'speech' 'speech' 'speech' 'speech'\n",
            " 'speech' 'speech' 'speech' 'speech' 'speech' 'speech' 'speech' 'speech'\n",
            " 'speech' 'speech' 'speech' 'speech' 'sneezing' 'sneezing' 'speech'\n",
            " 'speech' 'speech' 'speech' 'speech' 'speech' 'speech' 'speech' 'speech'\n",
            " 'coughing' 'speech' 'speech' 'speech' 'speech' 'coughing' 'silence']\n",
            "[0.9999971  0.9999998  0.9999996  0.9886581  0.96595454 0.9999984\n",
            " 0.9999998  0.9999998  0.9999998  0.7037653  0.8698442  0.7004005\n",
            " 0.9991873  0.9852557  0.99999994 0.9966458  0.9999985  0.99611545\n",
            " 0.99999946 0.99999326 0.9967733  0.82718384 0.9997529  0.99999994\n",
            " 0.88694113 0.991968   0.6424098  0.7562023  0.9499107  0.9568424\n",
            " 0.99685353 0.6219178  0.79317343 0.9922636  0.9999855  0.9878593\n",
            " 0.99956566 0.81086445 0.5912635  0.9807914  0.98905367 0.99814785\n",
            " 0.8174706  0.9999866  0.999988   0.85692817 0.9626016  0.69005555\n",
            " 0.9972381  0.8311524  0.9999841  0.99987435 0.99484354 0.99999756\n",
            " 0.99997777 0.7942338  0.999216   0.9999978  0.9990291  0.99953204\n",
            " 0.86803293 0.8991969  0.5810601  0.6911273  0.9999979  0.8461563\n",
            " 0.57605284 0.46361998 0.8222585  0.73728555 0.5492333  0.9999834\n",
            " 0.9997575  0.9999934  0.9999228  0.9999998  0.999996   0.9484365\n",
            " 0.9999991  0.99579537 0.9999983  0.9999997  0.9460707  0.9999998\n",
            " 0.9999997  0.9999998  0.99999994 0.99999875 0.6632226  0.53046435\n",
            " 0.95750314 0.99999994 0.9999898  0.99999994 0.9999998  0.99999994\n",
            " 0.99997574 0.99998134 0.9995479  0.9973085  0.69883096 0.7800871\n",
            " 0.9999953  0.9999978  0.9999666  0.99959475 0.9834049 ]\n"
          ]
        },
        {
          "data": {
            "image/png": "[encoded data removed]",
            "text/plain": [
              "<Figure size 2000x200 with 1 Axes>"
            ]
          },
          "metadata": {},
          "output_type": "display_data"
        }
      ],
      "source": [
        "# testing\n",
        "eg_label = \"mixed\"\n",
        "eg_filename = \"qPo0bymnsh0.wav\"\n",
        "eg_f = os.path.join(directory, eg_label, eg_filename)\n",
        "eg_x, eg_sr = librosa.load(eg_f)\n",
        "eg_y_labels, eg_y_probs = predict_framewise(eg_x)\n",
        "print(eg_y_labels)\n",
        "print(eg_y_probs)\n",
        "\n",
        "chunk_duration = 1.0   # in second\n",
        "\n",
        "eg_audio_duration = chunk_duration*len(eg_y_labels)\n",
        "eg_timestamps = np.linspace(start=0, stop=eg_audio_duration, num=len(eg_y_labels))\n",
        "plotter = TimescalePlotter(list(eg_timestamps), list(eg_y_labels), list(eg_y_probs), eg_filename, eg_label)\n",
        "plotter.plot()\n"
      ]
    }
  ],
  "metadata": {
    "colab": {
      "provenance": []
    },
    "kernelspec": {
      "display_name": "Python 3",
      "name": "python3"
    },
    "language_info": {
      "name": "python"
    }
  },
  "nbformat": 4,
  "nbformat_minor": 0
}
