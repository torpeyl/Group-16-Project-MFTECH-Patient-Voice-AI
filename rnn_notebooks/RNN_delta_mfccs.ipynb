{
  "cells": [
    {
      "cell_type": "markdown",
      "metadata": {
        "id": "ueYfMuBMA8La"
      },
      "source": [
        "Load dependencies:"
      ]
    },
    {
      "cell_type": "code",
      "execution_count": 5,
      "metadata": {
        "colab": {
          "base_uri": "https://localhost:8080/"
        },
        "collapsed": true,
        "id": "CmOQfRarA6Sq",
        "outputId": "f218886f-395a-4fb2-fe9c-fd6f5dd76d96"
      },
      "outputs": [
        {
          "name": "stdout",
          "output_type": "stream",
          "text": [
            "Requirement already satisfied: tensorflow_io in /usr/local/lib/python3.10/dist-packages (0.37.0)\n",
            "Requirement already satisfied: tensorflow-io-gcs-filesystem==0.37.0 in /usr/local/lib/python3.10/dist-packages (from tensorflow_io) (0.37.0)\n"
          ]
        }
      ],
      "source": [
        "# !pip install opensmile\n",
        "!pip install tensorflow_io\n",
        "import os\n",
        "import numpy as np\n",
        "import librosa\n",
        "# import opensmile\n",
        "import math\n",
        "import scipy\n",
        "import tensorflow as tf\n",
        "import tensorflow_io as tfio\n",
        "\n",
        "directory = \"/content/drive/MyDrive/PatientVoiceAI/data\"\n",
        "model_dir = \"/content/drive/MyDrive/PatientVoiceAI/saved_models\""
      ]
    },
    {
      "cell_type": "markdown",
      "metadata": {
        "id": "8GHN_bCuFZ7l"
      },
      "source": [
        "Load and preprocess raw audio files in the dataset:"
      ]
    },
    {
      "cell_type": "code",
      "execution_count": 7,
      "metadata": {
        "colab": {
          "base_uri": "https://localhost:8080/"
        },
        "id": "R8Jszyt37RJZ",
        "outputId": "05c4884e-1a35-4773-e9bf-0534205e544c"
      },
      "outputs": [
        {
          "name": "stdout",
          "output_type": "stream",
          "text": [
            "(13143, 22050)\n",
            "[0.03695566 0.04142303 0.01117673 ... 0.         0.         0.        ]\n",
            "(13143,)\n",
            "0\n"
          ]
        }
      ],
      "source": [
        "def preprocess(x, chunksize):\n",
        "    x_len = len(x)\n",
        "    if x_len < chunksize:   # padding\n",
        "        processed = np.pad(x, (0,chunksize-x_len))  # right-pad with zero\n",
        "    elif x_len > chunksize: # splitting\n",
        "        tailing = x_len % chunksize\n",
        "        if tailing != 0:                # handle uneven splits: create overlap for the last chunk\n",
        "            x = np.concatenate((x[:-tailing], x[-chunksize:]))\n",
        "        num_chunks = int(round(len(x)/chunksize))\n",
        "        processed = np.array_split(x,num_chunks)\n",
        "    else:                   # no change\n",
        "        processed = np.array(x)\n",
        "    return processed\n",
        "\n",
        "def get_dataset(label, label_index, chunksize):\n",
        "    x_set = []\n",
        "    folder = os.path.join(directory, label)\n",
        "    for filename in os.listdir(folder):\n",
        "        f = os.path.join(folder, filename)\n",
        "        if os.path.isfile(f):\n",
        "            audio, sample_rate = librosa.load(f)\n",
        "            x_set.append(preprocess(audio,chunksize))\n",
        "    x_set = np.vstack(x_set)\n",
        "    y_set = np.repeat([label_index[label]],len(x_set))\n",
        "    return x_set,y_set\n",
        "\n",
        "\n",
        "classes = [\"coughing\", \"sneezing\", \"speech\", \"silence\"]\n",
        "\n",
        "label_index = {\n",
        "    \"coughing\":0,\n",
        "    \"sneezing\":1,\n",
        "    \"speech\":2,\n",
        "    \"silence\":3\n",
        "}\n",
        "\n",
        "sample_rate = 22050   # default sample rate in librosa\n",
        "chunksize = 1*sample_rate   # 1 second\n",
        "\n",
        "\n",
        "## initialise the dataset\n",
        "x_set = []\n",
        "y_set = []\n",
        "for label in classes:\n",
        "    x_subset, y_subset = get_dataset(label,label_index,chunksize)\n",
        "    x_set.extend(x_subset)\n",
        "    y_set.extend(y_subset)\n",
        "\n",
        "x_set = np.asarray(x_set).astype('float32')\n",
        "y_set = np.asarray(y_set)\n",
        "\n",
        "print(np.shape(x_set))\n",
        "print(x_set[0])\n",
        "print(np.shape(y_set))\n",
        "print(y_set[0])\n",
        "\n"
      ]
    },
    {
      "cell_type": "markdown",
      "metadata": {
        "id": "oqrfVOSgwikl"
      },
      "source": [
        "Store the dataset into a .csv file:"
      ]
    },
    {
      "cell_type": "code",
      "execution_count": 8,
      "metadata": {
        "id": "s3RMsBIywiRO"
      },
      "outputs": [],
      "source": [
        "# preprocessed_dataset = np.hstack((x_set, np.expand_dims(y_set,axis=1)))\n",
        "# np.savetxt('preprocessed_dataset.csv', preprocessed_dataset, fmt=\"%d\", delimiter=\",\")"
      ]
    },
    {
      "cell_type": "markdown",
      "metadata": {
        "id": "mV1zHlQbx2bU"
      },
      "source": [
        "Shuffle and split the dataset:"
      ]
    },
    {
      "cell_type": "code",
      "execution_count": 9,
      "metadata": {
        "colab": {
          "base_uri": "https://localhost:8080/"
        },
        "id": "ffc74cYSAVj4",
        "outputId": "b1607d9a-ce48-4757-8783-eb919c807bc9"
      },
      "outputs": [
        {
          "name": "stdout",
          "output_type": "stream",
          "text": [
            "(10514, 22050)\n",
            "(1314, 22050)\n",
            "(1315, 22050)\n"
          ]
        }
      ],
      "source": [
        "#Parameters for shuffling\n",
        "seed = 42\n",
        "np.random.seed(seed)\n",
        "N = len(y_set)\n",
        "\n",
        "shuffled_indices = np.random.permutation(N)\n",
        "\n",
        "# Apply the shuffled indices to both data and labels\n",
        "x_set = x_set[shuffled_indices]\n",
        "y_set = y_set[shuffled_indices]\n",
        "\n",
        "\n",
        "split_size_val = int(0.8*N)\n",
        "split_size_test = int(0.9*N)\n",
        "\n",
        "x_train, x_val, x_test = x_set[:split_size_val], x_set[split_size_val:split_size_test], x_set[split_size_test:]\n",
        "y_train, y_val, y_test = y_set[:split_size_val], y_set[split_size_val:split_size_test], y_set[split_size_test:]\n",
        "\n",
        "print(np.shape(x_train))\n",
        "print(np.shape(x_val))\n",
        "print(np.shape(x_test))"
      ]
    },
    {
      "cell_type": "markdown",
      "metadata": {
        "id": "wp4MYbJezuu5"
      },
      "source": [
        "Define a function to calculate normalised Mel-spectrogram:"
      ]
    },
    {
      "cell_type": "code",
      "execution_count": 10,
      "metadata": {
        "collapsed": true,
        "id": "0cobDxQkRtMH"
      },
      "outputs": [],
      "source": [
        "def get_normalised_mel_spectrogram(x, sr=sample_rate, n_mel_bins=20):\n",
        "    \"\"\"\n",
        "          Code adapted from https://github.com/douglas125/SpeechCmdRecognition/blob/master/audioUtils.py#L93\n",
        "    \"\"\"\n",
        "    spec_stride = 128\n",
        "    spec_len = 1024\n",
        "\n",
        "    spectrogram = tfio.audio.spectrogram(\n",
        "        x, nfft=spec_len, window=spec_len, stride=spec_stride\n",
        "    )\n",
        "\n",
        "    num_spectrogram_bins = spec_len // 2 + 1  # spectrogram.shape[-1]\n",
        "    lower_edge_hertz, upper_edge_hertz = 40.0, 8000.0\n",
        "    num_mel_bins = n_mel_bins\n",
        "    linear_to_mel_weight_matrix = tf.signal.linear_to_mel_weight_matrix(\n",
        "      num_mel_bins, num_spectrogram_bins, sr, lower_edge_hertz,\n",
        "      upper_edge_hertz)\n",
        "    mel_spectrograms = tf.tensordot(spectrogram, linear_to_mel_weight_matrix, 1)\n",
        "    mel_spectrograms.set_shape(spectrogram.shape[:-1].concatenate(linear_to_mel_weight_matrix.shape[-1:]))\n",
        "\n",
        "    # Compute a stabilized log to get log-magnitude mel-scale spectrograms.\n",
        "    log_mel_spectrograms = tf.math.log(mel_spectrograms + 1e-6)\n",
        "    avg = tf.math.reduce_mean(log_mel_spectrograms)\n",
        "    std = tf.math.reduce_std(log_mel_spectrograms)\n",
        "\n",
        "    return (log_mel_spectrograms - avg) / std\n",
        "\n",
        "\n",
        "# testing\n",
        "# print(get_normalised_mel_spectrogram(x_set[1]))"
      ]
    },
    {
      "cell_type": "markdown",
      "metadata": {
        "id": "zt7wGQbbzxqA"
      },
      "source": [
        "Define a function to calculate MFCCs:\n",
        "1. Support deltas\n",
        "   \n",
        "   reasoning behind using deltas: https://www.cs.cmu.edu/afs/cs/user/robust/www/Papers/KumarKimSternICA11.pdf\n",
        "2. Only take first 13?\n",
        "   \n",
        "   https://www.quora.com/In-speech-processing-why-do-we-consider-only-first-13-MFCCs"
      ]
    },
    {
      "cell_type": "code",
      "execution_count": null,
      "metadata": {
        "colab": {
          "base_uri": "https://localhost:8080/"
        },
        "collapsed": true,
        "id": "wZWgF93uYTJ0",
        "outputId": "75d59dfd-80f0-4cc2-874f-f85370e895c3"
      },
      "outputs": [],
      "source": [
        "# kernel_delta_array = np.array([\n",
        "#         [ 0, 1, 0 ],\n",
        "#         [ 0, 0, 0 ],\n",
        "#         [ 0, -1, 0 ]])\n",
        "# kernel_delta = tf.constant(kernel_delta_array*0.5, dtype=tf.float32)\n",
        "# kernel_delta = tf.expand_dims(kernel_delta,axis=2)\n",
        "# kernel_delta = tf.expand_dims(kernel_delta,axis=3)\n",
        "# print(kernel_delta)"
      ]
    },
    {
      "cell_type": "code",
      "execution_count": 12,
      "metadata": {
        "colab": {
          "base_uri": "https://localhost:8080/"
        },
        "collapsed": true,
        "id": "EXQ7WkH3zPEI",
        "outputId": "e5bf93c9-9497-4d98-dc25-005979800c79"
      },
      "outputs": [
        {
          "name": "stdout",
          "output_type": "stream",
          "text": [
            "tf.Tensor(\n",
            "[[[[-1.1391327e+00]\n",
            "   [ 4.5120702e+00]\n",
            "   [ 8.9796460e-01]\n",
            "   ...\n",
            "   [-8.4176324e-02]\n",
            "   [-5.4025456e-02]\n",
            "   [ 1.9546568e-02]]\n",
            "\n",
            "  [[-8.6550301e-01]\n",
            "   [ 4.4316506e+00]\n",
            "   [ 8.2762676e-01]\n",
            "   ...\n",
            "   [-7.2255053e-02]\n",
            "   [-1.3231782e-02]\n",
            "   [ 6.5542944e-02]]\n",
            "\n",
            "  [[-5.8968824e-01]\n",
            "   [ 4.1779132e+00]\n",
            "   [ 6.7887598e-01]\n",
            "   ...\n",
            "   [-8.9412704e-03]\n",
            "   [ 6.5258205e-02]\n",
            "   [ 9.1923885e-02]]\n",
            "\n",
            "  ...\n",
            "\n",
            "  [[-8.1044227e-01]\n",
            "   [ 2.5797966e+00]\n",
            "   [ 2.7624258e-01]\n",
            "   ...\n",
            "   [ 7.7299535e-02]\n",
            "   [ 1.1543093e-02]\n",
            "   [-6.2442971e-03]]\n",
            "\n",
            "  [[-6.1357007e+00]\n",
            "   [ 2.3233545e+00]\n",
            "   [ 4.0918165e-01]\n",
            "   ...\n",
            "   [ 6.3506462e-02]\n",
            "   [ 4.5327272e-02]\n",
            "   [-5.1596239e-03]]\n",
            "\n",
            "  [[-2.3010492e+01]\n",
            "   [ 4.9411267e-02]\n",
            "   [-6.2049234e-01]\n",
            "   ...\n",
            "   [ 3.1159768e-02]\n",
            "   [ 5.7488121e-02]\n",
            "   [-3.6790131e-03]]]], shape=(1, 173, 39, 1), dtype=float32)\n"
          ]
        }
      ],
      "source": [
        "def get_mfccs(x, sr=sample_rate, n=20, deltas=False):\n",
        "\n",
        "    log_mel_spectrograms = get_normalised_mel_spectrogram(x, sr=sr, n_mel_bins=n)\n",
        "\n",
        "    ## Compute MFCCs from log_mel_spectrograms and take the first 13\n",
        "    mfccs = tf.signal.mfccs_from_log_mel_spectrograms(log_mel_spectrograms)[..., :13]\n",
        "    # convert MFCCs into the shape of NHWC format (4D: batch_size, height, width, channels)\n",
        "    mfccs = tf.expand_dims(mfccs,axis=-1)\n",
        "    if not deltas:\n",
        "        return mfccs\n",
        "\n",
        "    ## calculate delta MFCCs\n",
        "    # define the kernel in the shape of (4D: filter_height, filter_width, in_channels, out_channels)\n",
        "    kernel_delta_array = np.array([\n",
        "        [ 0, 1, 0 ],\n",
        "        [ 0, 0, 0 ],\n",
        "        [ 0, -1, 0 ]])\n",
        "    kernel_delta = tf.constant(kernel_delta_array*0.5, dtype=tf.float32)\n",
        "    kernel_delta = tf.expand_dims(kernel_delta,axis=2)\n",
        "    kernel_delta = tf.expand_dims(kernel_delta,axis=3)\n",
        "\n",
        "    # convolve the kernel with MFCCs\n",
        "    delta_MFCCs = tf.nn.conv2d(\n",
        "          mfccs,\n",
        "          kernel_delta,\n",
        "          strides = [1,1,1,1],\n",
        "          padding=\"SAME\")\n",
        "\n",
        "    ## calculate double delta MFCCs\n",
        "    # define the kernel in the shape of (4D: filter_height, filter_width, in_channels, out_channels)\n",
        "    kernel_double_delta_array = np.array([\n",
        "        [ 0, 0, 2, 0, 0 ],\n",
        "        [ 0, 0, 1, 0, 0 ],\n",
        "        [ 0, 0, 0, 0, 0 ],\n",
        "        [ 0, 0, -1, 0, 0 ],\n",
        "        [ 0, 0, -2, 0, 0 ]])\n",
        "    kernel_double_delta = tf.constant(kernel_double_delta_array*0.1, dtype=tf.float32)\n",
        "    kernel_double_delta = tf.expand_dims(kernel_double_delta,axis=2)\n",
        "    kernel_double_delta = tf.expand_dims(kernel_double_delta,axis=3)\n",
        "\n",
        "    # convolve the kernel with MFCCs\n",
        "    double_delta_MFCCs = tf.nn.convolution(\n",
        "          mfccs,\n",
        "          kernel_double_delta,\n",
        "          strides = [1,1,1,1],\n",
        "          padding=\"SAME\")\n",
        "\n",
        "    ## combine the MFCCs with deltas and double deltas\n",
        "    combined_MFCCs = (tf.concat((mfccs,delta_MFCCs,double_delta_MFCCs),axis=2))\n",
        "\n",
        "    return combined_MFCCs\n",
        "\n",
        "# testing\n",
        "# print(get_mfccs([x_set[1]],deltas=True))"
      ]
    },
    {
      "cell_type": "markdown",
      "metadata": {
        "id": "aOuuvEsV5FPm"
      },
      "source": [
        "Build a model:"
      ]
    },
    {
      "cell_type": "code",
      "execution_count": 13,
      "metadata": {
        "id": "TDXcZx6T5E1l"
      },
      "outputs": [],
      "source": [
        "\"\"\"\n",
        "      Code adapted from https://github.com/douglas125/SpeechCmdRecognition/blob/master/SpeechModels.py\n",
        "\"\"\"\n",
        "\n",
        "from tensorflow import keras\n",
        "from keras import layers as L\n",
        "from keras import backend as K\n",
        "from keras.utils import to_categorical\n",
        "from keras.callbacks import EarlyStopping, ModelCheckpoint, LearningRateScheduler\n",
        "from keras import backend as K\n",
        "from keras import optimizers\n",
        "from keras.models import Model, load_model\n",
        "\n",
        "\n",
        "def get_melspec_model(iLen=None):\n",
        "    inp = L.Input((iLen,), name='input')\n",
        "    mel_spec = get_normalised_mel_spectrogram(inp)\n",
        "    melspecModel = Model(inputs=inp, outputs=mel_spec, name='normalised_spectrogram_model')\n",
        "    return melspecModel\n",
        "\n",
        "def get_mfccs_model(iLen=None):\n",
        "    inp = L.Input((iLen,), name='input')\n",
        "    mfccs = get_mfccs(inp, deltas=True)\n",
        "    mfccsModel = Model(inputs=inp, outputs=mfccs, name='normalised_mfccs_model')\n",
        "    return mfccsModel\n",
        "\n",
        "def AttRNNSpeechModel(nCategories, samplingrate=sample_rate,\n",
        "                      inputLength=chunksize, rnn_func=L.LSTM):\n",
        "    # simple LSTM\n",
        "    sr = samplingrate\n",
        "    iLen = inputLength\n",
        "\n",
        "    inputs = L.Input((inputLength,), name='input')\n",
        "\n",
        "    # m =  get_melspec_model(iLen=inputLength)\n",
        "    m =  get_mfccs_model(iLen=inputLength)\n",
        "    m.trainable = False\n",
        "\n",
        "    x = m(inputs)\n",
        "    # x = tf.expand_dims(x, axis=-1, name='mel_stft')   # only required for mel-spectrograms\n",
        "\n",
        "    x = L.Conv2D(10, (5, 1), activation='relu', padding='same')(x)\n",
        "    x = L.BatchNormalization()(x)\n",
        "    x = L.Conv2D(1, (5, 1), activation='relu', padding='same')(x)\n",
        "    x = L.BatchNormalization()(x)\n",
        "\n",
        "    # x = Reshape((125, 80)) (x)\n",
        "    # keras.backend.squeeze(x, axis)\n",
        "    x = L.Lambda(lambda q: K.squeeze(q, -1), name='squeeze_last_dim')(x)\n",
        "\n",
        "    x = L.Bidirectional(rnn_func(64, return_sequences=True)\n",
        "                        )(x)  # [b_s, seq_len, vec_dim]\n",
        "    x = L.Bidirectional(rnn_func(64, return_sequences=True)\n",
        "                        )(x)  # [b_s, seq_len, vec_dim]\n",
        "\n",
        "    # xFirst = L.Lambda(lambda q: q[:, -1])(x)  # [b_s, vec_dim]\n",
        "    # query = L.Dense(128)(xFirst)\n",
        "\n",
        "    # # dot product attention\n",
        "    # attScores = L.Dot(axes=[1, 2])([query, x])\n",
        "    # attScores = L.Softmax(name='attSoftmax')(attScores)  # [b_s, seq_len]\n",
        "\n",
        "    # # rescale sequence\n",
        "    # attVector = L.Dot(axes=[1, 1])([attScores, x])  # [b_s, vec_dim]\n",
        "\n",
        "    # for classification\n",
        "    x = L.GlobalAveragePooling1D()(x)\n",
        "    x = L.Dense(64, activation='relu')(x)      #(attVector)\n",
        "    x = L.Dense(32)(x)\n",
        "\n",
        "    output = L.Dense(nCategories, activation='softmax', name='output')(x)\n",
        "\n",
        "    model = Model(inputs=[inputs], outputs=[output])\n",
        "\n",
        "    return model"
      ]
    },
    {
      "cell_type": "markdown",
      "metadata": {
        "id": "VEeJ9x4b8HUK"
      },
      "source": [
        "Create a model:"
      ]
    },
    {
      "cell_type": "code",
      "execution_count": 14,
      "metadata": {
        "colab": {
          "base_uri": "https://localhost:8080/"
        },
        "id": "5vl49hiB7cvA",
        "outputId": "7d38067a-9d09-49d5-864c-9dc8ee564aee"
      },
      "outputs": [
        {
          "name": "stdout",
          "output_type": "stream",
          "text": [
            "Model: \"model\"\n",
            "_________________________________________________________________\n",
            " Layer (type)                Output Shape              Param #   \n",
            "=================================================================\n",
            " input (InputLayer)          [(None, None)]            0         \n",
            "                                                                 \n",
            " normalised_mfccs_model (Fu  (None, None, 39, 1)       0         \n",
            " nctional)                                                       \n",
            "                                                                 \n",
            " conv2d (Conv2D)             (None, None, 39, 10)      60        \n",
            "                                                                 \n",
            " batch_normalization (Batch  (None, None, 39, 10)      40        \n",
            " Normalization)                                                  \n",
            "                                                                 \n",
            " conv2d_1 (Conv2D)           (None, None, 39, 1)       51        \n",
            "                                                                 \n",
            " batch_normalization_1 (Bat  (None, None, 39, 1)       4         \n",
            " chNormalization)                                                \n",
            "                                                                 \n",
            " squeeze_last_dim (Lambda)   (None, None, 39)          0         \n",
            "                                                                 \n",
            " bidirectional (Bidirection  (None, None, 128)         53248     \n",
            " al)                                                             \n",
            "                                                                 \n",
            " bidirectional_1 (Bidirecti  (None, None, 128)         98816     \n",
            " onal)                                                           \n",
            "                                                                 \n",
            " global_average_pooling1d (  (None, 128)               0         \n",
            " GlobalAveragePooling1D)                                         \n",
            "                                                                 \n",
            " dense (Dense)               (None, 64)                8256      \n",
            "                                                                 \n",
            " dense_1 (Dense)             (None, 32)                2080      \n",
            "                                                                 \n",
            " output (Dense)              (None, 4)                 132       \n",
            "                                                                 \n",
            "=================================================================\n",
            "Total params: 162687 (635.50 KB)\n",
            "Trainable params: 162665 (635.41 KB)\n",
            "Non-trainable params: 22 (88.00 Byte)\n",
            "_________________________________________________________________\n"
          ]
        }
      ],
      "source": [
        "nCategs = len(classes)\n",
        "model = AttRNNSpeechModel(nCategs, samplingrate = sample_rate, inputLength = None)#, rnn_func=L.LSTM)\n",
        "\n",
        "model.compile(optimizer='adam', loss=['sparse_categorical_crossentropy'], metrics=['sparse_categorical_accuracy'])\n",
        "model.summary()"
      ]
    },
    {
      "cell_type": "markdown",
      "metadata": {
        "id": "chHPtaR1BDS_"
      },
      "source": [
        "Train the model:"
      ]
    },
    {
      "cell_type": "code",
      "execution_count": 15,
      "metadata": {
        "colab": {
          "base_uri": "https://localhost:8080/"
        },
        "id": "uHIn42VDEe5b",
        "outputId": "e787251e-890d-4624-933e-17099134815b"
      },
      "outputs": [
        {
          "name": "stdout",
          "output_type": "stream",
          "text": [
            "Changing learning rate to 0.001\n",
            "Epoch 1/50\n",
            "329/329 [==============================] - ETA: 0s - loss: 0.3263 - sparse_categorical_accuracy: 0.8835\n",
            "Epoch 1: val_sparse_categorical_accuracy improved from -inf to 0.86910, saving model to /content/drive/MyDrive/PatientVoiceAI/saved_models/model-delta-mfccs-RNN.h5\n"
          ]
        },
        {
          "name": "stderr",
          "output_type": "stream",
          "text": [
            "/usr/local/lib/python3.10/dist-packages/keras/src/engine/training.py:3103: UserWarning: You are saving your model as an HDF5 file via `model.save()`. This file format is considered legacy. We recommend using instead the native Keras format, e.g. `model.save('my_model.keras')`.\n",
            "  saving_api.save_model(\n"
          ]
        },
        {
          "name": "stdout",
          "output_type": "stream",
          "text": [
            "\b\b\b\b\b\b\b\b\b\b\b\b\b\b\b\b\b\b\b\b\b\b\b\b\b\b\b\b\b\b\b\b\b\b\b\b\b\b\b\b\b\b\b\b\b\b\b\b\b\b\b\b\b\b\b\b\b\b\b\b\b\b\b\b\b\b\b\b\b\b\b\b\b\b\b\b\b\b\b\b\b\b\b\b\b\b\b\b\b\b\b\b\b\b\b\b\b\b\b\b\b\b\b\r329/329 [==============================] - 221s 640ms/step - loss: 0.3263 - sparse_categorical_accuracy: 0.8835 - val_loss: 0.4366 - val_sparse_categorical_accuracy: 0.8691 - lr: 0.0010\n",
            "Changing learning rate to 0.001\n",
            "Epoch 2/50\n",
            "329/329 [==============================] - ETA: 0s - loss: 0.1459 - sparse_categorical_accuracy: 0.9522\n",
            "Epoch 2: val_sparse_categorical_accuracy improved from 0.86910 to 0.94673, saving model to /content/drive/MyDrive/PatientVoiceAI/saved_models/model-delta-mfccs-RNN.h5\n",
            "329/329 [==============================] - 211s 641ms/step - loss: 0.1459 - sparse_categorical_accuracy: 0.9522 - val_loss: 0.1718 - val_sparse_categorical_accuracy: 0.9467 - lr: 0.0010\n",
            "Changing learning rate to 0.001\n",
            "Epoch 3/50\n",
            "329/329 [==============================] - ETA: 0s - loss: 0.1058 - sparse_categorical_accuracy: 0.9644\n",
            "Epoch 3: val_sparse_categorical_accuracy improved from 0.94673 to 0.95129, saving model to /content/drive/MyDrive/PatientVoiceAI/saved_models/model-delta-mfccs-RNN.h5\n",
            "329/329 [==============================] - 213s 649ms/step - loss: 0.1058 - sparse_categorical_accuracy: 0.9644 - val_loss: 0.1467 - val_sparse_categorical_accuracy: 0.9513 - lr: 0.0010\n",
            "Changing learning rate to 0.001\n",
            "Epoch 4/50\n",
            "329/329 [==============================] - ETA: 0s - loss: 0.0772 - sparse_categorical_accuracy: 0.9744\n",
            "Epoch 4: val_sparse_categorical_accuracy improved from 0.95129 to 0.95586, saving model to /content/drive/MyDrive/PatientVoiceAI/saved_models/model-delta-mfccs-RNN.h5\n",
            "329/329 [==============================] - 209s 637ms/step - loss: 0.0772 - sparse_categorical_accuracy: 0.9744 - val_loss: 0.1489 - val_sparse_categorical_accuracy: 0.9559 - lr: 0.0010\n",
            "Changing learning rate to 0.001\n",
            "Epoch 5/50\n",
            "329/329 [==============================] - ETA: 0s - loss: 0.0700 - sparse_categorical_accuracy: 0.9762\n",
            "Epoch 5: val_sparse_categorical_accuracy improved from 0.95586 to 0.96347, saving model to /content/drive/MyDrive/PatientVoiceAI/saved_models/model-delta-mfccs-RNN.h5\n",
            "329/329 [==============================] - 209s 636ms/step - loss: 0.0700 - sparse_categorical_accuracy: 0.9762 - val_loss: 0.1103 - val_sparse_categorical_accuracy: 0.9635 - lr: 0.0010\n",
            "Changing learning rate to 0.001\n",
            "Epoch 6/50\n",
            "329/329 [==============================] - ETA: 0s - loss: 0.0548 - sparse_categorical_accuracy: 0.9808\n",
            "Epoch 6: val_sparse_categorical_accuracy improved from 0.96347 to 0.96575, saving model to /content/drive/MyDrive/PatientVoiceAI/saved_models/model-delta-mfccs-RNN.h5\n",
            "329/329 [==============================] - 211s 642ms/step - loss: 0.0548 - sparse_categorical_accuracy: 0.9808 - val_loss: 0.0989 - val_sparse_categorical_accuracy: 0.9658 - lr: 0.0010\n",
            "Changing learning rate to 0.001\n",
            "Epoch 7/50\n",
            "329/329 [==============================] - ETA: 0s - loss: 0.0427 - sparse_categorical_accuracy: 0.9851\n",
            "Epoch 7: val_sparse_categorical_accuracy improved from 0.96575 to 0.97336, saving model to /content/drive/MyDrive/PatientVoiceAI/saved_models/model-delta-mfccs-RNN.h5\n",
            "329/329 [==============================] - 208s 632ms/step - loss: 0.0427 - sparse_categorical_accuracy: 0.9851 - val_loss: 0.1000 - val_sparse_categorical_accuracy: 0.9734 - lr: 0.0010\n",
            "Changing learning rate to 0.001\n",
            "Epoch 8/50\n",
            "329/329 [==============================] - ETA: 0s - loss: 0.0369 - sparse_categorical_accuracy: 0.9875\n",
            "Epoch 8: val_sparse_categorical_accuracy did not improve from 0.97336\n",
            "329/329 [==============================] - 208s 633ms/step - loss: 0.0369 - sparse_categorical_accuracy: 0.9875 - val_loss: 0.1107 - val_sparse_categorical_accuracy: 0.9680 - lr: 0.0010\n",
            "Changing learning rate to 0.001\n",
            "Epoch 9/50\n",
            "329/329 [==============================] - ETA: 0s - loss: 0.0252 - sparse_categorical_accuracy: 0.9913\n",
            "Epoch 9: val_sparse_categorical_accuracy did not improve from 0.97336\n",
            "329/329 [==============================] - 206s 625ms/step - loss: 0.0252 - sparse_categorical_accuracy: 0.9913 - val_loss: 0.1142 - val_sparse_categorical_accuracy: 0.9642 - lr: 0.0010\n",
            "Changing learning rate to 0.001\n",
            "Epoch 10/50\n",
            "329/329 [==============================] - ETA: 0s - loss: 0.0296 - sparse_categorical_accuracy: 0.9903\n",
            "Epoch 10: val_sparse_categorical_accuracy did not improve from 0.97336\n",
            "329/329 [==============================] - 208s 632ms/step - loss: 0.0296 - sparse_categorical_accuracy: 0.9903 - val_loss: 0.1288 - val_sparse_categorical_accuracy: 0.9635 - lr: 0.0010\n",
            "Changing learning rate to 0.001\n",
            "Epoch 11/50\n",
            "329/329 [==============================] - ETA: 0s - loss: 0.0214 - sparse_categorical_accuracy: 0.9924\n",
            "Epoch 11: val_sparse_categorical_accuracy did not improve from 0.97336\n",
            "329/329 [==============================] - 208s 633ms/step - loss: 0.0214 - sparse_categorical_accuracy: 0.9924 - val_loss: 0.1428 - val_sparse_categorical_accuracy: 0.9665 - lr: 0.0010\n",
            "Changing learning rate to 0.001\n",
            "Epoch 12/50\n",
            "329/329 [==============================] - ETA: 0s - loss: 0.0347 - sparse_categorical_accuracy: 0.9882\n",
            "Epoch 12: val_sparse_categorical_accuracy did not improve from 0.97336\n",
            "329/329 [==============================] - 207s 631ms/step - loss: 0.0347 - sparse_categorical_accuracy: 0.9882 - val_loss: 0.1380 - val_sparse_categorical_accuracy: 0.9665 - lr: 0.0010\n",
            "Changing learning rate to 0.001\n",
            "Epoch 13/50\n",
            "329/329 [==============================] - ETA: 0s - loss: 0.0216 - sparse_categorical_accuracy: 0.9930\n",
            "Epoch 13: val_sparse_categorical_accuracy did not improve from 0.97336\n",
            "329/329 [==============================] - 208s 634ms/step - loss: 0.0216 - sparse_categorical_accuracy: 0.9930 - val_loss: 0.1713 - val_sparse_categorical_accuracy: 0.9490 - lr: 0.0010\n",
            "Changing learning rate to 0.001\n",
            "Epoch 14/50\n",
            "329/329 [==============================] - ETA: 0s - loss: 0.0159 - sparse_categorical_accuracy: 0.9936\n",
            "Epoch 14: val_sparse_categorical_accuracy did not improve from 0.97336\n",
            "329/329 [==============================] - 208s 634ms/step - loss: 0.0159 - sparse_categorical_accuracy: 0.9936 - val_loss: 0.1523 - val_sparse_categorical_accuracy: 0.9688 - lr: 0.0010\n",
            "Changing learning rate to 0.0004\n",
            "Epoch 15/50\n",
            "329/329 [==============================] - ETA: 0s - loss: 0.0094 - sparse_categorical_accuracy: 0.9962\n",
            "Epoch 15: val_sparse_categorical_accuracy did not improve from 0.97336\n",
            "329/329 [==============================] - 208s 632ms/step - loss: 0.0094 - sparse_categorical_accuracy: 0.9962 - val_loss: 0.1300 - val_sparse_categorical_accuracy: 0.9680 - lr: 4.0000e-04\n",
            "Changing learning rate to 0.0004\n",
            "Epoch 16/50\n",
            "329/329 [==============================] - ETA: 0s - loss: 0.0070 - sparse_categorical_accuracy: 0.9967\n",
            "Epoch 16: val_sparse_categorical_accuracy did not improve from 0.97336\n",
            "329/329 [==============================] - 208s 630ms/step - loss: 0.0070 - sparse_categorical_accuracy: 0.9967 - val_loss: 0.1302 - val_sparse_categorical_accuracy: 0.9688 - lr: 4.0000e-04\n",
            "Changing learning rate to 0.0004\n",
            "Epoch 17/50\n",
            "329/329 [==============================] - ETA: 0s - loss: 0.0065 - sparse_categorical_accuracy: 0.9964Restoring model weights from the end of the best epoch: 7.\n",
            "\n",
            "Epoch 17: val_sparse_categorical_accuracy did not improve from 0.97336\n",
            "329/329 [==============================] - 208s 631ms/step - loss: 0.0065 - sparse_categorical_accuracy: 0.9964 - val_loss: 0.1361 - val_sparse_categorical_accuracy: 0.9718 - lr: 4.0000e-04\n",
            "Epoch 17: early stopping\n"
          ]
        }
      ],
      "source": [
        "import math\n",
        "def step_decay(epoch):\n",
        "    initial_lrate = 0.001\n",
        "    drop = 0.4\n",
        "    epochs_drop = 15.0\n",
        "    lrate = initial_lrate * math.pow(drop,\n",
        "            math.floor((1+epoch)/epochs_drop))\n",
        "\n",
        "    if (lrate < 4e-5):\n",
        "        lrate = 4e-5\n",
        "\n",
        "    print('Changing learning rate to {}'.format(lrate))\n",
        "    return lrate\n",
        "\n",
        "model_name = 'model-delta-mfccs-RNN.h5'\n",
        "model_path = os.path.join(model_dir, model_name)\n",
        "lrate = LearningRateScheduler(step_decay)\n",
        "earlystopper = EarlyStopping(monitor='val_sparse_categorical_accuracy', patience=10,\n",
        "                             verbose=1, restore_best_weights=True)\n",
        "checkpointer = ModelCheckpoint(model_path, monitor='val_sparse_categorical_accuracy', verbose=1, save_best_only=True)\n",
        "\n",
        "results = model.fit(x_train, y_train, batch_size=32, epochs=50, validation_data=(x_val,y_val), use_multiprocessing=False,\n",
        "                    callbacks=[earlystopper, checkpointer, lrate])\n",
        "\n"
      ]
    },
    {
      "cell_type": "markdown",
      "metadata": {
        "id": "Vf94z9nydvkY"
      },
      "source": [
        "Plot the training history:"
      ]
    },
    {
      "cell_type": "code",
      "execution_count": 16,
      "metadata": {
        "colab": {
          "base_uri": "https://localhost:8080/",
          "height": 944
        },
        "id": "3bEpzoMvdyZ0",
        "outputId": "9491f9ee-37eb-4fbc-d682-d02af2f43778"
      },
      "outputs": [
        {
          "data": {
            "image/png": "[encoded data removed]",
            "text/plain": [
              "<Figure size 640x480 with 1 Axes>"
            ]
          },
          "metadata": {},
          "output_type": "display_data"
        },
        {
          "data": {
            "image/png": "[encoded data removed]",
            "text/plain": [
              "<Figure size 640x480 with 1 Axes>"
            ]
          },
          "metadata": {},
          "output_type": "display_data"
        }
      ],
      "source": [
        "import matplotlib.pyplot as plt\n",
        "\n",
        "# summarize history for categorical accuracy\n",
        "plt.plot(results.history['sparse_categorical_accuracy'])\n",
        "plt.plot(results.history['val_sparse_categorical_accuracy'])\n",
        "plt.title('Categorical accuracy')\n",
        "plt.ylabel('accuracy')\n",
        "plt.xlabel('epoch')\n",
        "plt.legend(['train', 'val'], loc='upper left')\n",
        "plt.show()\n",
        "# summarize history for loss\n",
        "plt.plot(results.history['loss'])\n",
        "plt.plot(results.history['val_loss'])\n",
        "plt.title('model loss')\n",
        "plt.ylabel('loss')\n",
        "plt.xlabel('epoch')\n",
        "plt.legend(['train', 'val'], loc='upper left')\n",
        "plt.show()"
      ]
    },
    {
      "cell_type": "markdown",
      "metadata": {
        "id": "PYuOtQ6Tgg1Q"
      },
      "source": [
        "Load the previously saved weights:"
      ]
    },
    {
      "cell_type": "code",
      "execution_count": 17,
      "metadata": {
        "id": "eIXAofSegKEB"
      },
      "outputs": [],
      "source": [
        "## load the previously saved weights\n",
        "# model_name = 'model-delta-mfccs-RNN.h5'\n",
        "# model_path = os.path.join(model_dir, model_name)\n",
        "model.load_weights(model_path)"
      ]
    },
    {
      "cell_type": "markdown",
      "metadata": {
        "id": "avYLxu1Ref_T"
      },
      "source": [
        "Evaluate on the test set:"
      ]
    },
    {
      "cell_type": "code",
      "execution_count": 18,
      "metadata": {
        "colab": {
          "base_uri": "https://localhost:8080/"
        },
        "id": "grrXsocaeiG6",
        "outputId": "d5b4d94d-76d1-4953-e92d-62ae028a541c"
      },
      "outputs": [
        {
          "name": "stdout",
          "output_type": "stream",
          "text": [
            "Test loss: 0.12314768880605698\n",
            "Test accuracy: 0.9665399193763733\n"
          ]
        }
      ],
      "source": [
        "score = model.evaluate(x_test, y_test, verbose=0)\n",
        "print('Test loss:', score[0])\n",
        "print('Test accuracy:', score[1])"
      ]
    },
    {
      "cell_type": "markdown",
      "metadata": {
        "id": "I4XuXKsXfe8P"
      },
      "source": [
        "Perform predictions on the test set and calculate the confusion matrix:"
      ]
    },
    {
      "cell_type": "code",
      "execution_count": 19,
      "metadata": {
        "colab": {
          "base_uri": "https://localhost:8080/"
        },
        "id": "wMukudZPfCdR",
        "outputId": "fe344089-def4-476f-ed34-ae47ce5cb5db"
      },
      "outputs": [
        {
          "name": "stdout",
          "output_type": "stream",
          "text": [
            "42/42 [==============================] - 10s 185ms/step\n",
            "[[549   4   6   2]\n",
            " [  9  80   3   2]\n",
            " [ 12   5 632   1]\n",
            " [  0   0   0  10]]\n"
          ]
        }
      ],
      "source": [
        "from sklearn.metrics import confusion_matrix\n",
        "\n",
        "y_pred = model.predict(x_test, verbose=1)\n",
        "y_pred = np.argmax(y_pred,1)\n",
        "cm = confusion_matrix(y_test, y_pred)\n",
        "print(cm)"
      ]
    },
    {
      "cell_type": "markdown",
      "metadata": {
        "id": "8wA0LtNWhNEY"
      },
      "source": [
        "Function to predict for an external audio:"
      ]
    },
    {
      "cell_type": "code",
      "execution_count": 20,
      "metadata": {
        "id": "VFKKjLXxhU0_"
      },
      "outputs": [],
      "source": [
        "classes = np.asarray(classes)\n",
        "\n",
        "def predict_framewise(x, chunksize=chunksize, model=model):\n",
        "    # preprocess the input audio\n",
        "    x = np.asarray(preprocess(x, chunksize)).astype('float32')\n",
        "    # feed it into the model to produce predictions\n",
        "    y_pred = model.predict(x)\n",
        "    y_pred_probs = np.max(y_pred, axis=1)   # the probability of the highest scoring class\n",
        "    y_pred_categorical = np.argmax(y_pred, axis=1)\n",
        "    y_pred_labels = classes[y_pred_categorical]   # the label of the highest scoring class\n",
        "    return y_pred_labels, y_pred_probs"
      ]
    },
    {
      "cell_type": "markdown",
      "metadata": {
        "id": "kUq1l-faoys3"
      },
      "source": [
        "A plotter to plot the prediction result for the audio:"
      ]
    },
    {
      "cell_type": "code",
      "execution_count": 21,
      "metadata": {
        "id": "keWzRMzwoybo"
      },
      "outputs": [],
      "source": [
        "import matplotlib.pyplot as plt\n",
        "import pandas as pd\n",
        "import numpy as np\n",
        "from scipy.ndimage import gaussian_filter\n",
        "\n",
        "class TimescalePlotter:\n",
        "    def __init__(self, time_values:list, label_values:list, prob_values:list, filename:str, gold_label:str, color_map={'coughing': 'red', 'sneezing': 'blue', 'speech': 'green', 'silence': 'grey'}):\n",
        "        data = {\n",
        "            'Time': time_values,\n",
        "            'Label': label_values,\n",
        "            'Probability': prob_values,\n",
        "        }\n",
        "        if len(time_values) != len(label_values):\n",
        "            print(len(time_values))\n",
        "            print(len(label_values))\n",
        "        self.df = pd.DataFrame(data)\n",
        "        self.color_map = color_map\n",
        "        self.intervals = self._get_intervals()\n",
        "        self.merged_intervals = self._merge_intervals()     # neglecting probs\n",
        "        self.title = \"Gold label: \"+gold_label\n",
        "        self.filename = filename[:-4]\n",
        "\n",
        "    def _merge_intervals(self):\n",
        "        merged_intervals = []\n",
        "        current_label = self.df['Label'].iloc[0]\n",
        "        start_time = self.df['Time'].iloc[0]\n",
        "\n",
        "        for i in range(1, len(self.df)):\n",
        "            if self.df['Label'].iloc[i] != current_label:\n",
        "                merged_intervals.append((start_time, self.df['Time'].iloc[i], current_label))\n",
        "                current_label = self.df['Label'].iloc[i]\n",
        "                start_time = self.df['Time'].iloc[i]\n",
        "\n",
        "        # Add the last interval\n",
        "        merged_intervals.append((start_time, self.df['Time'].iloc[-1] + 1, current_label))\n",
        "        return merged_intervals\n",
        "\n",
        "    def _get_intervals(self):\n",
        "        intervals = []\n",
        "        current_label = self.df['Label'].iloc[0]\n",
        "        current_prob = self.df['Probability'].iloc[0]\n",
        "        start_time = self.df['Time'].iloc[0]\n",
        "\n",
        "        for i in range(1, len(self.df)):\n",
        "            intervals.append((start_time, self.df['Time'].iloc[i], current_label, current_prob))\n",
        "            current_label = self.df['Label'].iloc[i]\n",
        "            current_prob = self.df['Probability'].iloc[i]\n",
        "            start_time = self.df['Time'].iloc[i]\n",
        "\n",
        "        # Add the last interval\n",
        "        intervals.append((start_time, self.df['Time'].iloc[-1] + 1, current_label, current_prob))\n",
        "        return intervals\n",
        "\n",
        "    def plot(self, figsize=(20, 2)):\n",
        "        fig, ax = plt.subplots(figsize=figsize)  # Adjust the height by setting figsize to (width, height)\n",
        "\n",
        "        ## Add colored intervals regardless of probabilities\n",
        "        # for start_time, end_time, label in self.merged_intervals:\n",
        "        #     ax.axvspan(start_time, end_time, color=self.color_map[label], alpha=0.3, label=label)\n",
        "\n",
        "        # Add colored intervals with transparencies corresponding to probabilities\n",
        "        for start_time, end_time, label, prob in self.intervals:\n",
        "            ax.axvspan(start_time, end_time, color=self.color_map[label], alpha=prob, label=label)\n",
        "\n",
        "        # Add dummy entries for labels not present in data\n",
        "        for label, color in self.color_map.items():\n",
        "            if label not in self.df['Label'].unique():\n",
        "                ax.axvspan(np.NaN, np.NaN, color=color, alpha=0.3, label=label)\n",
        "\n",
        "        # Formatting the plot\n",
        "        ax.set_xlim(self.df['Time'].min() - 1, self.df['Time'].max() + 2)  # Adjust x-axis limits\n",
        "        ax.set_ylim(0.5, 1.5)  # Adjust y-axis limits to focus on the labels\n",
        "        ax.set_xlabel('Time (seconds)')\n",
        "        ax.set_ylabel('Label')\n",
        "        ax.set_title(self.title)  # Set the plot title\n",
        "\n",
        "        # Customizing ticks and grid\n",
        "        ax.xaxis.set_major_locator(plt.MaxNLocator(10))  # Show up to 10 major ticks on the x-axis\n",
        "        ax.yaxis.set_visible(False)  # Hide y-axis\n",
        "        ax.grid(True, which='both', axis='x', linestyle='--', linewidth=0.5)\n",
        "\n",
        "        # Create a legend\n",
        "        handles, labels = ax.get_legend_handles_labels()\n",
        "        by_label = dict(zip(labels, handles))\n",
        "        ax.legend(by_label.values(), by_label.keys(), loc='upper right')\n",
        "\n",
        "        # Display the plot\n",
        "        plt.show()"
      ]
    },
    {
      "cell_type": "markdown",
      "metadata": {
        "id": "0VZ0_bK-p2Pn"
      },
      "source": [
        "Test an example of an external audio:"
      ]
    },
    {
      "cell_type": "code",
      "execution_count": 22,
      "metadata": {
        "colab": {
          "base_uri": "https://localhost:8080/",
          "height": 800
        },
        "id": "_dPTIA17pz5m",
        "outputId": "758b81af-e14f-4ea4-926a-d6d6be126ae1"
      },
      "outputs": [
        {
          "name": "stdout",
          "output_type": "stream",
          "text": [
            "4/4 [==============================] - 1s 233ms/step\n",
            "['speech' 'speech' 'speech' 'coughing' 'speech' 'speech' 'speech' 'speech'\n",
            " 'speech' 'speech' 'coughing' 'speech' 'speech' 'speech' 'speech'\n",
            " 'coughing' 'speech' 'speech' 'speech' 'speech' 'coughing' 'speech'\n",
            " 'coughing' 'speech' 'speech' 'coughing' 'coughing' 'coughing' 'silence'\n",
            " 'coughing' 'coughing' 'sneezing' 'speech' 'speech' 'speech' 'coughing'\n",
            " 'speech' 'speech' 'coughing' 'speech' 'speech' 'sneezing' 'speech'\n",
            " 'sneezing' 'sneezing' 'sneezing' 'coughing' 'coughing' 'speech' 'speech'\n",
            " 'speech' 'speech' 'speech' 'speech' 'speech' 'speech' 'sneezing' 'speech'\n",
            " 'speech' 'speech' 'speech' 'coughing' 'speech' 'speech' 'speech'\n",
            " 'coughing' 'sneezing' 'silence' 'speech' 'sneezing' 'sneezing' 'sneezing'\n",
            " 'coughing' 'sneezing' 'speech' 'speech' 'speech' 'coughing' 'speech'\n",
            " 'speech' 'speech' 'speech' 'speech' 'speech' 'speech' 'speech' 'speech'\n",
            " 'speech' 'speech' 'speech' 'coughing' 'speech' 'speech' 'speech' 'speech'\n",
            " 'speech' 'speech' 'speech' 'speech' 'speech' 'speech' 'speech' 'speech'\n",
            " 'speech' 'speech' 'coughing' 'coughing']\n",
            "[0.999996   0.9999779  0.9999998  0.78682256 0.99999934 0.999965\n",
            " 0.99999994 0.9992061  0.9999972  0.99975264 0.99976563 0.9731436\n",
            " 0.98617303 0.9966987  0.9999998  0.67974627 0.999958   0.9412864\n",
            " 0.99999994 0.9999959  0.997049   0.99795187 0.99538195 0.99999994\n",
            " 0.50228137 0.996024   0.82856804 0.29940158 0.948715   0.97947574\n",
            " 0.99675095 0.52959645 0.84977955 0.7112254  0.8513353  0.99389815\n",
            " 0.97463226 0.9992964  0.96665764 0.7849369  0.8856408  0.6707342\n",
            " 0.9549977  0.6408563  0.76090777 0.76819736 0.9877858  0.83693784\n",
            " 0.9802335  0.4849946  0.9992819  0.99999505 0.9997003  0.99999994\n",
            " 0.9908808  0.999924   0.5100211  0.99999994 0.9999998  0.9999998\n",
            " 0.9974305  0.99651223 0.9959218  0.9999561  0.9979312  0.93401545\n",
            " 0.5603197  0.36295113 0.99967206 0.48765194 0.57152843 0.9634341\n",
            " 0.985943   0.82447606 0.51808643 0.99998754 0.9999997  0.98440903\n",
            " 0.9997666  0.9824942  0.9999996  0.99999994 0.95852983 0.99999994\n",
            " 0.99978137 0.9999818  0.9999997  0.999671   0.94244134 0.88040435\n",
            " 0.99955386 0.99997276 0.99999934 0.999888   0.99999994 0.9999998\n",
            " 0.9999998  0.9999998  0.99865013 0.9982446  0.99998826 0.9999966\n",
            " 0.9999998  0.99999934 0.9999994  0.81227094 0.8805914 ]\n"
          ]
        },
        {
          "data": {
            "image/png": "[encoded data removed]",
            "text/plain": [
              "<Figure size 2000x200 with 1 Axes>"
            ]
          },
          "metadata": {},
          "output_type": "display_data"
        }
      ],
      "source": [
        "# testing\n",
        "eg_label = \"mixed\"\n",
        "eg_filename = \"qPo0bymnsh0.wav\"\n",
        "eg_f = os.path.join(directory, eg_label, eg_filename)\n",
        "eg_x, eg_sr = librosa.load(eg_f)\n",
        "eg_y_labels, eg_y_probs = predict_framewise(eg_x)\n",
        "print(eg_y_labels)\n",
        "print(eg_y_probs)\n",
        "\n",
        "chunk_duration = 1.0   # in second\n",
        "\n",
        "eg_audio_duration = chunk_duration*len(eg_y_labels)\n",
        "eg_timestamps = np.linspace(start=0, stop=eg_audio_duration, num=len(eg_y_labels))\n",
        "plotter = TimescalePlotter(list(eg_timestamps), list(eg_y_labels), list(eg_y_probs), eg_filename, eg_label)\n",
        "plotter.plot()\n"
      ]
    }
  ],
  "metadata": {
    "colab": {
      "provenance": []
    },
    "kernelspec": {
      "display_name": "Python 3",
      "name": "python3"
    },
    "language_info": {
      "name": "python"
    }
  },
  "nbformat": 4,
  "nbformat_minor": 0
}
