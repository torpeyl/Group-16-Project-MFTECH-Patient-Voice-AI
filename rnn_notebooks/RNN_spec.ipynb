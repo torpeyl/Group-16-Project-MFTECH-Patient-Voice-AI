{
  "cells": [
    {
      "cell_type": "markdown",
      "metadata": {
        "id": "ueYfMuBMA8La"
      },
      "source": [
        "Load dependencies:"
      ]
    },
    {
      "cell_type": "code",
      "execution_count": 1,
      "metadata": {
        "colab": {
          "base_uri": "https://localhost:8080/"
        },
        "collapsed": true,
        "id": "CmOQfRarA6Sq",
        "outputId": "baee620f-0088-4503-e907-36e6d5f0f0db"
      },
      "outputs": [
        {
          "name": "stdout",
          "output_type": "stream",
          "text": [
            "Collecting tensorflow_io\n",
            "  Downloading tensorflow_io-0.37.0-cp310-cp310-manylinux_2_17_x86_64.manylinux2014_x86_64.whl (49.6 MB)\n",
            "\u001b[2K     \u001b[90m━━━━━━━━━━━━━━━━━━━━━━━━━━━━━━━━━━━━━━━━\u001b[0m \u001b[32m49.6/49.6 MB\u001b[0m \u001b[31m14.3 MB/s\u001b[0m eta \u001b[36m0:00:00\u001b[0m\n",
            "\u001b[?25hRequirement already satisfied: tensorflow-io-gcs-filesystem==0.37.0 in /usr/local/lib/python3.10/dist-packages (from tensorflow_io) (0.37.0)\n",
            "Installing collected packages: tensorflow_io\n",
            "Successfully installed tensorflow_io-0.37.0\n"
          ]
        }
      ],
      "source": [
        "# !pip install opensmile\n",
        "!pip install tensorflow_io\n",
        "import os\n",
        "import numpy as np\n",
        "import librosa\n",
        "# import opensmile\n",
        "import math\n",
        "import scipy\n",
        "import tensorflow as tf\n",
        "import tensorflow_io as tfio\n",
        "\n",
        "directory = \"/content/drive/MyDrive/PatientVoiceAI/data\""
      ]
    },
    {
      "cell_type": "markdown",
      "metadata": {
        "id": "8GHN_bCuFZ7l"
      },
      "source": [
        "Load and preprocess raw audio files in the dataset:"
      ]
    },
    {
      "cell_type": "code",
      "execution_count": 3,
      "metadata": {
        "colab": {
          "base_uri": "https://localhost:8080/"
        },
        "id": "R8Jszyt37RJZ",
        "outputId": "d00df38b-9018-46f4-dc1a-23b4b0a9b6b2"
      },
      "outputs": [
        {
          "name": "stdout",
          "output_type": "stream",
          "text": [
            "(13143, 22050)\n",
            "[0.03695566 0.04142303 0.01117673 ... 0.         0.         0.        ]\n",
            "(13143,)\n",
            "0\n"
          ]
        }
      ],
      "source": [
        "def preprocess(x, chunksize):\n",
        "    x_len = len(x)\n",
        "    if x_len < chunksize:   # padding\n",
        "        processed = np.pad(x, (0,chunksize-x_len))  # right-pad with zero\n",
        "    elif x_len > chunksize: # splitting\n",
        "        tailing = x_len % chunksize\n",
        "        if tailing != 0:                # handle uneven splits: create overlap for the last chunk\n",
        "            x = np.concatenate((x[:-tailing], x[-chunksize:]))\n",
        "        num_chunks = int(round(len(x)/chunksize))\n",
        "        processed = np.array_split(x,num_chunks)\n",
        "    else:                   # no change\n",
        "        processed = np.array(x)\n",
        "    return processed\n",
        "\n",
        "def get_dataset(label, label_index, chunksize):\n",
        "    x_set = []\n",
        "    folder = os.path.join(directory, label)\n",
        "    for filename in os.listdir(folder):\n",
        "        f = os.path.join(folder, filename)\n",
        "        if os.path.isfile(f):\n",
        "            audio, sample_rate = librosa.load(f)\n",
        "            x_set.append(preprocess(audio,chunksize))\n",
        "    x_set = np.vstack(x_set)\n",
        "    y_set = np.repeat([label_index[label]],len(x_set))\n",
        "    return x_set,y_set\n",
        "\n",
        "\n",
        "classes = [\"coughing\", \"sneezing\", \"speech\", \"silence\"]\n",
        "\n",
        "label_index = {\n",
        "    \"coughing\":0,\n",
        "    \"sneezing\":1,\n",
        "    \"speech\":2,\n",
        "    \"silence\":3\n",
        "}\n",
        "\n",
        "sample_rate = 22050   # default sample rate in librosa\n",
        "chunksize = 1*sample_rate   # 1 second\n",
        "\n",
        "\n",
        "## initialise the dataset\n",
        "x_set = []\n",
        "y_set = []\n",
        "for label in classes:\n",
        "    x_subset, y_subset = get_dataset(label,label_index,chunksize)\n",
        "    x_set.extend(x_subset)\n",
        "    y_set.extend(y_subset)\n",
        "\n",
        "x_set = np.asarray(x_set).astype('float32')\n",
        "y_set = np.asarray(y_set)\n",
        "\n",
        "print(np.shape(x_set))\n",
        "print(x_set[0])\n",
        "print(np.shape(y_set))\n",
        "print(y_set[0])\n",
        "\n"
      ]
    },
    {
      "cell_type": "markdown",
      "metadata": {
        "id": "oqrfVOSgwikl"
      },
      "source": [
        "Store the dataset into a .csv file:"
      ]
    },
    {
      "cell_type": "code",
      "execution_count": 4,
      "metadata": {
        "id": "s3RMsBIywiRO"
      },
      "outputs": [],
      "source": [
        "preprocessed_dataset = np.hstack((x_set, np.expand_dims(y_set,axis=1)))\n",
        "np.savetxt('preprocessed_dataset.csv', preprocessed_dataset, fmt=\"%d\", delimiter=\",\")"
      ]
    },
    {
      "cell_type": "markdown",
      "metadata": {
        "id": "mV1zHlQbx2bU"
      },
      "source": [
        "Shuffle and split the dataset:"
      ]
    },
    {
      "cell_type": "code",
      "execution_count": 5,
      "metadata": {
        "colab": {
          "base_uri": "https://localhost:8080/"
        },
        "id": "ffc74cYSAVj4",
        "outputId": "cbebac44-a45b-4ac5-de05-544304c4445a"
      },
      "outputs": [
        {
          "name": "stdout",
          "output_type": "stream",
          "text": [
            "(10514, 22050)\n",
            "(1314, 22050)\n",
            "(1315, 22050)\n"
          ]
        }
      ],
      "source": [
        "#Parameters for shuffling\n",
        "seed = 42\n",
        "np.random.seed(seed)\n",
        "N = len(y_set)\n",
        "\n",
        "shuffled_indices = np.random.permutation(N)\n",
        "\n",
        "# Apply the shuffled indices to both data and labels\n",
        "x_set = x_set[shuffled_indices]\n",
        "y_set = y_set[shuffled_indices]\n",
        "\n",
        "\n",
        "split_size_val = int(0.8*N)\n",
        "split_size_test = int(0.9*N)\n",
        "\n",
        "x_train, x_val, x_test = x_set[:split_size_val], x_set[split_size_val:split_size_test], x_set[split_size_test:]\n",
        "y_train, y_val, y_test = y_set[:split_size_val], y_set[split_size_val:split_size_test], y_set[split_size_test:]\n",
        "\n",
        "print(np.shape(x_train))\n",
        "print(np.shape(x_val))\n",
        "print(np.shape(x_test))"
      ]
    },
    {
      "cell_type": "markdown",
      "metadata": {
        "id": "wp4MYbJezuu5"
      },
      "source": [
        "Define a function to calculate normalised Mel-spectrogram:"
      ]
    },
    {
      "cell_type": "code",
      "execution_count": 6,
      "metadata": {
        "id": "0cobDxQkRtMH"
      },
      "outputs": [],
      "source": [
        "def get_normalised_mel_spectrogram(x, sr=sample_rate, n_mel_bins=20):\n",
        "    \"\"\"\n",
        "            Code adapted from https://github.com/douglas125/SpeechCmdRecognition/blob/master/audioUtils.py#L93\n",
        "    \"\"\"\n",
        "    spec_stride = 128\n",
        "    spec_len = 1024\n",
        "\n",
        "    spectrogram = tfio.audio.spectrogram(\n",
        "        x, nfft=spec_len, window=spec_len, stride=spec_stride\n",
        "    )\n",
        "\n",
        "    num_spectrogram_bins = spec_len // 2 + 1  # spectrogram.shape[-1]\n",
        "    lower_edge_hertz, upper_edge_hertz = 40.0, 8000.0\n",
        "    num_mel_bins = n_mel_bins\n",
        "    linear_to_mel_weight_matrix = tf.signal.linear_to_mel_weight_matrix(\n",
        "      num_mel_bins, num_spectrogram_bins, sr, lower_edge_hertz,\n",
        "      upper_edge_hertz)\n",
        "    mel_spectrograms = tf.tensordot(spectrogram, linear_to_mel_weight_matrix, 1)\n",
        "    mel_spectrograms.set_shape(spectrogram.shape[:-1].concatenate(linear_to_mel_weight_matrix.shape[-1:]))\n",
        "\n",
        "    # Compute a stabilized log to get log-magnitude mel-scale spectrograms.\n",
        "    log_mel_spectrograms = tf.math.log(mel_spectrograms + 1e-6)\n",
        "    avg = tf.math.reduce_mean(log_mel_spectrograms)\n",
        "    std = tf.math.reduce_std(log_mel_spectrograms)\n",
        "\n",
        "    return (log_mel_spectrograms - avg) / std\n",
        "\n",
        "\n",
        "# testing\n",
        "# print(get_normalised_mel_spectrogram(x_set[1]))"
      ]
    },
    {
      "cell_type": "markdown",
      "metadata": {
        "id": "zt7wGQbbzxqA"
      },
      "source": [
        "Define a function to calculate MFCCs:"
      ]
    },
    {
      "cell_type": "code",
      "execution_count": null,
      "metadata": {
        "colab": {
          "base_uri": "https://localhost:8080/"
        },
        "id": "EXQ7WkH3zPEI",
        "outputId": "8ced407d-1af0-4ed7-9c0e-722785ed9cbf"
      },
      "outputs": [
        {
          "name": "stdout",
          "output_type": "stream",
          "text": [
            "tf.Tensor(\n",
            "[[-3.42309814e+02  6.70312424e+01 -4.58366814e+01 ...  5.67506981e+00\n",
            "   3.93562078e+00  8.09024048e+00]\n",
            " [-2.98740570e+02  6.68942490e+01 -5.86018791e+01 ...  4.28615570e+00\n",
            "   3.94677877e+00  7.15044618e-01]\n",
            " [-2.72402649e+02  5.22381516e+01 -5.74585648e+01 ...  2.44150209e+00\n",
            "   6.66082668e+00 -2.56417036e+00]\n",
            " ...\n",
            " [ 9.74413681e+00 -3.44650054e+00 -1.69657040e+01 ... -2.94731402e+00\n",
            "  -1.86145389e+00 -6.29485548e-01]\n",
            " [-1.72532444e+01  8.55619073e-01 -9.25893974e+00 ...  3.93066078e-01\n",
            "   1.92945671e+00  1.31686240e-01]\n",
            " [-2.19806271e+01  2.00257182e+00 -3.69728255e+00 ...  6.19387031e-01\n",
            "   2.66373444e+00  9.67200398e-01]], shape=(132, 20), dtype=float64)\n"
          ]
        }
      ],
      "source": [
        "def get_mfccs(x, sr=sample_rate, n=20, deltas=False):\n",
        "    \"\"\"\n",
        "        Code adapted from https://github.com/genzen2103/Speaker-Recognition-System-using-GMM/blob/master/MFCC_speaker_recog.py\n",
        "    \"\"\"\n",
        "\n",
        "    # calculate MFCCs\n",
        "    mfccs = librosa.feature.mfcc(y=x, n_mfcc=n, sr=sr)\n",
        "    if not deltas:\n",
        "        return tf.transpose(tf.convert_to_tensor(mfccs))        # shape: (len,n)\n",
        "\n",
        "    # calculate delta MFCCs\n",
        "    delta_MFCC = np.zeros(mfccs.shape)\n",
        "    for t in range(delta_MFCC.shape[1]):\n",
        "        index_t_minus_one,index_t_plus_one=t-1,t+1\n",
        "\n",
        "        if index_t_minus_one<0:\n",
        "            index_t_minus_one=0\n",
        "        if index_t_plus_one>=delta_MFCC.shape[1]:\n",
        "            index_t_plus_one=delta_MFCC.shape[1]-1\n",
        "\n",
        "        delta_MFCC[:,t]=0.5*(mfccs[:,index_t_plus_one]-mfccs[:,index_t_minus_one])\n",
        "\n",
        "    # calculate double delta MFCCs\n",
        "    double_delta_MFCC = np.zeros(mfccs.shape)\n",
        "    for t in range(double_delta_MFCC.shape[1]):\n",
        "\n",
        "        index_t_minus_one,index_t_plus_one, index_t_plus_two,index_t_minus_two=t-1,t+1,t+2,t-2\n",
        "\n",
        "        if index_t_minus_one<0:\n",
        "            index_t_minus_one=0\n",
        "        if index_t_plus_one>=delta_MFCC.shape[1]:\n",
        "            index_t_plus_one=delta_MFCC.shape[1]-1\n",
        "        if index_t_minus_two<0:\n",
        "            index_t_minus_two=0\n",
        "        if index_t_plus_two>=delta_MFCC.shape[1]:\n",
        "            index_t_plus_two=delta_MFCC.shape[1]-1\n",
        "\n",
        "        double_delta_MFCC[:,t]=0.1*( 2*mfccs[:,index_t_plus_two]+mfccs[:,index_t_plus_one]\n",
        "                                    -mfccs[:,index_t_minus_one]-2*mfccs[:,index_t_minus_two] )\n",
        "\n",
        "    Combined_MFCC_F = np.concatenate((mfccs,delta_MFCC,double_delta_MFCC),axis=1)\n",
        "\n",
        "    return tf.transpose(tf.convert_to_tensor(Combined_MFCC_F))       # shape: (len,n)\n",
        "\n",
        "\n",
        "# testing\n",
        "# print(get_mfccs(x_set[1],deltas=True))"
      ]
    },
    {
      "cell_type": "markdown",
      "metadata": {
        "id": "aOuuvEsV5FPm"
      },
      "source": [
        "Build a model:"
      ]
    },
    {
      "cell_type": "code",
      "execution_count": 10,
      "metadata": {
        "id": "TDXcZx6T5E1l"
      },
      "outputs": [],
      "source": [
        "\"\"\"\n",
        "      Code adapted from https://github.com/douglas125/SpeechCmdRecognition/blob/master/SpeechModels.py\n",
        "\"\"\"\n",
        "\n",
        "from tensorflow import keras\n",
        "from keras import layers as L\n",
        "from keras import backend as K\n",
        "from keras.utils import to_categorical\n",
        "from keras.callbacks import EarlyStopping, ModelCheckpoint, LearningRateScheduler\n",
        "from keras import backend as K\n",
        "from keras import optimizers\n",
        "from keras.models import Model, load_model\n",
        "\n",
        "def get_melspec_model(iLen=None):\n",
        "    inp = L.Input((iLen,), name='input')\n",
        "    mel_spec = get_normalised_mel_spectrogram(inp)\n",
        "    melspecModel = Model(inputs=inp, outputs=mel_spec, name='normalised_spectrogram_model')\n",
        "    return melspecModel\n",
        "\n",
        "def AttRNNSpeechModel(nCategories, samplingrate=sample_rate,\n",
        "                      inputLength=chunksize, rnn_func=L.LSTM):\n",
        "    # simple LSTM\n",
        "    sr = samplingrate\n",
        "    iLen = inputLength\n",
        "\n",
        "    inputs = L.Input((inputLength,), name='input')\n",
        "\n",
        "    m =  get_melspec_model(iLen=inputLength)\n",
        "    m.trainable = False\n",
        "\n",
        "    x = m(inputs)\n",
        "    x = tf.expand_dims(x, axis=-1, name='mel_stft')\n",
        "\n",
        "    x = L.Conv2D(10, (5, 1), activation='relu', padding='same')(x)\n",
        "    x = L.BatchNormalization()(x)\n",
        "    x = L.Conv2D(1, (5, 1), activation='relu', padding='same')(x)\n",
        "    x = L.BatchNormalization()(x)\n",
        "\n",
        "    # x = Reshape((125, 80)) (x)\n",
        "    # keras.backend.squeeze(x, axis)\n",
        "    x = L.Lambda(lambda q: K.squeeze(q, -1), name='squeeze_last_dim')(x)\n",
        "\n",
        "    x = L.Bidirectional(rnn_func(64, return_sequences=True)\n",
        "                        )(x)  # [b_s, seq_len, vec_dim]\n",
        "    x = L.Bidirectional(rnn_func(64, return_sequences=True)\n",
        "                        )(x)  # [b_s, seq_len, vec_dim]\n",
        "\n",
        "    # xFirst = L.Lambda(lambda q: q[:, -1])(x)  # [b_s, vec_dim]\n",
        "    # query = L.Dense(128)(xFirst)\n",
        "\n",
        "    # # dot product attention\n",
        "    # attScores = L.Dot(axes=[1, 2])([query, x])\n",
        "    # attScores = L.Softmax(name='attSoftmax')(attScores)  # [b_s, seq_len]\n",
        "\n",
        "    # # rescale sequence\n",
        "    # attVector = L.Dot(axes=[1, 1])([attScores, x])  # [b_s, vec_dim]\n",
        "\n",
        "    # for classification\n",
        "    x = L.GlobalAveragePooling1D()(x)\n",
        "    x = L.Dense(64, activation='relu')(x)      #(attVector)\n",
        "    x = L.Dense(32)(x)\n",
        "\n",
        "    output = L.Dense(nCategories, activation='softmax', name='output')(x)\n",
        "\n",
        "    model = Model(inputs=[inputs], outputs=[output])\n",
        "\n",
        "    return model"
      ]
    },
    {
      "cell_type": "markdown",
      "metadata": {
        "id": "VEeJ9x4b8HUK"
      },
      "source": [
        "Create a model:"
      ]
    },
    {
      "cell_type": "code",
      "execution_count": 21,
      "metadata": {
        "colab": {
          "base_uri": "https://localhost:8080/"
        },
        "id": "5vl49hiB7cvA",
        "outputId": "1622e518-c603-4597-f688-89c4efdc801e"
      },
      "outputs": [
        {
          "name": "stdout",
          "output_type": "stream",
          "text": [
            "Model: \"model_2\"\n",
            "_________________________________________________________________\n",
            " Layer (type)                Output Shape              Param #   \n",
            "=================================================================\n",
            " input (InputLayer)          [(None, None)]            0         \n",
            "                                                                 \n",
            " normalised_spectrogram_mod  (None, None, 20)          0         \n",
            " el (Functional)                                                 \n",
            "                                                                 \n",
            " tf.expand_dims_2 (TFOpLamb  (None, None, 20, 1)       0         \n",
            " da)                                                             \n",
            "                                                                 \n",
            " conv2d_4 (Conv2D)           (None, None, 20, 10)      60        \n",
            "                                                                 \n",
            " batch_normalization_4 (Bat  (None, None, 20, 10)      40        \n",
            " chNormalization)                                                \n",
            "                                                                 \n",
            " conv2d_5 (Conv2D)           (None, None, 20, 1)       51        \n",
            "                                                                 \n",
            " batch_normalization_5 (Bat  (None, None, 20, 1)       4         \n",
            " chNormalization)                                                \n",
            "                                                                 \n",
            " squeeze_last_dim (Lambda)   (None, None, 20)          0         \n",
            "                                                                 \n",
            " bidirectional_4 (Bidirecti  (None, None, 128)         43520     \n",
            " onal)                                                           \n",
            "                                                                 \n",
            " bidirectional_5 (Bidirecti  (None, None, 128)         98816     \n",
            " onal)                                                           \n",
            "                                                                 \n",
            " global_average_pooling1d_1  (None, 128)               0         \n",
            "  (GlobalAveragePooling1D)                                       \n",
            "                                                                 \n",
            " dense_4 (Dense)             (None, 64)                8256      \n",
            "                                                                 \n",
            " dense_5 (Dense)             (None, 32)                2080      \n",
            "                                                                 \n",
            " output (Dense)              (None, 4)                 132       \n",
            "                                                                 \n",
            "=================================================================\n",
            "Total params: 152959 (597.50 KB)\n",
            "Trainable params: 152937 (597.41 KB)\n",
            "Non-trainable params: 22 (88.00 Byte)\n",
            "_________________________________________________________________\n"
          ]
        }
      ],
      "source": [
        "nCategs = len(classes)\n",
        "model = AttRNNSpeechModel(nCategs, samplingrate = sample_rate, inputLength = None)#, rnn_func=L.LSTM)\n",
        "\n",
        "model.compile(optimizer='adam', loss=['sparse_categorical_crossentropy'], metrics=['sparse_categorical_accuracy'])\n",
        "model.summary()"
      ]
    },
    {
      "cell_type": "markdown",
      "metadata": {
        "id": "chHPtaR1BDS_"
      },
      "source": [
        "Train the model:"
      ]
    },
    {
      "cell_type": "code",
      "execution_count": 12,
      "metadata": {
        "colab": {
          "base_uri": "https://localhost:8080/"
        },
        "id": "uHIn42VDEe5b",
        "outputId": "cde02710-79f7-44a4-d78f-e5a3c8d54584"
      },
      "outputs": [
        {
          "name": "stdout",
          "output_type": "stream",
          "text": [
            "Changing learning rate to 0.001\n",
            "Epoch 1/50\n",
            "329/329 [==============================] - ETA: 0s - loss: 0.3616 - sparse_categorical_accuracy: 0.8738\n",
            "Epoch 1: val_sparse_categorical_accuracy improved from -inf to 0.87595, saving model to model.h5\n",
            "329/329 [==============================] - 25s 46ms/step - loss: 0.3616 - sparse_categorical_accuracy: 0.8738 - val_loss: 0.3233 - val_sparse_categorical_accuracy: 0.8760 - lr: 0.0010\n",
            "Changing learning rate to 0.001\n",
            "Epoch 2/50\n",
            "  1/329 [..............................] - ETA: 10s - loss: 0.1598 - sparse_categorical_accuracy: 0.9375"
          ]
        },
        {
          "name": "stderr",
          "output_type": "stream",
          "text": [
            "/usr/local/lib/python3.10/dist-packages/keras/src/engine/training.py:3103: UserWarning: You are saving your model as an HDF5 file via `model.save()`. This file format is considered legacy. We recommend using instead the native Keras format, e.g. `model.save('my_model.keras')`.\n",
            "  saving_api.save_model(\n"
          ]
        },
        {
          "name": "stdout",
          "output_type": "stream",
          "text": [
            "329/329 [==============================] - ETA: 0s - loss: 0.1905 - sparse_categorical_accuracy: 0.9335\n",
            "Epoch 2: val_sparse_categorical_accuracy improved from 0.87595 to 0.93760, saving model to model.h5\n",
            "329/329 [==============================] - 11s 35ms/step - loss: 0.1905 - sparse_categorical_accuracy: 0.9335 - val_loss: 0.1951 - val_sparse_categorical_accuracy: 0.9376 - lr: 0.0010\n",
            "Changing learning rate to 0.001\n",
            "Epoch 3/50\n",
            "329/329 [==============================] - ETA: 0s - loss: 0.1439 - sparse_categorical_accuracy: 0.9522\n",
            "Epoch 3: val_sparse_categorical_accuracy improved from 0.93760 to 0.95129, saving model to model.h5\n",
            "329/329 [==============================] - 11s 34ms/step - loss: 0.1439 - sparse_categorical_accuracy: 0.9522 - val_loss: 0.1565 - val_sparse_categorical_accuracy: 0.9513 - lr: 0.0010\n",
            "Changing learning rate to 0.001\n",
            "Epoch 4/50\n",
            "328/329 [============================>.] - ETA: 0s - loss: 0.1267 - sparse_categorical_accuracy: 0.9580\n",
            "Epoch 4: val_sparse_categorical_accuracy did not improve from 0.95129\n",
            "329/329 [==============================] - 12s 37ms/step - loss: 0.1268 - sparse_categorical_accuracy: 0.9580 - val_loss: 0.2732 - val_sparse_categorical_accuracy: 0.9155 - lr: 0.0010\n",
            "Changing learning rate to 0.001\n",
            "Epoch 5/50\n",
            "329/329 [==============================] - ETA: 0s - loss: 0.1139 - sparse_categorical_accuracy: 0.9635\n",
            "Epoch 5: val_sparse_categorical_accuracy improved from 0.95129 to 0.95967, saving model to model.h5\n",
            "329/329 [==============================] - 11s 34ms/step - loss: 0.1139 - sparse_categorical_accuracy: 0.9635 - val_loss: 0.1274 - val_sparse_categorical_accuracy: 0.9597 - lr: 0.0010\n",
            "Changing learning rate to 0.001\n",
            "Epoch 6/50\n",
            "329/329 [==============================] - ETA: 0s - loss: 0.0979 - sparse_categorical_accuracy: 0.9681\n",
            "Epoch 6: val_sparse_categorical_accuracy improved from 0.95967 to 0.96119, saving model to model.h5\n",
            "329/329 [==============================] - 14s 41ms/step - loss: 0.0979 - sparse_categorical_accuracy: 0.9681 - val_loss: 0.1347 - val_sparse_categorical_accuracy: 0.9612 - lr: 0.0010\n",
            "Changing learning rate to 0.001\n",
            "Epoch 7/50\n",
            "329/329 [==============================] - ETA: 0s - loss: 0.0954 - sparse_categorical_accuracy: 0.9681\n",
            "Epoch 7: val_sparse_categorical_accuracy did not improve from 0.96119\n",
            "329/329 [==============================] - 12s 37ms/step - loss: 0.0954 - sparse_categorical_accuracy: 0.9681 - val_loss: 0.1477 - val_sparse_categorical_accuracy: 0.9543 - lr: 0.0010\n",
            "Changing learning rate to 0.001\n",
            "Epoch 8/50\n",
            "328/329 [============================>.] - ETA: 0s - loss: 0.0826 - sparse_categorical_accuracy: 0.9744\n",
            "Epoch 8: val_sparse_categorical_accuracy improved from 0.96119 to 0.96423, saving model to model.h5\n",
            "329/329 [==============================] - 13s 38ms/step - loss: 0.0827 - sparse_categorical_accuracy: 0.9742 - val_loss: 0.1210 - val_sparse_categorical_accuracy: 0.9642 - lr: 0.0010\n",
            "Changing learning rate to 0.001\n",
            "Epoch 9/50\n",
            "329/329 [==============================] - ETA: 0s - loss: 0.0856 - sparse_categorical_accuracy: 0.9717\n",
            "Epoch 9: val_sparse_categorical_accuracy did not improve from 0.96423\n",
            "329/329 [==============================] - 10s 31ms/step - loss: 0.0856 - sparse_categorical_accuracy: 0.9717 - val_loss: 0.1311 - val_sparse_categorical_accuracy: 0.9635 - lr: 0.0010\n",
            "Changing learning rate to 0.001\n",
            "Epoch 10/50\n",
            "329/329 [==============================] - ETA: 0s - loss: 0.0727 - sparse_categorical_accuracy: 0.9765\n",
            "Epoch 10: val_sparse_categorical_accuracy did not improve from 0.96423\n",
            "329/329 [==============================] - 12s 36ms/step - loss: 0.0727 - sparse_categorical_accuracy: 0.9765 - val_loss: 0.1566 - val_sparse_categorical_accuracy: 0.9505 - lr: 0.0010\n",
            "Changing learning rate to 0.001\n",
            "Epoch 11/50\n",
            "328/329 [============================>.] - ETA: 0s - loss: 0.0845 - sparse_categorical_accuracy: 0.9711\n",
            "Epoch 11: val_sparse_categorical_accuracy did not improve from 0.96423\n",
            "329/329 [==============================] - 12s 38ms/step - loss: 0.0844 - sparse_categorical_accuracy: 0.9712 - val_loss: 0.1189 - val_sparse_categorical_accuracy: 0.9642 - lr: 0.0010\n",
            "Changing learning rate to 0.001\n",
            "Epoch 12/50\n",
            "329/329 [==============================] - ETA: 0s - loss: 0.0637 - sparse_categorical_accuracy: 0.9783\n",
            "Epoch 12: val_sparse_categorical_accuracy improved from 0.96423 to 0.96880, saving model to model.h5\n",
            "329/329 [==============================] - 11s 32ms/step - loss: 0.0637 - sparse_categorical_accuracy: 0.9783 - val_loss: 0.1115 - val_sparse_categorical_accuracy: 0.9688 - lr: 0.0010\n",
            "Changing learning rate to 0.001\n",
            "Epoch 13/50\n",
            "329/329 [==============================] - ETA: 0s - loss: 0.0607 - sparse_categorical_accuracy: 0.9807\n",
            "Epoch 13: val_sparse_categorical_accuracy did not improve from 0.96880\n",
            "329/329 [==============================] - 12s 35ms/step - loss: 0.0607 - sparse_categorical_accuracy: 0.9807 - val_loss: 0.1239 - val_sparse_categorical_accuracy: 0.9619 - lr: 0.0010\n",
            "Changing learning rate to 0.001\n",
            "Epoch 14/50\n",
            "329/329 [==============================] - ETA: 0s - loss: 0.0563 - sparse_categorical_accuracy: 0.9808\n",
            "Epoch 14: val_sparse_categorical_accuracy improved from 0.96880 to 0.97032, saving model to model.h5\n",
            "329/329 [==============================] - 12s 38ms/step - loss: 0.0563 - sparse_categorical_accuracy: 0.9808 - val_loss: 0.1213 - val_sparse_categorical_accuracy: 0.9703 - lr: 0.0010\n",
            "Changing learning rate to 0.0004\n",
            "Epoch 15/50\n",
            "329/329 [==============================] - ETA: 0s - loss: 0.0310 - sparse_categorical_accuracy: 0.9900\n",
            "Epoch 15: val_sparse_categorical_accuracy did not improve from 0.97032\n",
            "329/329 [==============================] - 11s 33ms/step - loss: 0.0310 - sparse_categorical_accuracy: 0.9900 - val_loss: 0.1136 - val_sparse_categorical_accuracy: 0.9688 - lr: 4.0000e-04\n",
            "Changing learning rate to 0.0004\n",
            "Epoch 16/50\n",
            "328/329 [============================>.] - ETA: 0s - loss: 0.0243 - sparse_categorical_accuracy: 0.9914\n",
            "Epoch 16: val_sparse_categorical_accuracy improved from 0.97032 to 0.97260, saving model to model.h5\n",
            "329/329 [==============================] - 12s 35ms/step - loss: 0.0242 - sparse_categorical_accuracy: 0.9914 - val_loss: 0.1225 - val_sparse_categorical_accuracy: 0.9726 - lr: 4.0000e-04\n",
            "Changing learning rate to 0.0004\n",
            "Epoch 17/50\n",
            "328/329 [============================>.] - ETA: 0s - loss: 0.0245 - sparse_categorical_accuracy: 0.9911\n",
            "Epoch 17: val_sparse_categorical_accuracy did not improve from 0.97260\n",
            "329/329 [==============================] - 12s 38ms/step - loss: 0.0244 - sparse_categorical_accuracy: 0.9912 - val_loss: 0.1060 - val_sparse_categorical_accuracy: 0.9718 - lr: 4.0000e-04\n",
            "Changing learning rate to 0.0004\n",
            "Epoch 18/50\n",
            "329/329 [==============================] - ETA: 0s - loss: 0.0213 - sparse_categorical_accuracy: 0.9931\n",
            "Epoch 18: val_sparse_categorical_accuracy did not improve from 0.97260\n",
            "329/329 [==============================] - 11s 35ms/step - loss: 0.0213 - sparse_categorical_accuracy: 0.9931 - val_loss: 0.1209 - val_sparse_categorical_accuracy: 0.9696 - lr: 4.0000e-04\n",
            "Changing learning rate to 0.0004\n",
            "Epoch 19/50\n",
            "328/329 [============================>.] - ETA: 0s - loss: 0.0225 - sparse_categorical_accuracy: 0.9915\n",
            "Epoch 19: val_sparse_categorical_accuracy did not improve from 0.97260\n",
            "329/329 [==============================] - 11s 34ms/step - loss: 0.0225 - sparse_categorical_accuracy: 0.9915 - val_loss: 0.1201 - val_sparse_categorical_accuracy: 0.9688 - lr: 4.0000e-04\n",
            "Changing learning rate to 0.0004\n",
            "Epoch 20/50\n",
            "329/329 [==============================] - ETA: 0s - loss: 0.0237 - sparse_categorical_accuracy: 0.9911\n",
            "Epoch 20: val_sparse_categorical_accuracy did not improve from 0.97260\n",
            "329/329 [==============================] - 12s 37ms/step - loss: 0.0237 - sparse_categorical_accuracy: 0.9911 - val_loss: 0.1328 - val_sparse_categorical_accuracy: 0.9627 - lr: 4.0000e-04\n",
            "Changing learning rate to 0.0004\n",
            "Epoch 21/50\n",
            "329/329 [==============================] - ETA: 0s - loss: 0.0250 - sparse_categorical_accuracy: 0.9897Restoring model weights from the end of the best epoch: 16.\n",
            "\n",
            "Epoch 21: val_sparse_categorical_accuracy did not improve from 0.97260\n",
            "329/329 [==============================] - 11s 33ms/step - loss: 0.0250 - sparse_categorical_accuracy: 0.9897 - val_loss: 0.1347 - val_sparse_categorical_accuracy: 0.9642 - lr: 4.0000e-04\n",
            "Epoch 21: early stopping\n"
          ]
        }
      ],
      "source": [
        "import math\n",
        "def step_decay(epoch):\n",
        "    initial_lrate = 0.001\n",
        "    drop = 0.4\n",
        "    epochs_drop = 15.0\n",
        "    lrate = initial_lrate * math.pow(drop,\n",
        "            math.floor((1+epoch)/epochs_drop))\n",
        "\n",
        "    if (lrate < 4e-5):\n",
        "        lrate = 4e-5\n",
        "\n",
        "    print('Changing learning rate to {}'.format(lrate))\n",
        "    return lrate\n",
        "\n",
        "lrate = LearningRateScheduler(step_decay)\n",
        "earlystopper = EarlyStopping(monitor='val_sparse_categorical_accuracy', patience=5,\n",
        "                             verbose=1, restore_best_weights=True)\n",
        "checkpointer = ModelCheckpoint('model-spec-RNN.h5', monitor='val_sparse_categorical_accuracy', verbose=1, save_best_only=True)\n",
        "\n",
        "results = model.fit(x_train, y_train, batch_size=32, epochs=50, validation_data=(x_val,y_val), use_multiprocessing=False,\n",
        "                    callbacks=[earlystopper, checkpointer, lrate])\n",
        "\n"
      ]
    },
    {
      "cell_type": "markdown",
      "metadata": {
        "id": "Vf94z9nydvkY"
      },
      "source": [
        "Plot the training history:"
      ]
    },
    {
      "cell_type": "code",
      "execution_count": 15,
      "metadata": {
        "colab": {
          "base_uri": "https://localhost:8080/",
          "height": 944
        },
        "id": "3bEpzoMvdyZ0",
        "outputId": "c3a2392f-b9ea-4723-9ecb-516071e7464c"
      },
      "outputs": [
        {
          "data": {
            "image/png": "[encoded data removed]",
            "text/plain": [
              "<Figure size 640x480 with 1 Axes>"
            ]
          },
          "metadata": {},
          "output_type": "display_data"
        },
        {
          "data": {
            "image/png": "[encoded data removed]",
            "text/plain": [
              "<Figure size 640x480 with 1 Axes>"
            ]
          },
          "metadata": {},
          "output_type": "display_data"
        }
      ],
      "source": [
        "import matplotlib.pyplot as plt\n",
        "\n",
        "# summarize history for categorical accuracy\n",
        "plt.plot(results.history['sparse_categorical_accuracy'])\n",
        "plt.plot(results.history['val_sparse_categorical_accuracy'])\n",
        "plt.title('Categorical accuracy')\n",
        "plt.ylabel('accuracy')\n",
        "plt.xlabel('epoch')\n",
        "plt.legend(['train', 'val'], loc='upper left')\n",
        "plt.show()\n",
        "# summarize history for loss\n",
        "plt.plot(results.history['loss'])\n",
        "plt.plot(results.history['val_loss'])\n",
        "plt.title('model loss')\n",
        "plt.ylabel('loss')\n",
        "plt.xlabel('epoch')\n",
        "plt.legend(['train', 'val'], loc='upper left')\n",
        "plt.show()"
      ]
    },
    {
      "cell_type": "markdown",
      "metadata": {
        "id": "PYuOtQ6Tgg1Q"
      },
      "source": [
        "Load the previously saved weights:"
      ]
    },
    {
      "cell_type": "code",
      "execution_count": 23,
      "metadata": {
        "id": "eIXAofSegKEB"
      },
      "outputs": [],
      "source": [
        "# load the previously saved weights\n",
        "model.load_weights('/content/drive/MyDrive/PatientVoiceAI/saved_models/model-spec-RNN.h5')"
      ]
    },
    {
      "cell_type": "markdown",
      "metadata": {
        "id": "avYLxu1Ref_T"
      },
      "source": [
        "Evaluate on the test set:"
      ]
    },
    {
      "cell_type": "code",
      "execution_count": 24,
      "metadata": {
        "colab": {
          "base_uri": "https://localhost:8080/"
        },
        "id": "grrXsocaeiG6",
        "outputId": "6aae9b78-783b-4e5b-c7ae-b660c56b2265"
      },
      "outputs": [
        {
          "name": "stdout",
          "output_type": "stream",
          "text": [
            "Test loss: 0.11663075536489487\n",
            "Test accuracy: 0.970342218875885\n"
          ]
        }
      ],
      "source": [
        "score = model.evaluate(x_test, y_test, verbose=0)\n",
        "print('Test loss:', score[0])\n",
        "print('Test accuracy:', score[1])"
      ]
    },
    {
      "cell_type": "markdown",
      "metadata": {
        "id": "I4XuXKsXfe8P"
      },
      "source": [
        "Perform predictions on the test set and calculate the confusion matrix:"
      ]
    },
    {
      "cell_type": "code",
      "execution_count": 17,
      "metadata": {
        "colab": {
          "base_uri": "https://localhost:8080/"
        },
        "id": "wMukudZPfCdR",
        "outputId": "2220b762-5840-4ecc-a275-8782f41375b9"
      },
      "outputs": [
        {
          "name": "stdout",
          "output_type": "stream",
          "text": [
            "42/42 [==============================] - 3s 21ms/step\n",
            "[[547   2  12   0]\n",
            " [  6  79   9   0]\n",
            " [  7   3 640   0]\n",
            " [  0   0   0  10]]\n"
          ]
        }
      ],
      "source": [
        "from sklearn.metrics import confusion_matrix\n",
        "\n",
        "y_pred = model.predict(x_test, verbose=1)\n",
        "y_pred = np.argmax(y_pred,1)\n",
        "cm = confusion_matrix(y_test, y_pred)\n",
        "print(cm)"
      ]
    },
    {
      "cell_type": "markdown",
      "metadata": {
        "id": "8wA0LtNWhNEY"
      },
      "source": [
        "Function to predict for an external audio:"
      ]
    },
    {
      "cell_type": "code",
      "execution_count": 18,
      "metadata": {
        "id": "VFKKjLXxhU0_"
      },
      "outputs": [],
      "source": [
        "classes = np.asarray(classes)\n",
        "\n",
        "def predict_framewise(x, chunksize=chunksize, model=model):\n",
        "    # preprocess the input audio\n",
        "    x = np.asarray(preprocess(x, chunksize)).astype('float32')\n",
        "    # feed it into the model to produce predictions\n",
        "    y_pred = model.predict(x)\n",
        "    y_pred_probs = np.max(y_pred, axis=1)   # the probability of the highest scoring class\n",
        "    y_pred_categorical = np.argmax(y_pred, axis=1)\n",
        "    y_pred_labels = classes[y_pred_categorical]   # the label of the highest scoring class\n",
        "    return y_pred_labels, y_pred_probs"
      ]
    },
    {
      "cell_type": "markdown",
      "metadata": {
        "id": "kUq1l-faoys3"
      },
      "source": [
        "A plotter to plot the prediction result for the audio:"
      ]
    },
    {
      "cell_type": "code",
      "execution_count": 19,
      "metadata": {
        "id": "keWzRMzwoybo"
      },
      "outputs": [],
      "source": [
        "import matplotlib.pyplot as plt\n",
        "import pandas as pd\n",
        "import numpy as np\n",
        "from scipy.ndimage import gaussian_filter\n",
        "\n",
        "class TimescalePlotter:\n",
        "    def __init__(self, time_values:list, label_values:list, prob_values:list, filename:str, gold_label:str, color_map={'coughing': 'red', 'sneezing': 'blue', 'speech': 'green', 'silence': 'grey'}):\n",
        "        data = {\n",
        "            'Time': time_values,\n",
        "            'Label': label_values,\n",
        "            'Probability': prob_values,\n",
        "        }\n",
        "        if len(time_values) != len(label_values):\n",
        "            print(len(time_values))\n",
        "            print(len(label_values))\n",
        "        self.df = pd.DataFrame(data)\n",
        "        self.color_map = color_map\n",
        "        self.intervals = self._get_intervals()\n",
        "        self.merged_intervals = self._merge_intervals()     # neglecting probs\n",
        "        self.title = \"Gold label: \"+gold_label\n",
        "        self.filename = filename[:-4]\n",
        "\n",
        "    def _merge_intervals(self):\n",
        "        merged_intervals = []\n",
        "        current_label = self.df['Label'].iloc[0]\n",
        "        start_time = self.df['Time'].iloc[0]\n",
        "\n",
        "        for i in range(1, len(self.df)):\n",
        "            if self.df['Label'].iloc[i] != current_label:\n",
        "                merged_intervals.append((start_time, self.df['Time'].iloc[i], current_label))\n",
        "                current_label = self.df['Label'].iloc[i]\n",
        "                start_time = self.df['Time'].iloc[i]\n",
        "\n",
        "        # Add the last interval\n",
        "        merged_intervals.append((start_time, self.df['Time'].iloc[-1] + 1, current_label))\n",
        "        return merged_intervals\n",
        "\n",
        "    def _get_intervals(self):\n",
        "        intervals = []\n",
        "        current_label = self.df['Label'].iloc[0]\n",
        "        current_prob = self.df['Probability'].iloc[0]\n",
        "        start_time = self.df['Time'].iloc[0]\n",
        "\n",
        "        for i in range(1, len(self.df)):\n",
        "            intervals.append((start_time, self.df['Time'].iloc[i], current_label, current_prob))\n",
        "            current_label = self.df['Label'].iloc[i]\n",
        "            current_prob = self.df['Probability'].iloc[i]\n",
        "            start_time = self.df['Time'].iloc[i]\n",
        "\n",
        "        # Add the last interval\n",
        "        intervals.append((start_time, self.df['Time'].iloc[-1] + 1, current_label, current_prob))\n",
        "        return intervals\n",
        "\n",
        "    def plot(self, figsize=(20, 2)):\n",
        "        fig, ax = plt.subplots(figsize=figsize)  # Adjust the height by setting figsize to (width, height)\n",
        "\n",
        "        ## Add colored intervals regardless of probabilities\n",
        "        # for start_time, end_time, label in self.merged_intervals:\n",
        "        #     ax.axvspan(start_time, end_time, color=self.color_map[label], alpha=0.3, label=label)\n",
        "\n",
        "        # Add colored intervals with transparencies corresponding to probabilities\n",
        "        for start_time, end_time, label, prob in self.intervals:\n",
        "            ax.axvspan(start_time, end_time, color=self.color_map[label], alpha=prob, label=label)\n",
        "\n",
        "        # Add dummy entries for labels not present in data\n",
        "        for label, color in self.color_map.items():\n",
        "            if label not in self.df['Label'].unique():\n",
        "                ax.axvspan(np.NaN, np.NaN, color=color, alpha=0.3, label=label)\n",
        "\n",
        "        # Formatting the plot\n",
        "        ax.set_xlim(self.df['Time'].min() - 1, self.df['Time'].max() + 2)  # Adjust x-axis limits\n",
        "        ax.set_ylim(0.5, 1.5)  # Adjust y-axis limits to focus on the labels\n",
        "        ax.set_xlabel('Time (seconds)')\n",
        "        ax.set_ylabel('Label')\n",
        "        ax.set_title(self.title)  # Set the plot title\n",
        "\n",
        "        # Customizing ticks and grid\n",
        "        ax.xaxis.set_major_locator(plt.MaxNLocator(10))  # Show up to 10 major ticks on the x-axis\n",
        "        ax.yaxis.set_visible(False)  # Hide y-axis\n",
        "        ax.grid(True, which='both', axis='x', linestyle='--', linewidth=0.5)\n",
        "\n",
        "        # Create a legend\n",
        "        handles, labels = ax.get_legend_handles_labels()\n",
        "        by_label = dict(zip(labels, handles))\n",
        "        ax.legend(by_label.values(), by_label.keys(), loc='upper right')\n",
        "\n",
        "        # Display the plot\n",
        "        plt.show()"
      ]
    },
    {
      "cell_type": "markdown",
      "metadata": {
        "id": "0VZ0_bK-p2Pn"
      },
      "source": [
        "Test an example of an external audio:"
      ]
    },
    {
      "cell_type": "code",
      "execution_count": 20,
      "metadata": {
        "colab": {
          "base_uri": "https://localhost:8080/",
          "height": 797
        },
        "id": "_dPTIA17pz5m",
        "outputId": "c911130b-fde2-4718-eb2d-51785edf6794"
      },
      "outputs": [
        {
          "name": "stdout",
          "output_type": "stream",
          "text": [
            "4/4 [==============================] - 0s 47ms/step\n",
            "['speech' 'speech' 'speech' 'coughing' 'speech' 'speech' 'speech' 'speech'\n",
            " 'speech' 'speech' 'coughing' 'coughing' 'speech' 'speech' 'speech'\n",
            " 'speech' 'speech' 'sneezing' 'speech' 'speech' 'sneezing' 'speech'\n",
            " 'speech' 'speech' 'speech' 'coughing' 'coughing' 'speech' 'coughing'\n",
            " 'coughing' 'coughing' 'speech' 'speech' 'speech' 'sneezing' 'coughing'\n",
            " 'speech' 'speech' 'coughing' 'speech' 'coughing' 'coughing' 'sneezing'\n",
            " 'sneezing' 'sneezing' 'sneezing' 'coughing' 'coughing' 'speech' 'speech'\n",
            " 'speech' 'speech' 'speech' 'speech' 'speech' 'speech' 'coughing' 'speech'\n",
            " 'speech' 'speech' 'speech' 'coughing' 'speech' 'speech' 'speech'\n",
            " 'coughing' 'sneezing' 'speech' 'speech' 'speech' 'sneezing' 'sneezing'\n",
            " 'coughing' 'sneezing' 'coughing' 'speech' 'speech' 'coughing' 'speech'\n",
            " 'sneezing' 'speech' 'speech' 'speech' 'speech' 'speech' 'speech' 'speech'\n",
            " 'speech' 'speech' 'speech' 'coughing' 'speech' 'speech' 'speech' 'speech'\n",
            " 'speech' 'speech' 'speech' 'speech' 'speech' 'speech' 'speech' 'speech'\n",
            " 'speech' 'speech' 'silence' 'silence']\n",
            "[0.9993494  0.9999989  1.         0.7463503  0.9997842  0.99463403\n",
            " 1.         0.99732864 0.9999908  0.99425864 0.8401492  0.7751487\n",
            " 0.8818985  0.89356923 0.99999833 0.99617034 0.9999999  0.9571819\n",
            " 1.         0.99999845 0.8567284  0.9775634  0.67432225 1.\n",
            " 0.99710053 0.9959853  0.42873392 0.49561214 0.69114995 0.89320034\n",
            " 0.97338945 0.71528196 0.7654022  0.9995347  0.986736   0.99983215\n",
            " 0.9987784  0.9999932  0.9040765  0.9683921  0.9890077  0.98569554\n",
            " 0.9940534  0.99772364 0.988703   0.618111   0.9997662  0.9782004\n",
            " 0.9999602  0.9124286  0.99999    1.         0.9999994  0.999998\n",
            " 0.9992067  0.99827313 0.99833965 1.         0.98151326 0.9999994\n",
            " 0.99999714 0.965971   0.58848727 0.9979132  0.98141026 0.6180204\n",
            " 0.5358975  0.62923616 0.9987587  0.71206236 0.86639994 0.98607755\n",
            " 0.9475452  0.99980193 0.9958364  0.9962172  0.9999999  0.97489434\n",
            " 0.99996626 0.86333805 1.         1.         0.9020492  1.\n",
            " 0.99972934 1.         0.9999958  0.9987764  0.8386959  0.86853164\n",
            " 0.998955   1.         0.9996598  0.9995308  1.         1.\n",
            " 0.9999999  1.         0.999775   0.99994826 0.9999238  0.99999297\n",
            " 1.         1.         0.9999995  0.592789   0.98608196]\n"
          ]
        },
        {
          "data": {
            "image/png": "[encoded data removed]",
            "text/plain": [
              "<Figure size 2000x200 with 1 Axes>"
            ]
          },
          "metadata": {},
          "output_type": "display_data"
        }
      ],
      "source": [
        "# testing\n",
        "eg_label = \"mixed\"\n",
        "eg_filename = \"qPo0bymnsh0.wav\"\n",
        "eg_f = os.path.join(directory, eg_label, eg_filename)\n",
        "eg_x, eg_sr = librosa.load(eg_f)\n",
        "eg_y_labels, eg_y_probs = predict_framewise(eg_x)\n",
        "print(eg_y_labels)\n",
        "print(eg_y_probs)\n",
        "\n",
        "chunk_duration = 1.0   # in second\n",
        "\n",
        "eg_audio_duration = chunk_duration*len(eg_y_labels)\n",
        "eg_timestamps = np.linspace(start=0, stop=eg_audio_duration, num=len(eg_y_labels))\n",
        "plotter = TimescalePlotter(list(eg_timestamps), list(eg_y_labels), list(eg_y_probs), eg_filename, eg_label)\n",
        "plotter.plot()\n"
      ]
    }
  ],
  "metadata": {
    "accelerator": "GPU",
    "colab": {
      "gpuType": "T4",
      "provenance": []
    },
    "kernelspec": {
      "display_name": "Python 3",
      "name": "python3"
    },
    "language_info": {
      "name": "python"
    }
  },
  "nbformat": 4,
  "nbformat_minor": 0
}
