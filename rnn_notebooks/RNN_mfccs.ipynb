{
  "cells": [
    {
      "cell_type": "markdown",
      "metadata": {
        "id": "ueYfMuBMA8La"
      },
      "source": [
        "Load dependencies:"
      ]
    },
    {
      "cell_type": "code",
      "execution_count": null,
      "metadata": {
        "colab": {
          "base_uri": "https://localhost:8080/"
        },
        "collapsed": true,
        "id": "CmOQfRarA6Sq",
        "outputId": "baee620f-0088-4503-e907-36e6d5f0f0db"
      },
      "outputs": [
        {
          "name": "stdout",
          "output_type": "stream",
          "text": [
            "Collecting tensorflow_io\n",
            "  Downloading tensorflow_io-0.37.0-cp310-cp310-manylinux_2_17_x86_64.manylinux2014_x86_64.whl (49.6 MB)\n",
            "\u001b[2K     \u001b[90m━━━━━━━━━━━━━━━━━━━━━━━━━━━━━━━━━━━━━━━━\u001b[0m \u001b[32m49.6/49.6 MB\u001b[0m \u001b[31m14.3 MB/s\u001b[0m eta \u001b[36m0:00:00\u001b[0m\n",
            "\u001b[?25hRequirement already satisfied: tensorflow-io-gcs-filesystem==0.37.0 in /usr/local/lib/python3.10/dist-packages (from tensorflow_io) (0.37.0)\n",
            "Installing collected packages: tensorflow_io\n",
            "Successfully installed tensorflow_io-0.37.0\n"
          ]
        }
      ],
      "source": [
        "# !pip install opensmile\n",
        "!pip install tensorflow_io\n",
        "import os\n",
        "import numpy as np\n",
        "import librosa\n",
        "# import opensmile\n",
        "import math\n",
        "import scipy\n",
        "import tensorflow as tf\n",
        "import tensorflow_io as tfio\n",
        "\n",
        "directory = \"/content/drive/MyDrive/PatientVoiceAI/data\""
      ]
    },
    {
      "cell_type": "markdown",
      "metadata": {
        "id": "8GHN_bCuFZ7l"
      },
      "source": [
        "Load and preprocess raw audio files in the dataset:"
      ]
    },
    {
      "cell_type": "code",
      "execution_count": null,
      "metadata": {
        "colab": {
          "base_uri": "https://localhost:8080/"
        },
        "id": "R8Jszyt37RJZ",
        "outputId": "d00df38b-9018-46f4-dc1a-23b4b0a9b6b2"
      },
      "outputs": [
        {
          "name": "stdout",
          "output_type": "stream",
          "text": [
            "(13143, 22050)\n",
            "[0.03695566 0.04142303 0.01117673 ... 0.         0.         0.        ]\n",
            "(13143,)\n",
            "0\n"
          ]
        }
      ],
      "source": [
        "def preprocess(x, chunksize):\n",
        "    x_len = len(x)\n",
        "    if x_len < chunksize:   # padding\n",
        "        processed = np.pad(x, (0,chunksize-x_len))  # right-pad with zero\n",
        "    elif x_len > chunksize: # splitting\n",
        "        tailing = x_len % chunksize\n",
        "        if tailing != 0:                # handle uneven splits: create overlap for the last chunk\n",
        "            x = np.concatenate((x[:-tailing], x[-chunksize:]))\n",
        "        num_chunks = int(round(len(x)/chunksize))\n",
        "        processed = np.array_split(x,num_chunks)\n",
        "    else:                   # no change\n",
        "        processed = np.array(x)\n",
        "    return processed\n",
        "\n",
        "def get_dataset(label, label_index, chunksize):\n",
        "    x_set = []\n",
        "    folder = os.path.join(directory, label)\n",
        "    for filename in os.listdir(folder):\n",
        "        f = os.path.join(folder, filename)\n",
        "        if os.path.isfile(f):\n",
        "            audio, sample_rate = librosa.load(f)\n",
        "            x_set.append(preprocess(audio,chunksize))\n",
        "    x_set = np.vstack(x_set)\n",
        "    y_set = np.repeat([label_index[label]],len(x_set))\n",
        "    return x_set,y_set\n",
        "\n",
        "\n",
        "classes = [\"coughing\", \"sneezing\", \"speech\", \"silence\"]\n",
        "\n",
        "label_index = {\n",
        "    \"coughing\":0,\n",
        "    \"sneezing\":1,\n",
        "    \"speech\":2,\n",
        "    \"silence\":3\n",
        "}\n",
        "\n",
        "sample_rate = 22050   # default sample rate in librosa\n",
        "chunksize = 1*sample_rate   # 1 second\n",
        "\n",
        "\n",
        "## initialise the dataset\n",
        "x_set = []\n",
        "y_set = []\n",
        "for label in classes:\n",
        "    x_subset, y_subset = get_dataset(label,label_index,chunksize)\n",
        "    x_set.extend(x_subset)\n",
        "    y_set.extend(y_subset)\n",
        "\n",
        "x_set = np.asarray(x_set).astype('float32')\n",
        "y_set = np.asarray(y_set)\n",
        "\n",
        "print(np.shape(x_set))\n",
        "print(x_set[0])\n",
        "print(np.shape(y_set))\n",
        "print(y_set[0])\n",
        "\n"
      ]
    },
    {
      "cell_type": "markdown",
      "metadata": {
        "id": "oqrfVOSgwikl"
      },
      "source": [
        "Store the dataset into a .csv file:"
      ]
    },
    {
      "cell_type": "code",
      "execution_count": null,
      "metadata": {
        "id": "s3RMsBIywiRO"
      },
      "outputs": [],
      "source": [
        "preprocessed_dataset = np.hstack((x_set, np.expand_dims(y_set,axis=1)))\n",
        "np.savetxt('preprocessed_dataset.csv', preprocessed_dataset, fmt=\"%d\", delimiter=\",\")"
      ]
    },
    {
      "cell_type": "markdown",
      "metadata": {
        "id": "mV1zHlQbx2bU"
      },
      "source": [
        "Shuffle and split the dataset:"
      ]
    },
    {
      "cell_type": "code",
      "execution_count": null,
      "metadata": {
        "colab": {
          "base_uri": "https://localhost:8080/"
        },
        "id": "ffc74cYSAVj4",
        "outputId": "cbebac44-a45b-4ac5-de05-544304c4445a"
      },
      "outputs": [
        {
          "name": "stdout",
          "output_type": "stream",
          "text": [
            "(10514, 22050)\n",
            "(1314, 22050)\n",
            "(1315, 22050)\n"
          ]
        }
      ],
      "source": [
        "#Parameters for shuffling\n",
        "seed = 42\n",
        "np.random.seed(seed)\n",
        "N = len(y_set)\n",
        "\n",
        "shuffled_indices = np.random.permutation(N)\n",
        "\n",
        "# Apply the shuffled indices to both data and labels\n",
        "x_set = x_set[shuffled_indices]\n",
        "y_set = y_set[shuffled_indices]\n",
        "\n",
        "\n",
        "split_size_val = int(0.8*N)\n",
        "split_size_test = int(0.9*N)\n",
        "\n",
        "x_train, x_val, x_test = x_set[:split_size_val], x_set[split_size_val:split_size_test], x_set[split_size_test:]\n",
        "y_train, y_val, y_test = y_set[:split_size_val], y_set[split_size_val:split_size_test], y_set[split_size_test:]\n",
        "\n",
        "print(np.shape(x_train))\n",
        "print(np.shape(x_val))\n",
        "print(np.shape(x_test))"
      ]
    },
    {
      "cell_type": "markdown",
      "metadata": {
        "id": "wp4MYbJezuu5"
      },
      "source": [
        "Define a function to calculate normalised Mel-spectrogram:"
      ]
    },
    {
      "cell_type": "code",
      "execution_count": null,
      "metadata": {
        "colab": {
          "base_uri": "https://localhost:8080/"
        },
        "collapsed": true,
        "id": "0cobDxQkRtMH",
        "outputId": "ad90fa0f-5807-4996-c236-58980c9bd406"
      },
      "outputs": [
        {
          "name": "stdout",
          "output_type": "stream",
          "text": [
            "tf.Tensor(\n",
            "[[ 1.1793274   1.1549226   1.4460317  ... -1.3244569  -1.368518\n",
            "  -1.3568662 ]\n",
            " [ 1.1200563   1.171702    1.4689406  ... -1.3201879  -1.2813581\n",
            "  -1.2963797 ]\n",
            " [ 1.0323896   1.1226151   1.471154   ... -1.3506892  -1.1949574\n",
            "  -1.2638701 ]\n",
            " ...\n",
            " [ 0.307755    0.41376874  1.1273588  ... -0.8909706  -0.84094214\n",
            "  -0.787159  ]\n",
            " [-0.511023   -0.3180582   0.07236803 ... -1.5859208  -1.5392392\n",
            "  -1.502921  ]\n",
            " [-3.702543   -3.727922   -3.8563492  ... -3.7580156  -3.7076783\n",
            "  -3.682803  ]], shape=(173, 20), dtype=float32)\n"
          ]
        }
      ],
      "source": [
        "def get_normalised_mel_spectrogram(x, sr=sample_rate, n_mel_bins=20):\n",
        "    \"\"\"\n",
        "            Code adapted from https://github.com/douglas125/SpeechCmdRecognition/blob/master/audioUtils.py#L93\n",
        "    \"\"\"\n",
        "    spec_stride = 128\n",
        "    spec_len = 1024\n",
        "\n",
        "    spectrogram = tfio.audio.spectrogram(\n",
        "        x, nfft=spec_len, window=spec_len, stride=spec_stride\n",
        "    )\n",
        "\n",
        "    num_spectrogram_bins = spec_len // 2 + 1  # spectrogram.shape[-1]\n",
        "    lower_edge_hertz, upper_edge_hertz = 40.0, 8000.0\n",
        "    num_mel_bins = n_mel_bins\n",
        "    linear_to_mel_weight_matrix = tf.signal.linear_to_mel_weight_matrix(\n",
        "      num_mel_bins, num_spectrogram_bins, sr, lower_edge_hertz,\n",
        "      upper_edge_hertz)\n",
        "    mel_spectrograms = tf.tensordot(spectrogram, linear_to_mel_weight_matrix, 1)\n",
        "    mel_spectrograms.set_shape(spectrogram.shape[:-1].concatenate(linear_to_mel_weight_matrix.shape[-1:]))\n",
        "\n",
        "    # Compute a stabilized log to get log-magnitude mel-scale spectrograms.\n",
        "    log_mel_spectrograms = tf.math.log(mel_spectrograms + 1e-6)\n",
        "    avg = tf.math.reduce_mean(log_mel_spectrograms)\n",
        "    std = tf.math.reduce_std(log_mel_spectrograms)\n",
        "\n",
        "    return (log_mel_spectrograms - avg) / std\n",
        "\n",
        "\n",
        "# testing\n",
        "# print(get_normalised_mel_spectrogram(x_set[1]))"
      ]
    },
    {
      "cell_type": "markdown",
      "metadata": {
        "id": "zt7wGQbbzxqA"
      },
      "source": [
        "Define a function to calculate MFCCs:"
      ]
    },
    {
      "cell_type": "markdown",
      "metadata": {
        "id": "J6VpkoLw-Dan"
      },
      "source": [
        "TODO:\n",
        "1. Support deltas\n",
        "2. Only take first 13?"
      ]
    },
    {
      "cell_type": "code",
      "execution_count": 42,
      "metadata": {
        "colab": {
          "base_uri": "https://localhost:8080/"
        },
        "collapsed": true,
        "id": "EXQ7WkH3zPEI",
        "outputId": "b9e27b0e-1386-4405-e0b2-03bab3595795"
      },
      "outputs": [
        {
          "name": "stdout",
          "output_type": "stream",
          "text": [
            "tf.Tensor(\n",
            "[[-1.1391315e+00  4.5120683e+00  8.9796579e-01 ...  1.9424324e-01\n",
            "   2.1183461e-01  1.5355536e-01]\n",
            " [-8.6550003e-01  4.4316473e+00  8.2762915e-01 ...  2.2362024e-01\n",
            "   2.0111430e-01  4.0627837e-02]\n",
            " [-5.8968490e-01  4.1779103e+00  6.7887866e-01 ...  3.0907157e-01\n",
            "   1.6957018e-01 -1.1804692e-01]\n",
            " ...\n",
            " [-8.1044227e-01  2.5797963e+00  2.7624339e-01 ...  1.4563957e-01\n",
            "   1.8865944e-01 -1.2220542e-02]\n",
            " [-6.1357007e+00  2.3233535e+00  4.0918219e-01 ...  2.0318003e-02\n",
            "   1.9756235e-01 -1.2349489e-02]\n",
            " [-2.3010492e+01  4.9410570e-02 -6.2049210e-01 ... -1.7878070e-01\n",
            "   3.5957940e-02 -3.4998026e-02]], shape=(173, 13), dtype=float32)\n"
          ]
        }
      ],
      "source": [
        "def get_mfccs(x, sr=sample_rate, n=20, deltas=False):\n",
        "    log_mel_spectrograms = get_normalised_mel_spectrogram(x, sr=sr, n_mel_bins=n)\n",
        "\n",
        "    # Compute MFCCs from log_mel_spectrograms and take the first 13\n",
        "    mfccs = tf.signal.mfccs_from_log_mel_spectrograms(\n",
        "      log_mel_spectrograms)[..., :13]\n",
        "\n",
        "    return mfccs\n",
        "\n",
        "# testing\n",
        "# print(get_mfccs(x_set[1],deltas=True))"
      ]
    },
    {
      "cell_type": "markdown",
      "metadata": {
        "id": "aOuuvEsV5FPm"
      },
      "source": [
        "Build a model:"
      ]
    },
    {
      "cell_type": "code",
      "execution_count": 44,
      "metadata": {
        "id": "TDXcZx6T5E1l"
      },
      "outputs": [],
      "source": [
        "\"\"\"\n",
        "      Code adapted from https://github.com/douglas125/SpeechCmdRecognition/blob/master/SpeechModels.py\n",
        "\"\"\"\n",
        "\n",
        "from tensorflow import keras\n",
        "from keras import layers as L\n",
        "from keras import backend as K\n",
        "from keras.utils import to_categorical\n",
        "from keras.callbacks import EarlyStopping, ModelCheckpoint, LearningRateScheduler\n",
        "from keras import backend as K\n",
        "from keras import optimizers\n",
        "from keras.models import Model, load_model\n",
        "\n",
        "\n",
        "def get_melspec_model(iLen=None):\n",
        "    inp = L.Input((iLen,), name='input')\n",
        "    mel_spec = get_normalised_mel_spectrogram(inp)\n",
        "    melspecModel = Model(inputs=inp, outputs=mel_spec, name='normalised_spectrogram_model')\n",
        "    return melspecModel\n",
        "\n",
        "def get_mfccs_model(iLen=None):\n",
        "    inp = L.Input((iLen,), name='input')\n",
        "    mfccs = get_mfccs(inp)\n",
        "    mfccsModel = Model(inputs=inp, outputs=mfccs, name='normalised_mfccs_model')\n",
        "    return mfccsModel\n",
        "\n",
        "def AttRNNSpeechModel(nCategories, samplingrate=sample_rate,\n",
        "                      inputLength=chunksize, rnn_func=L.LSTM):\n",
        "    # simple LSTM\n",
        "    sr = samplingrate\n",
        "    iLen = inputLength\n",
        "\n",
        "    inputs = L.Input((inputLength,), name='input')\n",
        "\n",
        "    # m =  get_melspec_model(iLen=inputLength)\n",
        "    m =  get_mfccs_model(iLen=inputLength)\n",
        "    m.trainable = False\n",
        "\n",
        "    x = m(inputs)\n",
        "    x = tf.expand_dims(x, axis=-1, name='mfccs')\n",
        "\n",
        "    x = L.Conv2D(10, (5, 1), activation='relu', padding='same')(x)\n",
        "    x = L.BatchNormalization()(x)\n",
        "    x = L.Conv2D(1, (5, 1), activation='relu', padding='same')(x)\n",
        "    x = L.BatchNormalization()(x)\n",
        "\n",
        "    # x = Reshape((125, 80)) (x)\n",
        "    # keras.backend.squeeze(x, axis)\n",
        "    x = L.Lambda(lambda q: K.squeeze(q, -1), name='squeeze_last_dim')(x)\n",
        "\n",
        "    x = L.Bidirectional(rnn_func(64, return_sequences=True)\n",
        "                        )(x)  # [b_s, seq_len, vec_dim]\n",
        "    x = L.Bidirectional(rnn_func(64, return_sequences=True)\n",
        "                        )(x)  # [b_s, seq_len, vec_dim]\n",
        "\n",
        "    # xFirst = L.Lambda(lambda q: q[:, -1])(x)  # [b_s, vec_dim]\n",
        "    # query = L.Dense(128)(xFirst)\n",
        "\n",
        "    # # dot product attention\n",
        "    # attScores = L.Dot(axes=[1, 2])([query, x])\n",
        "    # attScores = L.Softmax(name='attSoftmax')(attScores)  # [b_s, seq_len]\n",
        "\n",
        "    # # rescale sequence\n",
        "    # attVector = L.Dot(axes=[1, 1])([attScores, x])  # [b_s, vec_dim]\n",
        "\n",
        "    # for classification\n",
        "    x = L.GlobalAveragePooling1D()(x)\n",
        "    x = L.Dense(64, activation='relu')(x)      #(attVector)\n",
        "    x = L.Dense(32)(x)\n",
        "\n",
        "    output = L.Dense(nCategories, activation='softmax', name='output')(x)\n",
        "\n",
        "    model = Model(inputs=[inputs], outputs=[output])\n",
        "\n",
        "    return model"
      ]
    },
    {
      "cell_type": "markdown",
      "metadata": {
        "id": "VEeJ9x4b8HUK"
      },
      "source": [
        "Create a model:"
      ]
    },
    {
      "cell_type": "code",
      "execution_count": 45,
      "metadata": {
        "colab": {
          "base_uri": "https://localhost:8080/"
        },
        "id": "5vl49hiB7cvA",
        "outputId": "c4aae16a-c91b-4ea6-e1e2-f996980ea973"
      },
      "outputs": [
        {
          "name": "stdout",
          "output_type": "stream",
          "text": [
            "Model: \"model_3\"\n",
            "_________________________________________________________________\n",
            " Layer (type)                Output Shape              Param #   \n",
            "=================================================================\n",
            " input (InputLayer)          [(None, None)]            0         \n",
            "                                                                 \n",
            " normalised_mfccs_model (Fu  (None, None, 13)          0         \n",
            " nctional)                                                       \n",
            "                                                                 \n",
            " tf.expand_dims_3 (TFOpLamb  (None, None, 13, 1)       0         \n",
            " da)                                                             \n",
            "                                                                 \n",
            " conv2d_6 (Conv2D)           (None, None, 13, 10)      60        \n",
            "                                                                 \n",
            " batch_normalization_6 (Bat  (None, None, 13, 10)      40        \n",
            " chNormalization)                                                \n",
            "                                                                 \n",
            " conv2d_7 (Conv2D)           (None, None, 13, 1)       51        \n",
            "                                                                 \n",
            " batch_normalization_7 (Bat  (None, None, 13, 1)       4         \n",
            " chNormalization)                                                \n",
            "                                                                 \n",
            " squeeze_last_dim (Lambda)   (None, None, 13)          0         \n",
            "                                                                 \n",
            " bidirectional_6 (Bidirecti  (None, None, 128)         39936     \n",
            " onal)                                                           \n",
            "                                                                 \n",
            " bidirectional_7 (Bidirecti  (None, None, 128)         98816     \n",
            " onal)                                                           \n",
            "                                                                 \n",
            " global_average_pooling1d_2  (None, 128)               0         \n",
            "  (GlobalAveragePooling1D)                                       \n",
            "                                                                 \n",
            " dense_6 (Dense)             (None, 64)                8256      \n",
            "                                                                 \n",
            " dense_7 (Dense)             (None, 32)                2080      \n",
            "                                                                 \n",
            " output (Dense)              (None, 4)                 132       \n",
            "                                                                 \n",
            "=================================================================\n",
            "Total params: 149375 (583.50 KB)\n",
            "Trainable params: 149353 (583.41 KB)\n",
            "Non-trainable params: 22 (88.00 Byte)\n",
            "_________________________________________________________________\n"
          ]
        }
      ],
      "source": [
        "nCategs = len(classes)\n",
        "model = AttRNNSpeechModel(nCategs, samplingrate = sample_rate, inputLength = None)#, rnn_func=L.LSTM)\n",
        "\n",
        "model.compile(optimizer='adam', loss=['sparse_categorical_crossentropy'], metrics=['sparse_categorical_accuracy'])\n",
        "model.summary()"
      ]
    },
    {
      "cell_type": "markdown",
      "metadata": {
        "id": "chHPtaR1BDS_"
      },
      "source": [
        "Train the model:"
      ]
    },
    {
      "cell_type": "code",
      "execution_count": 46,
      "metadata": {
        "colab": {
          "base_uri": "https://localhost:8080/"
        },
        "id": "uHIn42VDEe5b",
        "outputId": "68983cbc-3371-4a28-e611-780430837304"
      },
      "outputs": [
        {
          "name": "stdout",
          "output_type": "stream",
          "text": [
            "Changing learning rate to 0.001\n",
            "Epoch 1/50\n",
            "329/329 [==============================] - ETA: 0s - loss: 0.4805 - sparse_categorical_accuracy: 0.8097\n",
            "Epoch 1: val_sparse_categorical_accuracy improved from -inf to 0.87215, saving model to model-mfccs-RNN.h5\n",
            "329/329 [==============================] - 38s 85ms/step - loss: 0.4805 - sparse_categorical_accuracy: 0.8097 - val_loss: 0.3580 - val_sparse_categorical_accuracy: 0.8721 - lr: 0.0010\n",
            "Changing learning rate to 0.001\n",
            "Epoch 2/50\n",
            "  3/329 [..............................] - ETA: 9s - loss: 0.2690 - sparse_categorical_accuracy: 0.8750 "
          ]
        },
        {
          "name": "stderr",
          "output_type": "stream",
          "text": [
            "/usr/local/lib/python3.10/dist-packages/keras/src/engine/training.py:3103: UserWarning: You are saving your model as an HDF5 file via `model.save()`. This file format is considered legacy. We recommend using instead the native Keras format, e.g. `model.save('my_model.keras')`.\n",
            "  saving_api.save_model(\n"
          ]
        },
        {
          "name": "stdout",
          "output_type": "stream",
          "text": [
            "329/329 [==============================] - ETA: 0s - loss: 0.2291 - sparse_categorical_accuracy: 0.9219\n",
            "Epoch 2: val_sparse_categorical_accuracy improved from 0.87215 to 0.92314, saving model to model-mfccs-RNN.h5\n",
            "329/329 [==============================] - 20s 59ms/step - loss: 0.2291 - sparse_categorical_accuracy: 0.9219 - val_loss: 0.2053 - val_sparse_categorical_accuracy: 0.9231 - lr: 0.0010\n",
            "Changing learning rate to 0.001\n",
            "Epoch 3/50\n",
            "  3/329 [..............................] - ETA: 10s - loss: 0.2442 - sparse_categorical_accuracy: 0.9375"
          ]
        },
        {
          "name": "stderr",
          "output_type": "stream",
          "text": [
            "/usr/local/lib/python3.10/dist-packages/keras/src/engine/training.py:3103: UserWarning: You are saving your model as an HDF5 file via `model.save()`. This file format is considered legacy. We recommend using instead the native Keras format, e.g. `model.save('my_model.keras')`.\n",
            "  saving_api.save_model(\n"
          ]
        },
        {
          "name": "stdout",
          "output_type": "stream",
          "text": [
            "328/329 [============================>.] - ETA: 0s - loss: 0.1660 - sparse_categorical_accuracy: 0.9454\n",
            "Epoch 3: val_sparse_categorical_accuracy improved from 0.92314 to 0.92998, saving model to model-mfccs-RNN.h5\n",
            "329/329 [==============================] - 26s 80ms/step - loss: 0.1658 - sparse_categorical_accuracy: 0.9455 - val_loss: 0.2354 - val_sparse_categorical_accuracy: 0.9300 - lr: 0.0010\n"
          ]
        },
        {
          "name": "stderr",
          "output_type": "stream",
          "text": [
            "/usr/local/lib/python3.10/dist-packages/keras/src/engine/training.py:3103: UserWarning: You are saving your model as an HDF5 file via `model.save()`. This file format is considered legacy. We recommend using instead the native Keras format, e.g. `model.save('my_model.keras')`.\n",
            "  saving_api.save_model(\n"
          ]
        },
        {
          "name": "stdout",
          "output_type": "stream",
          "text": [
            "Changing learning rate to 0.001\n",
            "Epoch 4/50\n",
            "329/329 [==============================] - ETA: 0s - loss: 0.1319 - sparse_categorical_accuracy: 0.9550\n",
            "Epoch 4: val_sparse_categorical_accuracy improved from 0.92998 to 0.94825, saving model to model-mfccs-RNN.h5\n",
            "329/329 [==============================] - 21s 63ms/step - loss: 0.1319 - sparse_categorical_accuracy: 0.9550 - val_loss: 0.1817 - val_sparse_categorical_accuracy: 0.9482 - lr: 0.0010\n"
          ]
        },
        {
          "name": "stderr",
          "output_type": "stream",
          "text": [
            "/usr/local/lib/python3.10/dist-packages/keras/src/engine/training.py:3103: UserWarning: You are saving your model as an HDF5 file via `model.save()`. This file format is considered legacy. We recommend using instead the native Keras format, e.g. `model.save('my_model.keras')`.\n",
            "  saving_api.save_model(\n"
          ]
        },
        {
          "name": "stdout",
          "output_type": "stream",
          "text": [
            "Changing learning rate to 0.001\n",
            "Epoch 5/50\n",
            "328/329 [============================>.] - ETA: 0s - loss: 0.1024 - sparse_categorical_accuracy: 0.9665\n",
            "Epoch 5: val_sparse_categorical_accuracy improved from 0.94825 to 0.96043, saving model to model-mfccs-RNN.h5\n",
            "329/329 [==============================] - 24s 72ms/step - loss: 0.1022 - sparse_categorical_accuracy: 0.9665 - val_loss: 0.1428 - val_sparse_categorical_accuracy: 0.9604 - lr: 0.0010\n",
            "Changing learning rate to 0.001\n",
            "Epoch 6/50\n",
            "  1/329 [..............................] - ETA: 15s - loss: 0.1315 - sparse_categorical_accuracy: 0.9375"
          ]
        },
        {
          "name": "stderr",
          "output_type": "stream",
          "text": [
            "/usr/local/lib/python3.10/dist-packages/keras/src/engine/training.py:3103: UserWarning: You are saving your model as an HDF5 file via `model.save()`. This file format is considered legacy. We recommend using instead the native Keras format, e.g. `model.save('my_model.keras')`.\n",
            "  saving_api.save_model(\n"
          ]
        },
        {
          "name": "stdout",
          "output_type": "stream",
          "text": [
            "328/329 [============================>.] - ETA: 0s - loss: 0.0867 - sparse_categorical_accuracy: 0.9715\n",
            "Epoch 6: val_sparse_categorical_accuracy improved from 0.96043 to 0.96347, saving model to model-mfccs-RNN.h5\n",
            "329/329 [==============================] - 23s 70ms/step - loss: 0.0865 - sparse_categorical_accuracy: 0.9716 - val_loss: 0.1275 - val_sparse_categorical_accuracy: 0.9635 - lr: 0.0010\n",
            "Changing learning rate to 0.001\n",
            "Epoch 7/50\n",
            "  3/329 [..............................] - ETA: 9s - loss: 0.0396 - sparse_categorical_accuracy: 0.9792 "
          ]
        },
        {
          "name": "stderr",
          "output_type": "stream",
          "text": [
            "/usr/local/lib/python3.10/dist-packages/keras/src/engine/training.py:3103: UserWarning: You are saving your model as an HDF5 file via `model.save()`. This file format is considered legacy. We recommend using instead the native Keras format, e.g. `model.save('my_model.keras')`.\n",
            "  saving_api.save_model(\n"
          ]
        },
        {
          "name": "stdout",
          "output_type": "stream",
          "text": [
            "329/329 [==============================] - ETA: 0s - loss: 0.0756 - sparse_categorical_accuracy: 0.9734\n",
            "Epoch 7: val_sparse_categorical_accuracy did not improve from 0.96347\n",
            "329/329 [==============================] - 22s 67ms/step - loss: 0.0756 - sparse_categorical_accuracy: 0.9734 - val_loss: 0.1373 - val_sparse_categorical_accuracy: 0.9559 - lr: 0.0010\n",
            "Changing learning rate to 0.001\n",
            "Epoch 8/50\n",
            "329/329 [==============================] - ETA: 0s - loss: 0.0665 - sparse_categorical_accuracy: 0.9780\n",
            "Epoch 8: val_sparse_categorical_accuracy did not improve from 0.96347\n",
            "329/329 [==============================] - 24s 73ms/step - loss: 0.0665 - sparse_categorical_accuracy: 0.9780 - val_loss: 0.1314 - val_sparse_categorical_accuracy: 0.9604 - lr: 0.0010\n",
            "Changing learning rate to 0.001\n",
            "Epoch 9/50\n",
            "328/329 [============================>.] - ETA: 0s - loss: 0.0564 - sparse_categorical_accuracy: 0.9813\n",
            "Epoch 9: val_sparse_categorical_accuracy did not improve from 0.96347\n",
            "329/329 [==============================] - 20s 61ms/step - loss: 0.0574 - sparse_categorical_accuracy: 0.9811 - val_loss: 0.1483 - val_sparse_categorical_accuracy: 0.9559 - lr: 0.0010\n",
            "Changing learning rate to 0.001\n",
            "Epoch 10/50\n",
            "329/329 [==============================] - ETA: 0s - loss: 0.0503 - sparse_categorical_accuracy: 0.9841\n",
            "Epoch 10: val_sparse_categorical_accuracy improved from 0.96347 to 0.96575, saving model to model-mfccs-RNN.h5\n",
            "329/329 [==============================] - 23s 70ms/step - loss: 0.0503 - sparse_categorical_accuracy: 0.9841 - val_loss: 0.1136 - val_sparse_categorical_accuracy: 0.9658 - lr: 0.0010\n",
            "Changing learning rate to 0.001\n",
            "Epoch 11/50\n",
            "  1/329 [..............................] - ETA: 13s - loss: 0.0211 - sparse_categorical_accuracy: 1.0000"
          ]
        },
        {
          "name": "stderr",
          "output_type": "stream",
          "text": [
            "/usr/local/lib/python3.10/dist-packages/keras/src/engine/training.py:3103: UserWarning: You are saving your model as an HDF5 file via `model.save()`. This file format is considered legacy. We recommend using instead the native Keras format, e.g. `model.save('my_model.keras')`.\n",
            "  saving_api.save_model(\n"
          ]
        },
        {
          "name": "stdout",
          "output_type": "stream",
          "text": [
            "328/329 [============================>.] - ETA: 0s - loss: 0.0430 - sparse_categorical_accuracy: 0.9844\n",
            "Epoch 11: val_sparse_categorical_accuracy improved from 0.96575 to 0.96728, saving model to model-mfccs-RNN.h5\n",
            "329/329 [==============================] - 26s 79ms/step - loss: 0.0430 - sparse_categorical_accuracy: 0.9844 - val_loss: 0.1128 - val_sparse_categorical_accuracy: 0.9673 - lr: 0.0010\n"
          ]
        },
        {
          "name": "stderr",
          "output_type": "stream",
          "text": [
            "/usr/local/lib/python3.10/dist-packages/keras/src/engine/training.py:3103: UserWarning: You are saving your model as an HDF5 file via `model.save()`. This file format is considered legacy. We recommend using instead the native Keras format, e.g. `model.save('my_model.keras')`.\n",
            "  saving_api.save_model(\n"
          ]
        },
        {
          "name": "stdout",
          "output_type": "stream",
          "text": [
            "Changing learning rate to 0.001\n",
            "Epoch 12/50\n",
            "329/329 [==============================] - ETA: 0s - loss: 0.0370 - sparse_categorical_accuracy: 0.9877\n",
            "Epoch 12: val_sparse_categorical_accuracy did not improve from 0.96728\n",
            "329/329 [==============================] - 25s 77ms/step - loss: 0.0370 - sparse_categorical_accuracy: 0.9877 - val_loss: 0.1217 - val_sparse_categorical_accuracy: 0.9673 - lr: 0.0010\n",
            "Changing learning rate to 0.001\n",
            "Epoch 13/50\n",
            "329/329 [==============================] - ETA: 0s - loss: 0.0689 - sparse_categorical_accuracy: 0.9782\n",
            "Epoch 13: val_sparse_categorical_accuracy did not improve from 0.96728\n",
            "329/329 [==============================] - 22s 66ms/step - loss: 0.0689 - sparse_categorical_accuracy: 0.9782 - val_loss: 0.1201 - val_sparse_categorical_accuracy: 0.9627 - lr: 0.0010\n",
            "Changing learning rate to 0.001\n",
            "Epoch 14/50\n",
            "328/329 [============================>.] - ETA: 0s - loss: 0.0348 - sparse_categorical_accuracy: 0.9886\n",
            "Epoch 14: val_sparse_categorical_accuracy did not improve from 0.96728\n",
            "329/329 [==============================] - 18s 56ms/step - loss: 0.0354 - sparse_categorical_accuracy: 0.9885 - val_loss: 0.1267 - val_sparse_categorical_accuracy: 0.9589 - lr: 0.0010\n",
            "Changing learning rate to 0.0004\n",
            "Epoch 15/50\n",
            "329/329 [==============================] - ETA: 0s - loss: 0.0214 - sparse_categorical_accuracy: 0.9938\n",
            "Epoch 15: val_sparse_categorical_accuracy improved from 0.96728 to 0.97184, saving model to model-mfccs-RNN.h5\n",
            "329/329 [==============================] - 22s 68ms/step - loss: 0.0214 - sparse_categorical_accuracy: 0.9938 - val_loss: 0.1155 - val_sparse_categorical_accuracy: 0.9718 - lr: 4.0000e-04\n",
            "Changing learning rate to 0.0004\n",
            "Epoch 16/50\n",
            "  1/329 [..............................] - ETA: 14s - loss: 0.0017 - sparse_categorical_accuracy: 1.0000"
          ]
        },
        {
          "name": "stderr",
          "output_type": "stream",
          "text": [
            "/usr/local/lib/python3.10/dist-packages/keras/src/engine/training.py:3103: UserWarning: You are saving your model as an HDF5 file via `model.save()`. This file format is considered legacy. We recommend using instead the native Keras format, e.g. `model.save('my_model.keras')`.\n",
            "  saving_api.save_model(\n"
          ]
        },
        {
          "name": "stdout",
          "output_type": "stream",
          "text": [
            "328/329 [============================>.] - ETA: 0s - loss: 0.0137 - sparse_categorical_accuracy: 0.9950\n",
            "Epoch 16: val_sparse_categorical_accuracy did not improve from 0.97184\n",
            "329/329 [==============================] - 22s 66ms/step - loss: 0.0137 - sparse_categorical_accuracy: 0.9951 - val_loss: 0.1240 - val_sparse_categorical_accuracy: 0.9711 - lr: 4.0000e-04\n",
            "Changing learning rate to 0.0004\n",
            "Epoch 17/50\n",
            "329/329 [==============================] - ETA: 0s - loss: 0.0109 - sparse_categorical_accuracy: 0.9958\n",
            "Epoch 17: val_sparse_categorical_accuracy did not improve from 0.97184\n",
            "329/329 [==============================] - 21s 63ms/step - loss: 0.0109 - sparse_categorical_accuracy: 0.9958 - val_loss: 0.1344 - val_sparse_categorical_accuracy: 0.9680 - lr: 4.0000e-04\n",
            "Changing learning rate to 0.0004\n",
            "Epoch 18/50\n",
            "328/329 [============================>.] - ETA: 0s - loss: 0.0113 - sparse_categorical_accuracy: 0.9959\n",
            "Epoch 18: val_sparse_categorical_accuracy did not improve from 0.97184\n",
            "329/329 [==============================] - 19s 59ms/step - loss: 0.0113 - sparse_categorical_accuracy: 0.9959 - val_loss: 0.1322 - val_sparse_categorical_accuracy: 0.9703 - lr: 4.0000e-04\n",
            "Changing learning rate to 0.0004\n",
            "Epoch 19/50\n",
            "328/329 [============================>.] - ETA: 0s - loss: 0.0114 - sparse_categorical_accuracy: 0.9958\n",
            "Epoch 19: val_sparse_categorical_accuracy improved from 0.97184 to 0.97260, saving model to model-mfccs-RNN.h5\n",
            "329/329 [==============================] - 21s 65ms/step - loss: 0.0114 - sparse_categorical_accuracy: 0.9958 - val_loss: 0.1488 - val_sparse_categorical_accuracy: 0.9726 - lr: 4.0000e-04\n"
          ]
        },
        {
          "name": "stderr",
          "output_type": "stream",
          "text": [
            "/usr/local/lib/python3.10/dist-packages/keras/src/engine/training.py:3103: UserWarning: You are saving your model as an HDF5 file via `model.save()`. This file format is considered legacy. We recommend using instead the native Keras format, e.g. `model.save('my_model.keras')`.\n",
            "  saving_api.save_model(\n"
          ]
        },
        {
          "name": "stdout",
          "output_type": "stream",
          "text": [
            "Changing learning rate to 0.0004\n",
            "Epoch 20/50\n",
            "328/329 [============================>.] - ETA: 0s - loss: 0.0115 - sparse_categorical_accuracy: 0.9957\n",
            "Epoch 20: val_sparse_categorical_accuracy did not improve from 0.97260\n",
            "329/329 [==============================] - 21s 63ms/step - loss: 0.0116 - sparse_categorical_accuracy: 0.9956 - val_loss: 0.1545 - val_sparse_categorical_accuracy: 0.9665 - lr: 4.0000e-04\n",
            "Changing learning rate to 0.0004\n",
            "Epoch 21/50\n",
            "329/329 [==============================] - ETA: 0s - loss: 0.0108 - sparse_categorical_accuracy: 0.9952\n",
            "Epoch 21: val_sparse_categorical_accuracy did not improve from 0.97260\n",
            "329/329 [==============================] - 23s 69ms/step - loss: 0.0108 - sparse_categorical_accuracy: 0.9952 - val_loss: 0.1680 - val_sparse_categorical_accuracy: 0.9680 - lr: 4.0000e-04\n",
            "Changing learning rate to 0.0004\n",
            "Epoch 22/50\n",
            "329/329 [==============================] - ETA: 0s - loss: 0.0124 - sparse_categorical_accuracy: 0.9946\n",
            "Epoch 22: val_sparse_categorical_accuracy did not improve from 0.97260\n",
            "329/329 [==============================] - 23s 69ms/step - loss: 0.0124 - sparse_categorical_accuracy: 0.9946 - val_loss: 0.1710 - val_sparse_categorical_accuracy: 0.9650 - lr: 4.0000e-04\n",
            "Changing learning rate to 0.0004\n",
            "Epoch 23/50\n",
            "329/329 [==============================] - ETA: 0s - loss: 0.0114 - sparse_categorical_accuracy: 0.9953\n",
            "Epoch 23: val_sparse_categorical_accuracy did not improve from 0.97260\n",
            "329/329 [==============================] - 25s 75ms/step - loss: 0.0114 - sparse_categorical_accuracy: 0.9953 - val_loss: 0.1559 - val_sparse_categorical_accuracy: 0.9627 - lr: 4.0000e-04\n",
            "Changing learning rate to 0.0004\n",
            "Epoch 24/50\n",
            "328/329 [============================>.] - ETA: 0s - loss: 0.0110 - sparse_categorical_accuracy: 0.9957Restoring model weights from the end of the best epoch: 19.\n",
            "\n",
            "Epoch 24: val_sparse_categorical_accuracy did not improve from 0.97260\n",
            "329/329 [==============================] - 27s 82ms/step - loss: 0.0114 - sparse_categorical_accuracy: 0.9956 - val_loss: 0.1587 - val_sparse_categorical_accuracy: 0.9703 - lr: 4.0000e-04\n",
            "Epoch 24: early stopping\n"
          ]
        }
      ],
      "source": [
        "import math\n",
        "def step_decay(epoch):\n",
        "    initial_lrate = 0.001\n",
        "    drop = 0.4\n",
        "    epochs_drop = 15.0\n",
        "    lrate = initial_lrate * math.pow(drop,\n",
        "            math.floor((1+epoch)/epochs_drop))\n",
        "\n",
        "    if (lrate < 4e-5):\n",
        "        lrate = 4e-5\n",
        "\n",
        "    print('Changing learning rate to {}'.format(lrate))\n",
        "    return lrate\n",
        "\n",
        "model_name = 'model-mfccs-RNN.h5'\n",
        "lrate = LearningRateScheduler(step_decay)\n",
        "earlystopper = EarlyStopping(monitor='val_sparse_categorical_accuracy', patience=5,\n",
        "                             verbose=1, restore_best_weights=True)\n",
        "checkpointer = ModelCheckpoint(model_name, monitor='val_sparse_categorical_accuracy', verbose=1, save_best_only=True)\n",
        "\n",
        "results = model.fit(x_train, y_train, batch_size=32, epochs=50, validation_data=(x_val,y_val), use_multiprocessing=False,\n",
        "                    callbacks=[earlystopper, checkpointer, lrate])\n",
        "\n"
      ]
    },
    {
      "cell_type": "markdown",
      "metadata": {
        "id": "Vf94z9nydvkY"
      },
      "source": [
        "Plot the training history:"
      ]
    },
    {
      "cell_type": "code",
      "execution_count": 47,
      "metadata": {
        "colab": {
          "base_uri": "https://localhost:8080/",
          "height": 927
        },
        "id": "3bEpzoMvdyZ0",
        "outputId": "fc974950-b399-4580-8c30-8c8f500e0156"
      },
      "outputs": [
        {
          "data": {
            "image/png": "[encoded data removed]",
            "text/plain": [
              "<Figure size 640x480 with 1 Axes>"
            ]
          },
          "metadata": {},
          "output_type": "display_data"
        },
        {
          "data": {
            "image/png": "[encoded data removed]",
            "text/plain": [
              "<Figure size 640x480 with 1 Axes>"
            ]
          },
          "metadata": {},
          "output_type": "display_data"
        }
      ],
      "source": [
        "import matplotlib.pyplot as plt\n",
        "\n",
        "# summarize history for categorical accuracy\n",
        "plt.plot(results.history['sparse_categorical_accuracy'])\n",
        "plt.plot(results.history['val_sparse_categorical_accuracy'])\n",
        "plt.title('Categorical accuracy')\n",
        "plt.ylabel('accuracy')\n",
        "plt.xlabel('epoch')\n",
        "plt.legend(['train', 'val'], loc='upper left')\n",
        "plt.show()\n",
        "# summarize history for loss\n",
        "plt.plot(results.history['loss'])\n",
        "plt.plot(results.history['val_loss'])\n",
        "plt.title('model loss')\n",
        "plt.ylabel('loss')\n",
        "plt.xlabel('epoch')\n",
        "plt.legend(['train', 'val'], loc='upper left')\n",
        "plt.show()"
      ]
    },
    {
      "cell_type": "markdown",
      "metadata": {
        "id": "PYuOtQ6Tgg1Q"
      },
      "source": [
        "Load the previously saved weights:"
      ]
    },
    {
      "cell_type": "code",
      "execution_count": null,
      "metadata": {
        "id": "eIXAofSegKEB"
      },
      "outputs": [],
      "source": [
        "# load the previously saved weights\n",
        "model_name = 'model-mfccs-RNN.h5'\n",
        "model_path = os.path.join('/content/drive/MyDrive/PatientVoiceAI/saved_models', model_name)\n",
        "model.load_weights(model_path)"
      ]
    },
    {
      "cell_type": "markdown",
      "metadata": {
        "id": "avYLxu1Ref_T"
      },
      "source": [
        "Evaluate on the test set:"
      ]
    },
    {
      "cell_type": "code",
      "execution_count": 48,
      "metadata": {
        "colab": {
          "base_uri": "https://localhost:8080/"
        },
        "id": "grrXsocaeiG6",
        "outputId": "912cf80e-25f5-475c-d958-d34604514f69"
      },
      "outputs": [
        {
          "name": "stdout",
          "output_type": "stream",
          "text": [
            "Test loss: 0.17212656140327454\n",
            "Test accuracy: 0.9665399193763733\n"
          ]
        }
      ],
      "source": [
        "score = model.evaluate(x_test, y_test, verbose=0)\n",
        "print('Test loss:', score[0])\n",
        "print('Test accuracy:', score[1])"
      ]
    },
    {
      "cell_type": "markdown",
      "metadata": {
        "id": "I4XuXKsXfe8P"
      },
      "source": [
        "Perform predictions on the test set and calculate the confusion matrix:"
      ]
    },
    {
      "cell_type": "code",
      "execution_count": 49,
      "metadata": {
        "colab": {
          "base_uri": "https://localhost:8080/"
        },
        "id": "wMukudZPfCdR",
        "outputId": "f49aab2c-eef0-4051-ceae-f74b728e6b01"
      },
      "outputs": [
        {
          "name": "stdout",
          "output_type": "stream",
          "text": [
            "42/42 [==============================] - 3s 51ms/step\n",
            "[[549   4   8   0]\n",
            " [  7  81   6   0]\n",
            " [ 17   2 631   0]\n",
            " [  0   0   0  10]]\n"
          ]
        }
      ],
      "source": [
        "from sklearn.metrics import confusion_matrix\n",
        "\n",
        "y_pred = model.predict(x_test, verbose=1)\n",
        "y_pred = np.argmax(y_pred,1)\n",
        "cm = confusion_matrix(y_test, y_pred)\n",
        "print(cm)"
      ]
    },
    {
      "cell_type": "markdown",
      "metadata": {
        "id": "8wA0LtNWhNEY"
      },
      "source": [
        "Function to predict for an external audio:"
      ]
    },
    {
      "cell_type": "code",
      "execution_count": 50,
      "metadata": {
        "id": "VFKKjLXxhU0_"
      },
      "outputs": [],
      "source": [
        "classes = np.asarray(classes)\n",
        "\n",
        "def predict_framewise(x, chunksize=chunksize, model=model):\n",
        "    # preprocess the input audio\n",
        "    x = np.asarray(preprocess(x, chunksize)).astype('float32')\n",
        "    # feed it into the model to produce predictions\n",
        "    y_pred = model.predict(x)\n",
        "    y_pred_probs = np.max(y_pred, axis=1)   # the probability of the highest scoring class\n",
        "    y_pred_categorical = np.argmax(y_pred, axis=1)\n",
        "    y_pred_labels = classes[y_pred_categorical]   # the label of the highest scoring class\n",
        "    return y_pred_labels, y_pred_probs"
      ]
    },
    {
      "cell_type": "markdown",
      "metadata": {
        "id": "kUq1l-faoys3"
      },
      "source": [
        "A plotter to plot the prediction result for the audio:"
      ]
    },
    {
      "cell_type": "code",
      "execution_count": 51,
      "metadata": {
        "id": "keWzRMzwoybo"
      },
      "outputs": [],
      "source": [
        "import matplotlib.pyplot as plt\n",
        "import pandas as pd\n",
        "import numpy as np\n",
        "from scipy.ndimage import gaussian_filter\n",
        "\n",
        "class TimescalePlotter:\n",
        "    def __init__(self, time_values:list, label_values:list, prob_values:list, filename:str, gold_label:str, color_map={'coughing': 'red', 'sneezing': 'blue', 'speech': 'green', 'silence': 'grey'}):\n",
        "        data = {\n",
        "            'Time': time_values,\n",
        "            'Label': label_values,\n",
        "            'Probability': prob_values,\n",
        "        }\n",
        "        if len(time_values) != len(label_values):\n",
        "            print(len(time_values))\n",
        "            print(len(label_values))\n",
        "        self.df = pd.DataFrame(data)\n",
        "        self.color_map = color_map\n",
        "        self.intervals = self._get_intervals()\n",
        "        self.merged_intervals = self._merge_intervals()     # neglecting probs\n",
        "        self.title = \"Gold label: \"+gold_label\n",
        "        self.filename = filename[:-4]\n",
        "\n",
        "    def _merge_intervals(self):\n",
        "        merged_intervals = []\n",
        "        current_label = self.df['Label'].iloc[0]\n",
        "        start_time = self.df['Time'].iloc[0]\n",
        "\n",
        "        for i in range(1, len(self.df)):\n",
        "            if self.df['Label'].iloc[i] != current_label:\n",
        "                merged_intervals.append((start_time, self.df['Time'].iloc[i], current_label))\n",
        "                current_label = self.df['Label'].iloc[i]\n",
        "                start_time = self.df['Time'].iloc[i]\n",
        "\n",
        "        # Add the last interval\n",
        "        merged_intervals.append((start_time, self.df['Time'].iloc[-1] + 1, current_label))\n",
        "        return merged_intervals\n",
        "\n",
        "    def _get_intervals(self):\n",
        "        intervals = []\n",
        "        current_label = self.df['Label'].iloc[0]\n",
        "        current_prob = self.df['Probability'].iloc[0]\n",
        "        start_time = self.df['Time'].iloc[0]\n",
        "\n",
        "        for i in range(1, len(self.df)):\n",
        "            intervals.append((start_time, self.df['Time'].iloc[i], current_label, current_prob))\n",
        "            current_label = self.df['Label'].iloc[i]\n",
        "            current_prob = self.df['Probability'].iloc[i]\n",
        "            start_time = self.df['Time'].iloc[i]\n",
        "\n",
        "        # Add the last interval\n",
        "        intervals.append((start_time, self.df['Time'].iloc[-1] + 1, current_label, current_prob))\n",
        "        return intervals\n",
        "\n",
        "    def plot(self, figsize=(20, 2)):\n",
        "        fig, ax = plt.subplots(figsize=figsize)  # Adjust the height by setting figsize to (width, height)\n",
        "\n",
        "        ## Add colored intervals regardless of probabilities\n",
        "        # for start_time, end_time, label in self.merged_intervals:\n",
        "        #     ax.axvspan(start_time, end_time, color=self.color_map[label], alpha=0.3, label=label)\n",
        "\n",
        "        # Add colored intervals with transparencies corresponding to probabilities\n",
        "        for start_time, end_time, label, prob in self.intervals:\n",
        "            ax.axvspan(start_time, end_time, color=self.color_map[label], alpha=prob, label=label)\n",
        "\n",
        "        # Add dummy entries for labels not present in data\n",
        "        for label, color in self.color_map.items():\n",
        "            if label not in self.df['Label'].unique():\n",
        "                ax.axvspan(np.NaN, np.NaN, color=color, alpha=0.3, label=label)\n",
        "\n",
        "        # Formatting the plot\n",
        "        ax.set_xlim(self.df['Time'].min() - 1, self.df['Time'].max() + 2)  # Adjust x-axis limits\n",
        "        ax.set_ylim(0.5, 1.5)  # Adjust y-axis limits to focus on the labels\n",
        "        ax.set_xlabel('Time (seconds)')\n",
        "        ax.set_ylabel('Label')\n",
        "        ax.set_title(self.title)  # Set the plot title\n",
        "\n",
        "        # Customizing ticks and grid\n",
        "        ax.xaxis.set_major_locator(plt.MaxNLocator(10))  # Show up to 10 major ticks on the x-axis\n",
        "        ax.yaxis.set_visible(False)  # Hide y-axis\n",
        "        ax.grid(True, which='both', axis='x', linestyle='--', linewidth=0.5)\n",
        "\n",
        "        # Create a legend\n",
        "        handles, labels = ax.get_legend_handles_labels()\n",
        "        by_label = dict(zip(labels, handles))\n",
        "        ax.legend(by_label.values(), by_label.keys(), loc='upper right')\n",
        "\n",
        "        # Display the plot\n",
        "        plt.show()"
      ]
    },
    {
      "cell_type": "markdown",
      "metadata": {
        "id": "0VZ0_bK-p2Pn"
      },
      "source": [
        "Test an example of an external audio:"
      ]
    },
    {
      "cell_type": "code",
      "execution_count": 52,
      "metadata": {
        "colab": {
          "base_uri": "https://localhost:8080/",
          "height": 800
        },
        "id": "_dPTIA17pz5m",
        "outputId": "7fa27711-64bd-40a3-f41d-e3d1a7de2001"
      },
      "outputs": [
        {
          "name": "stdout",
          "output_type": "stream",
          "text": [
            "4/4 [==============================] - 3s 917ms/step\n",
            "['speech' 'speech' 'coughing' 'sneezing' 'speech' 'speech' 'speech'\n",
            " 'speech' 'speech' 'speech' 'coughing' 'speech' 'speech' 'speech' 'speech'\n",
            " 'coughing' 'speech' 'speech' 'speech' 'speech' 'coughing' 'coughing'\n",
            " 'speech' 'speech' 'coughing' 'coughing' 'coughing' 'speech' 'coughing'\n",
            " 'sneezing' 'coughing' 'sneezing' 'speech' 'speech' 'sneezing' 'coughing'\n",
            " 'speech' 'speech' 'coughing' 'speech' 'coughing' 'sneezing' 'coughing'\n",
            " 'sneezing' 'sneezing' 'sneezing' 'coughing' 'coughing' 'speech' 'speech'\n",
            " 'speech' 'speech' 'speech' 'speech' 'speech' 'speech' 'sneezing' 'speech'\n",
            " 'speech' 'speech' 'speech' 'coughing' 'speech' 'speech' 'speech'\n",
            " 'coughing' 'sneezing' 'speech' 'speech' 'coughing' 'speech' 'coughing'\n",
            " 'coughing' 'speech' 'coughing' 'speech' 'speech' 'coughing' 'speech'\n",
            " 'speech' 'speech' 'speech' 'sneezing' 'speech' 'speech' 'speech' 'speech'\n",
            " 'speech' 'speech' 'speech' 'coughing' 'speech' 'speech' 'speech' 'speech'\n",
            " 'speech' 'speech' 'speech' 'speech' 'speech' 'speech' 'speech' 'speech'\n",
            " 'speech' 'speech' 'silence' 'silence']\n",
            "[0.9999032  1.         0.60279256 0.9416003  0.9992692  0.6003055\n",
            " 0.99999917 0.9715996  0.9999939  0.9879787  0.9976871  0.8602894\n",
            " 0.99989784 0.99998844 0.9999999  0.9250631  0.99999917 0.889432\n",
            " 1.         0.99999845 0.99958736 0.48213848 0.99992263 0.9999994\n",
            " 0.9927532  0.99880207 0.45200172 0.86450213 0.9126784  0.8980385\n",
            " 0.99960107 0.38081437 0.69198775 0.9986481  0.98437065 0.9999846\n",
            " 0.9949745  0.99988484 0.98733044 0.7014495  0.9986193  0.99636453\n",
            " 0.59074074 0.9747307  0.92416096 0.9367909  0.9997702  0.8080448\n",
            " 0.9999944  0.9997003  0.99060506 0.99999356 0.99987006 0.99999857\n",
            " 0.5405816  0.97984344 0.998601   1.         0.9990508  0.9999999\n",
            " 0.99921703 0.7247885  0.99819785 0.9999776  0.9997147  0.9137527\n",
            " 0.7222552  0.9935679  0.9404962  0.5338117  0.9590761  0.6952686\n",
            " 0.99981624 0.89748687 0.7352491  0.99998546 1.         0.9877985\n",
            " 0.89126796 0.5037001  0.9999714  1.         0.46345922 0.9999919\n",
            " 0.9999008  0.9999999  0.9999982  0.99787736 0.95790166 0.99519956\n",
            " 0.7767369  0.9999945  1.         0.99419    1.         0.99999976\n",
            " 0.99999976 0.9999993  0.99996233 0.9999535  0.99936587 0.9934273\n",
            " 0.9999995  1.         0.9999999  0.4897084  0.9962406 ]\n"
          ]
        },
        {
          "data": {
            "image/png": "[encoded data removed]",
            "text/plain": [
              "<Figure size 2000x200 with 1 Axes>"
            ]
          },
          "metadata": {},
          "output_type": "display_data"
        }
      ],
      "source": [
        "# testing\n",
        "eg_label = \"mixed\"\n",
        "eg_filename = \"qPo0bymnsh0.wav\"\n",
        "eg_f = os.path.join(directory, eg_label, eg_filename)\n",
        "eg_x, eg_sr = librosa.load(eg_f)\n",
        "eg_y_labels, eg_y_probs = predict_framewise(eg_x)\n",
        "print(eg_y_labels)\n",
        "print(eg_y_probs)\n",
        "\n",
        "chunk_duration = 1.0   # in second\n",
        "\n",
        "eg_audio_duration = chunk_duration*len(eg_y_labels)\n",
        "eg_timestamps = np.linspace(start=0, stop=eg_audio_duration, num=len(eg_y_labels))\n",
        "plotter = TimescalePlotter(list(eg_timestamps), list(eg_y_labels), list(eg_y_probs), eg_filename, eg_label)\n",
        "plotter.plot()\n"
      ]
    }
  ],
  "metadata": {
    "accelerator": "GPU",
    "colab": {
      "gpuType": "T4",
      "provenance": []
    },
    "kernelspec": {
      "display_name": "Python 3",
      "name": "python3"
    },
    "language_info": {
      "name": "python"
    }
  },
  "nbformat": 4,
  "nbformat_minor": 0
}
