{
  "nbformat": 4,
  "nbformat_minor": 0,
  "metadata": {
    "colab": {
      "provenance": []
    },
    "kernelspec": {
      "name": "python3",
      "display_name": "Python 3"
    },
    "language_info": {
      "name": "python"
    }
  },
  "cells": [
    {
      "cell_type": "code",
      "source": [
        "#!pip install googletrans\n",
        "!pip install googletrans==4.0.0-rc1"
      ],
      "metadata": {
        "colab": {
          "base_uri": "https://localhost:8080/"
        },
        "id": "kAL_dF4JCFHC",
        "outputId": "660681ca-108a-4521-d8f8-05449f6a9e8d"
      },
      "execution_count": null,
      "outputs": [
        {
          "output_type": "stream",
          "name": "stdout",
          "text": [
            "Collecting googletrans==4.0.0-rc1\n",
            "  Downloading googletrans-4.0.0rc1.tar.gz (20 kB)\n",
            "  Preparing metadata (setup.py) ... \u001b[?25l\u001b[?25hdone\n",
            "Collecting httpx==0.13.3 (from googletrans==4.0.0-rc1)\n",
            "  Downloading httpx-0.13.3-py3-none-any.whl (55 kB)\n",
            "\u001b[2K     \u001b[90m━━━━━━━━━━━━━━━━━━━━━━━━━━━━━━━━━━━━━━━━\u001b[0m \u001b[32m55.1/55.1 kB\u001b[0m \u001b[31m2.5 MB/s\u001b[0m eta \u001b[36m0:00:00\u001b[0m\n",
            "\u001b[?25hRequirement already satisfied: certifi in /usr/local/lib/python3.10/dist-packages (from httpx==0.13.3->googletrans==4.0.0-rc1) (2024.2.2)\n",
            "Collecting hstspreload (from httpx==0.13.3->googletrans==4.0.0-rc1)\n",
            "  Downloading hstspreload-2024.5.1-py3-none-any.whl (1.1 MB)\n",
            "\u001b[2K     \u001b[90m━━━━━━━━━━━━━━━━━━━━━━━━━━━━━━━━━━━━━━━━\u001b[0m \u001b[32m1.1/1.1 MB\u001b[0m \u001b[31m8.6 MB/s\u001b[0m eta \u001b[36m0:00:00\u001b[0m\n",
            "\u001b[?25hRequirement already satisfied: sniffio in /usr/local/lib/python3.10/dist-packages (from httpx==0.13.3->googletrans==4.0.0-rc1) (1.3.1)\n",
            "Collecting chardet==3.* (from httpx==0.13.3->googletrans==4.0.0-rc1)\n",
            "  Downloading chardet-3.0.4-py2.py3-none-any.whl (133 kB)\n",
            "\u001b[2K     \u001b[90m━━━━━━━━━━━━━━━━━━━━━━━━━━━━━━━━━━━━━━━━\u001b[0m \u001b[32m133.4/133.4 kB\u001b[0m \u001b[31m9.9 MB/s\u001b[0m eta \u001b[36m0:00:00\u001b[0m\n",
            "\u001b[?25hCollecting idna==2.* (from httpx==0.13.3->googletrans==4.0.0-rc1)\n",
            "  Downloading idna-2.10-py2.py3-none-any.whl (58 kB)\n",
            "\u001b[2K     \u001b[90m━━━━━━━━━━━━━━━━━━━━━━━━━━━━━━━━━━━━━━━━\u001b[0m \u001b[32m58.8/58.8 kB\u001b[0m \u001b[31m5.4 MB/s\u001b[0m eta \u001b[36m0:00:00\u001b[0m\n",
            "\u001b[?25hCollecting rfc3986<2,>=1.3 (from httpx==0.13.3->googletrans==4.0.0-rc1)\n",
            "  Downloading rfc3986-1.5.0-py2.py3-none-any.whl (31 kB)\n",
            "Collecting httpcore==0.9.* (from httpx==0.13.3->googletrans==4.0.0-rc1)\n",
            "  Downloading httpcore-0.9.1-py3-none-any.whl (42 kB)\n",
            "\u001b[2K     \u001b[90m━━━━━━━━━━━━━━━━━━━━━━━━━━━━━━━━━━━━━━━━\u001b[0m \u001b[32m42.6/42.6 kB\u001b[0m \u001b[31m4.4 MB/s\u001b[0m eta \u001b[36m0:00:00\u001b[0m\n",
            "\u001b[?25hCollecting h11<0.10,>=0.8 (from httpcore==0.9.*->httpx==0.13.3->googletrans==4.0.0-rc1)\n",
            "  Downloading h11-0.9.0-py2.py3-none-any.whl (53 kB)\n",
            "\u001b[2K     \u001b[90m━━━━━━━━━━━━━━━━━━━━━━━━━━━━━━━━━━━━━━━━\u001b[0m \u001b[32m53.6/53.6 kB\u001b[0m \u001b[31m5.9 MB/s\u001b[0m eta \u001b[36m0:00:00\u001b[0m\n",
            "\u001b[?25hCollecting h2==3.* (from httpcore==0.9.*->httpx==0.13.3->googletrans==4.0.0-rc1)\n",
            "  Downloading h2-3.2.0-py2.py3-none-any.whl (65 kB)\n",
            "\u001b[2K     \u001b[90m━━━━━━━━━━━━━━━━━━━━━━━━━━━━━━━━━━━━━━━━\u001b[0m \u001b[32m65.0/65.0 kB\u001b[0m \u001b[31m7.2 MB/s\u001b[0m eta \u001b[36m0:00:00\u001b[0m\n",
            "\u001b[?25hCollecting hyperframe<6,>=5.2.0 (from h2==3.*->httpcore==0.9.*->httpx==0.13.3->googletrans==4.0.0-rc1)\n",
            "  Downloading hyperframe-5.2.0-py2.py3-none-any.whl (12 kB)\n",
            "Collecting hpack<4,>=3.0 (from h2==3.*->httpcore==0.9.*->httpx==0.13.3->googletrans==4.0.0-rc1)\n",
            "  Downloading hpack-3.0.0-py2.py3-none-any.whl (38 kB)\n",
            "Building wheels for collected packages: googletrans\n",
            "  Building wheel for googletrans (setup.py) ... \u001b[?25l\u001b[?25hdone\n",
            "  Created wheel for googletrans: filename=googletrans-4.0.0rc1-py3-none-any.whl size=17395 sha256=96cbde4e320612027fe1a551b667a41ba3162bf01d783da217f851bd4da78c21\n",
            "  Stored in directory: /root/.cache/pip/wheels/c0/59/9f/7372f0cf70160fe61b528532e1a7c8498c4becd6bcffb022de\n",
            "Successfully built googletrans\n",
            "Installing collected packages: rfc3986, hyperframe, hpack, h11, chardet, idna, hstspreload, h2, httpcore, httpx, googletrans\n",
            "  Attempting uninstall: chardet\n",
            "    Found existing installation: chardet 5.2.0\n",
            "    Uninstalling chardet-5.2.0:\n",
            "      Successfully uninstalled chardet-5.2.0\n",
            "  Attempting uninstall: idna\n",
            "    Found existing installation: idna 3.7\n",
            "    Uninstalling idna-3.7:\n",
            "      Successfully uninstalled idna-3.7\n",
            "Successfully installed chardet-3.0.4 googletrans-4.0.0rc1 h11-0.9.0 h2-3.2.0 hpack-3.0.0 hstspreload-2024.5.1 httpcore-0.9.1 httpx-0.13.3 hyperframe-5.2.0 idna-2.10 rfc3986-1.5.0\n"
          ]
        }
      ]
    },
    {
      "cell_type": "code",
      "execution_count": null,
      "metadata": {
        "colab": {
          "base_uri": "https://localhost:8080/"
        },
        "id": "N4HyEqbxB-DL",
        "outputId": "16be79fc-f50a-498c-9b8d-74ae8e13131a"
      },
      "outputs": [
        {
          "output_type": "stream",
          "name": "stdout",
          "text": [
            "Translated(src=vi, dest=en, text=This is an example of translating Vietnamese into English., pronunciation=None, extra_data=\"{'confiden...\")\n"
          ]
        }
      ],
      "source": [
        "from googletrans import Translator\n",
        "\n",
        "translator = Translator()\n",
        "vietnamese_text = \"Đây là một ví dụ về việc dịch tiếng Việt sang tiếng Anh.\"\n",
        "print(translator.translate(vietnamese_text))"
      ]
    },
    {
      "cell_type": "markdown",
      "source": [
        "# VietMed 12 Conversation"
      ],
      "metadata": {
        "id": "HTX03Ad9PENU"
      }
    },
    {
      "cell_type": "markdown",
      "source": [
        "## Host (131 audio samples)"
      ],
      "metadata": {
        "id": "U_BXIajNPJvI"
      }
    },
    {
      "cell_type": "code",
      "source": [
        "print(translator.translate(\"kinh ở vâng thưa quý vị thưa các bạn khi mà chúng ta nhắc đến đông trùng hạ thảo thì quý vị và các bạn nên nhớ đây là\"))"
      ],
      "metadata": {
        "colab": {
          "base_uri": "https://localhost:8080/"
        },
        "id": "Z5wDQRV_PXn5",
        "outputId": "571b6366-fde8-4857-a3c4-e010a200e7b6"
      },
      "execution_count": null,
      "outputs": [
        {
          "output_type": "stream",
          "name": "stdout",
          "text": [
            "Translated(src=vi, dest=en, text=Sutta in yes, you guys when we mention cordyceps, you and you should remember this is, pronunciation=None, extra_data=\"{'confiden...\")\n"
          ]
        }
      ]
    },
    {
      "cell_type": "code",
      "source": [
        "print(translator.translate(\"loại thảo dược có rất nhiều những công dụng tuyệt vời trong việc là chúng ta tăng cường sức đề kháng sức khỏe dùng\"))"
      ],
      "metadata": {
        "colab": {
          "base_uri": "https://localhost:8080/"
        },
        "id": "h_Vin4sLPvgm",
        "outputId": "e192f7ce-b993-4ece-d7e9-28ada580c54a"
      },
      "execution_count": null,
      "outputs": [
        {
          "output_type": "stream",
          "name": "stdout",
          "text": [
            "Translated(src=vi, dest=en, text=Herbs have many great uses in being we enhance health resistance, pronunciation=None, extra_data=\"{'confiden...\")\n"
          ]
        }
      ]
    },
    {
      "cell_type": "code",
      "source": [
        "print(translator.translate(\"tốt cho những người suy giảm chức năng gan thận phổi tim mạch thần kinh suy nhược những người bị tiểu đường bên cạnh\"))"
      ],
      "metadata": {
        "colab": {
          "base_uri": "https://localhost:8080/"
        },
        "id": "D2PwBb-fQl9L",
        "outputId": "24b9957b-c293-4bf7-f8f0-6a07b7714826"
      },
      "execution_count": null,
      "outputs": [
        {
          "output_type": "stream",
          "name": "stdout",
          "text": [
            "Translated(src=vi, dest=en, text=Good for people with impaired liver and liver function of nerve pulmonary pulmonary disease, pronunciation=None, extra_data=\"{'confiden...\")\n"
          ]
        }
      ]
    },
    {
      "cell_type": "code",
      "source": [
        "print(translator.translate(\"\"))"
      ],
      "metadata": {
        "id": "jIxSE8JEQsfr"
      },
      "execution_count": null,
      "outputs": []
    },
    {
      "cell_type": "code",
      "source": [
        "print(translator.translate(\"\"))"
      ],
      "metadata": {
        "id": "T25iMf8dQtIv"
      },
      "execution_count": null,
      "outputs": []
    },
    {
      "cell_type": "markdown",
      "source": [
        "## Doctor"
      ],
      "metadata": {
        "id": "xR-Ik9ZePOoF"
      }
    },
    {
      "cell_type": "code",
      "source": [
        "print(translator.translate(\"kính thưa quý vị khán giả đức phật có dạy rằng cái tài sản quý nhất của con\"))"
      ],
      "metadata": {
        "colab": {
          "base_uri": "https://localhost:8080/"
        },
        "id": "pCHYc1ErRZxI",
        "outputId": "79f35809-952b-43bc-90b4-3fa1e2ef34b4"
      },
      "execution_count": null,
      "outputs": [
        {
          "output_type": "stream",
          "name": "stdout",
          "text": [
            "Translated(src=vi, dest=en, text=Dear Buddhist audience taught that the most valuable asset of the child, pronunciation=None, extra_data=\"{'confiden...\")\n"
          ]
        }
      ]
    },
    {
      "cell_type": "code",
      "source": [
        "print(translator.translate(\"người ta là sức khỏe và trí tuệ có sức khỏe thì mới có trí tuệ và hiện nay thì\"))"
      ],
      "metadata": {
        "colab": {
          "base_uri": "https://localhost:8080/"
        },
        "id": "3gwJrNWZRrQa",
        "outputId": "b4315eac-e8de-4dca-92b7-f689d8172e5e"
      },
      "execution_count": null,
      "outputs": [
        {
          "output_type": "stream",
          "name": "stdout",
          "text": [
            "Translated(src=vi, dest=en, text=People are health and intellectual health to have intelligence and now, pronunciation=None, extra_data=\"{'confiden...\")\n"
          ]
        }
      ]
    },
    {
      "cell_type": "code",
      "source": [
        "print(translator.translate(\"có thể nói rằng là cái đời sống vật chất cái mức sống của người việt nam chúng ta\"))"
      ],
      "metadata": {
        "colab": {
          "base_uri": "https://localhost:8080/"
        },
        "id": "7s6izwuDR_yv",
        "outputId": "2c9368ce-8db4-4232-a5fe-98332de98c83"
      },
      "execution_count": null,
      "outputs": [
        {
          "output_type": "stream",
          "name": "stdout",
          "text": [
            "Translated(src=vi, dest=en, text=It can be said that the material life of our Vietnamese people, pronunciation=None, extra_data=\"{'confiden...\")\n"
          ]
        }
      ]
    },
    {
      "cell_type": "markdown",
      "source": [
        "## Patient 1"
      ],
      "metadata": {
        "id": "1NmIS-l7PQcm"
      }
    },
    {
      "cell_type": "code",
      "source": [
        "print(translator.translate(\"xin hỏi bác sĩ một là vấn đề về tiểu đường đó bác sĩ và hai về là là xương\"))"
      ],
      "metadata": {
        "colab": {
          "base_uri": "https://localhost:8080/"
        },
        "id": "g0MAlT5tSOVQ",
        "outputId": "24102ed7-69bb-447d-f389-b0040b03be5d"
      },
      "execution_count": null,
      "outputs": [
        {
          "output_type": "stream",
          "name": "stdout",
          "text": [
            "Translated(src=vi, dest=en, text=Please ask the doctor one is the problem of diabetes the doctor and the second is bone, pronunciation=None, extra_data=\"{'confiden...\")\n"
          ]
        }
      ]
    },
    {
      "cell_type": "code",
      "source": [
        "print(translator.translate(\"khớp về bây giờ tôi xin trình bày cái vấn đề tiểu đường trước nha bác sĩ cũng\"))"
      ],
      "metadata": {
        "colab": {
          "base_uri": "https://localhost:8080/"
        },
        "id": "OcOeaAEISQxg",
        "outputId": "5da9269d-8124-4964-cf21-f82f64df5e6c"
      },
      "execution_count": null,
      "outputs": [
        {
          "output_type": "stream",
          "name": "stdout",
          "text": [
            "Translated(src=vi, dest=en, text=Coming back now, I would like to present the problem of diabetes before the doctor, pronunciation=None, extra_data=\"{'confiden...\")\n"
          ]
        }
      ]
    },
    {
      "cell_type": "markdown",
      "source": [
        "## Patient 2"
      ],
      "metadata": {
        "id": "rrm9MgR6PTix"
      }
    },
    {
      "cell_type": "code",
      "source": [],
      "metadata": {
        "colab": {
          "base_uri": "https://localhost:8080/"
        },
        "id": "ny2LndrxMJO_",
        "outputId": "ffce0d0e-703b-4b1a-abd1-084c7d395064"
      },
      "execution_count": null,
      "outputs": [
        {
          "output_type": "stream",
          "name": "stdout",
          "text": [
            "Translated(src=vi, dest=en, text=Seeing what causes the main cause of the patient's stroke condition, the ratio is called, pronunciation=None, extra_data=\"{'confiden...\")\n"
          ]
        }
      ]
    },
    {
      "cell_type": "markdown",
      "source": [
        "# VietMed 18"
      ],
      "metadata": {
        "id": "ZdvCrTM5TASU"
      }
    },
    {
      "cell_type": "markdown",
      "source": [
        "## Patient 1"
      ],
      "metadata": {
        "id": "ugAEvHfUTGPE"
      }
    },
    {
      "cell_type": "code",
      "source": [
        "print(translator.translate(\"giải thích dạ xin kính chào bà con cũng như là khán giả ngồi xem trên truyền\"))"
      ],
      "metadata": {
        "colab": {
          "base_uri": "https://localhost:8080/"
        },
        "id": "h8VwteV5TISF",
        "outputId": "2707fca4-7daa-46cb-e6a1-c23fc834f380"
      },
      "execution_count": null,
      "outputs": [
        {
          "output_type": "stream",
          "name": "stdout",
          "text": [
            "Translated(src=vi, dest=en, text=Explain to welcome people as well as the audience sitting on the transmission, pronunciation=None, extra_data=\"{'confiden...\")\n"
          ]
        }
      ]
    },
    {
      "cell_type": "code",
      "source": [
        "print(translator.translate(\"mất răng mà mình không trồng lại mà trồng ở đây có nghĩa là chỉ trồng implant thì mới giữ được xương hàm ha\"))"
      ],
      "metadata": {
        "colab": {
          "base_uri": "https://localhost:8080/"
        },
        "id": "Yikgco4OTsIM",
        "outputId": "bb91872e-f67e-44ce-e5de-ef116259b6a1"
      },
      "execution_count": null,
      "outputs": [
        {
          "output_type": "stream",
          "name": "stdout",
          "text": [
            "Translated(src=vi, dest=en, text=Losing my teeth that I do not plant it but planted here means only growing implants to keep the jaw bone, pronunciation=None, extra_data=\"{'confiden...\")\n"
          ]
        }
      ]
    },
    {
      "cell_type": "code",
      "source": [
        "print(translator.translate(\"còn những cái phục hình răng khác ví dụ như răng tháo lắp hoặc là răng cố định trên\"))"
      ],
      "metadata": {
        "colab": {
          "base_uri": "https://localhost:8080/"
        },
        "id": "-t_uhnkWTu2P",
        "outputId": "7bf60c7f-5a17-4d5f-b204-8d08f7edcddd"
      },
      "execution_count": null,
      "outputs": [
        {
          "output_type": "stream",
          "name": "stdout",
          "text": [
            "Translated(src=vi, dest=en, text=There are other prostheses such as removable teeth or fixed teeth, pronunciation=None, extra_data=\"{'confiden...\")\n"
          ]
        }
      ]
    },
    {
      "cell_type": "code",
      "source": [
        "print(translator.translate(\"răng thật thì khi mà mình bị tiêu xương hàm mà mình đến khi mà muốn làm phục\"))"
      ],
      "metadata": {
        "colab": {
          "base_uri": "https://localhost:8080/"
        },
        "id": "Iss2uwUdT5xW",
        "outputId": "ef08e264-5bdf-4b13-e083-56ad8ce95d5a"
      },
      "execution_count": null,
      "outputs": [
        {
          "output_type": "stream",
          "name": "stdout",
          "text": [
            "Translated(src=vi, dest=en, text=The real teeth, when I have the jaw bone that I come to do when I want to do it, pronunciation=None, extra_data=\"{'confiden...\")\n"
          ]
        }
      ]
    },
    {
      "cell_type": "code",
      "source": [
        "print(translator.translate(\"không có được tiêu hóa tốt thì sẽ dẫn đến đau dạ dày rồi cũng như là hấp thu dinh dưỡng nó không tốt thì khi đó nó sẽ\"))"
      ],
      "metadata": {
        "colab": {
          "base_uri": "https://localhost:8080/"
        },
        "id": "xJQI88z0UaBk",
        "outputId": "fe252554-36ff-4d2a-fe55-fd8017564a99"
      },
      "execution_count": null,
      "outputs": [
        {
          "output_type": "stream",
          "name": "stdout",
          "text": [
            "Translated(src=vi, dest=en, text=If you do not have good digestion, it will lead to stomach pain as well as absorbing nutrients it is not good, then it will, pronunciation=None, extra_data=\"{'confiden...\")\n"
          ]
        }
      ]
    },
    {
      "cell_type": "code",
      "source": [
        "print(translator.translate(\"ảnh hưởng đến sức khỏe toàn thân của mình thì ngoài cái chuyện đó ra thì gián tiếp nữa là khi mà cái hàm xương hàm mà\"))"
      ],
      "metadata": {
        "colab": {
          "base_uri": "https://localhost:8080/"
        },
        "id": "qynVwx-rUN5Y",
        "outputId": "e13ad677-3fc5-42bc-b998-11b0da12d729"
      },
      "execution_count": null,
      "outputs": [
        {
          "output_type": "stream",
          "name": "stdout",
          "text": [
            "Translated(src=vi, dest=en, text=Affecting your whole body health, apart from that, it is indirectly when the jaw, pronunciation=None, extra_data=\"{'confiden...\")\n"
          ]
        }
      ]
    },
    {
      "cell_type": "markdown",
      "source": [
        "# VietMed 026\n",
        "\n",
        "VietMed 026 is the shortest conversation, with just over 2 minutes of audio. I plan to fully translate this to English, and input it to CHat-GPT to see how good the results are."
      ],
      "metadata": {
        "id": "2KfWASHLXW9_"
      }
    },
    {
      "cell_type": "code",
      "source": [
        "import json\n",
        "\n",
        "# Assuming your JSON data is stored in a variable called 'json_data'\n",
        "json_data = '''\n",
        "[\n",
        "  {\"text\": \"nhưng bài hôm nay cũng rất là quan trọng\", \"speaker_name\": \"VietMed_026\", \"file\": \"VietMed_026/50.0000_56.0000.ogg\", \"seq_name\": \"vietmed_corpus_test_v1/VietMed_026/VietMed_026/VietMed_026_0\", \"duration\": 6.0000},\n",
        "  {\"text\": \"mục tiêu duy nhất là về kiến thức thì sau khi\", \"speaker_name\": \"VietMed_026\", \"file\": \"VietMed_026/63.0000_68.0000.ogg\", \"seq_name\": \"vietmed_corpus_test_v1/VietMed_026/VietMed_026/VietMed_026_2\", \"duration\": 5.0000},\n",
        "  {\"text\": \"bệnh mô tả cảnh lâm sàng của bệnh cái thể điển hình và một cái thể nữa là sao\", \"speaker_name\": \"VietMed_026\", \"file\": \"VietMed_026/73.0000_81.0000.ogg\", \"seq_name\": \"vietmed_corpus_test_v1/VietMed_026/VietMed_026/VietMed_026_4\", \"duration\": 8.0000},\n",
        "  {\"text\": \"gia đình về việc phòng bệnh sốt rét nghĩ ba cái mục tiêu các em lưu ý về cách\", \"speaker_name\": \"VietMed_026\", \"file\": \"VietMed_026/103.0000_110.0000.ogg\", \"seq_name\": \"vietmed_corpus_test_v1/VietMed_026/VietMed_026/VietMed_026_6\", \"duration\": 7.0000},\n",
        "  {\"text\": \"mà cũng là cái đặc điểm chính của bệnh để sau này các em có thể trả lời cho mình\", \"speaker_name\": \"VietMed_026\", \"file\": \"VietMed_026/604.0000_610.0000.ogg\", \"seq_name\": \"vietmed_corpus_test_v1/VietMed_026/VietMed_026/VietMed_026_8\", \"duration\": 6.0000},\n",
        "  {\"text\": \"ký sinh trùng sốt rét gây bệnh ở người trong thực tế thì có hàng trăm loại ký\", \"speaker_name\": \"VietMed_026\", \"file\": \"VietMed_026/616.0000_623.0000.ogg\", \"seq_name\": \"vietmed_corpus_test_v1/VietMed_026/VietMed_026/VietMed_026_10\", \"duration\": 7.0000},\n",
        "  {\"text\": \"và việt nam chúng ta hiện nay chưa có thông tin về các loại hình thể\", \"speaker_name\": \"VietMed_026\", \"file\": \"VietMed_026/804.0000_815.0000.ogg\", \"seq_name\": \"vietmed_corpus_test_v1/VietMed_026/VietMed_026/VietMed_026_12\", \"duration\": 11.0000},\n",
        "  {\"text\": \"với bệnh viêm gan b không có người lành mang kháng nguyên của virus mà chỉ có\", \"speaker_name\": \"VietMed_026\", \"file\": \"VietMed_026/837.0000_844.0000.ogg\", \"seq_name\": \"vietmed_corpus_test_v1/VietMed_026/VietMed_026/VietMed_026_14\", \"duration\": 7.0000},\n",
        "  {\"text\": \"phương thức mẹ truyền cho con qua nhau thai và phương thức thứ ba là phương thức\", \"speaker_name\": \"VietMed_026\", \"file\": \"VietMed_026/945.0000_951.0000.ogg\", \"seq_name\": \"vietmed_corpus_test_v1/VietMed_026/VietMed_026/VietMed_026_16\", \"duration\": 6.0000},\n",
        "  {\"text\": \"tình dục lúc nào thì đối với phổ thông đối với y học thường thức\", \"speaker_name\": \"VietMed_026\", \"file\": \"VietMed_026/951.0000_958.0000.ogg\", \"seq_name\": \"vietmed_corpus_test_v1/VietMed_026/VietMed_026/VietMed_026_17\", \"duration\": 7.0000},\n",
        "  {\"text\": \"là lây truyền qua muỗi anopheles em nhớ cho\", \"speaker_name\": \"VietMed_026\", \"file\": \"VietMed_026/972.0000_978.0000.ogg\", \"seq_name\": \"vietmed_corpus_test_v1/VietMed_026/VietMed_026/VietMed_026_19\", \"duration\": 6.0000},\n",
        "  {\"text\": \"phần này phải giới thiệu em không cần phải quan tâm nhiều em có thể\", \"speaker_name\": \"VietMed_026\", \"file\": \"VietMed_026/991.0000_996.0000.ogg\", \"seq_name\": \"vietmed_corpus_test_v1/VietMed_026/VietMed_026/VietMed_026_21\", \"duration\": 5.0000},\n",
        "  {\"text\": \"muốn trao đổi với các em về đặc điểm lâm sàng chung của các loại sốt rét thì\", \"speaker_name\": \"VietMed_026\", \"file\": \"VietMed_026/1017.0000_1023.0000.ogg\", \"seq_name\": \"vietmed_corpus_test_v1/VietMed_026/VietMed_026/VietMed_026_23\", \"duration\": 6.0000},\n",
        "  {\"text\": \"mà có lẽ cho đến thời điểm này thì các em đã rất nhiều rõ về\", \"speaker_name\": \"VietMed_026\", \"file\": \"VietMed_026/1050.0000_1058.0000.ogg\", \"seq_name\": \"vietmed_corpus_test_v1/VietMed_026/VietMed_026/VietMed_026_25\", \"duration\": 8.0000},\n",
        "  {\"text\": \"nếu chúng ta bị nhiễm ký sinh trùng sốt rét và có cơn sốt thì đấy gọi là sốt rét in phát\", \"speaker_name\": \"VietMed_026\", \"file\": \"VietMed_026/1210.0000_1218.0000.ogg\", \"seq_name\": \"vietmed_corpus_test_v1/VietMed_026/VietMed_026/VietMed_026_27\", \"duration\": 8.0000},\n",
        "  {\"text\": \"một cái câu hỏi sau này em sẽ có trình bày trong bài thi thì các em lưu ý trong phần này nguyên nhân mà nó gây ra\", \"speaker_name\": \"VietMed_026\", \"file\": \"VietMed_026/1351.0000_1362.0000.ogg\", \"seq_name\": \"vietmed_corpus_test_v1/VietMed_026/VietMed_026/VietMed_026_29\", \"duration\": 11.0000},\n",
        "  {\"text\": \"trong hồng cầu nó còn sót lại từ đợt trước sau đó thì nó tiếp tục phát triển rất là\", \"speaker_name\": \"VietMed_026\", \"file\": \"VietMed_026/1369.0000_1377.0000.ogg\", \"seq_name\": \"vietmed_corpus_test_v1/VietMed_026/VietMed_026/VietMed_026_31\", \"duration\": 8.0000},\n",
        "  {\"text\": \"thì sau cái bài này em có thể mở cái môn\", \"speaker_name\": \"VietMed_026\", \"file\": \"VietMed_026/1383.0000_1389.0000.ogg\", \"seq_name\": \"vietmed_corpus_test_v1/VietMed_026/VietMed_026/VietMed_026_33\", \"duration\": 6.0000},\n",
        "  {\"text\": \"ký sinh trùng từ bài nói về ký sinh trùng sốt rét giờ đó em đã được học các\", \"speaker_name\": \"VietMed_026\", \"file\": \"VietMed_026/1389.0000_1395.0000.ogg\", \"seq_name\": \"vietmed_corpus_test_v1/VietMed_026/VietMed_026/VietMed_026_34\", \"duration\": 6.0000},\n",
        "  {\"text\": \"giai đoạn phát triển của ký sinh trùng ở trong muỗi cũng như trong máu người\", \"speaker_name\": \"VietMed_026\", \"file\": \"VietMed_026/1395.0000_1402.0000.ogg\", \"seq_name\": \"vietmed_corpus_test_v1/VietMed_026/VietMed_026/VietMed_026_35\", \"duration\": 7.0000},\n",
        "  {\"text\": \"bị cái thể vô tính này là nó phát triển trong máu người mà nó còn sót lại nó gây\", \"speaker_name\": \"VietMed_026\", \"file\": \"VietMed_026/1402.0000_1408.0000.ogg\", \"seq_name\": \"vietmed_corpus_test_v1/VietMed_026/VietMed_026/VietMed_026_36\", \"duration\": 6.0000}\n",
        "]\n",
        "\n",
        "'''\n",
        "\n",
        "# Parse JSON data\n",
        "data = json.loads(json_data)\n",
        "\n",
        "# Concatenate all city strings into one string\n",
        "cities_combined = \" \".join([obj[\"text\"] for obj in data])\n",
        "\n",
        "print(cities_combined)\n"
      ],
      "metadata": {
        "colab": {
          "base_uri": "https://localhost:8080/"
        },
        "id": "7JIFctaCaZks",
        "outputId": "3d0d2932-fefe-444f-9e5e-75ff2277bc1d"
      },
      "execution_count": null,
      "outputs": [
        {
          "output_type": "stream",
          "name": "stdout",
          "text": [
            "nhưng bài hôm nay cũng rất là quan trọng mục tiêu duy nhất là về kiến thức thì sau khi bệnh mô tả cảnh lâm sàng của bệnh cái thể điển hình và một cái thể nữa là sao gia đình về việc phòng bệnh sốt rét nghĩ ba cái mục tiêu các em lưu ý về cách mà cũng là cái đặc điểm chính của bệnh để sau này các em có thể trả lời cho mình ký sinh trùng sốt rét gây bệnh ở người trong thực tế thì có hàng trăm loại ký và việt nam chúng ta hiện nay chưa có thông tin về các loại hình thể với bệnh viêm gan b không có người lành mang kháng nguyên của virus mà chỉ có phương thức mẹ truyền cho con qua nhau thai và phương thức thứ ba là phương thức tình dục lúc nào thì đối với phổ thông đối với y học thường thức là lây truyền qua muỗi anopheles em nhớ cho phần này phải giới thiệu em không cần phải quan tâm nhiều em có thể muốn trao đổi với các em về đặc điểm lâm sàng chung của các loại sốt rét thì mà có lẽ cho đến thời điểm này thì các em đã rất nhiều rõ về nếu chúng ta bị nhiễm ký sinh trùng sốt rét và có cơn sốt thì đấy gọi là sốt rét in phát một cái câu hỏi sau này em sẽ có trình bày trong bài thi thì các em lưu ý trong phần này nguyên nhân mà nó gây ra trong hồng cầu nó còn sót lại từ đợt trước sau đó thì nó tiếp tục phát triển rất là thì sau cái bài này em có thể mở cái môn ký sinh trùng từ bài nói về ký sinh trùng sốt rét giờ đó em đã được học các giai đoạn phát triển của ký sinh trùng ở trong muỗi cũng như trong máu người bị cái thể vô tính này là nó phát triển trong máu người mà nó còn sót lại nó gây\n"
          ]
        }
      ]
    },
    {
      "cell_type": "code",
      "source": [
        "from googletrans import Translator\n",
        "\n",
        "translator = Translator()\n",
        "vietnamese_text = \"Đây là một ví dụ về việc dịch tiếng Việt sang tiếng Anh.\"\n",
        "print(translator.translate(cities_combined))"
      ],
      "metadata": {
        "colab": {
          "base_uri": "https://localhost:8080/"
        },
        "id": "k531ualNeWrF",
        "outputId": "a1965592-4957-47d3-9cb4-bf474c707b26"
      },
      "execution_count": null,
      "outputs": [
        {
          "output_type": "stream",
          "name": "stdout",
          "text": [
            "Translated(src=vi, dest=en, text=But today's article is also very important the only goal is about knowledge, after the disease describes the clinical scene of the typical body disease and another body is why the family about the prevention of malaria thinking three pieces.The objective of the children to note about how to be the main feature of the disease so that they can reply to the parasites of malaria in the future.We do not have information about types of hepatitis B without a healthy antigen of the virus, but only the mother method is transmitted to the baby through the placenta and the third method is the sexual method at any time.then for general medical medicine is the transmission through Anopheles mosquitoes I remember for this part, I have to introduce you without paying much attention that you may want to talk to you about the general clinical characteristics of all kinds.Malaria is probably up to this point, the children have a lot about if we have parasites of malaria and fever, it is called malaria printing a question later.Presented in the test, the children note that in this section the cause it caused in red blood cells it remains from the previous batch after that, it continues to develop very well, then after this article I can open the subject.The parasite from the lesson about the malaria parasites now I have learned the development stages of the parasite in mosquitoes as well as in the blood of the human being with this asexual body, it develops in the human blood.The remaining it causes, pronunciation=None, extra_data=\"{'confiden...\")\n"
          ]
        }
      ]
    }
  ]
}